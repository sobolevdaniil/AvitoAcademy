{
 "cells": [
  {
   "cell_type": "code",
   "execution_count": 33,
   "id": "79f27e4f-09a0-4bb8-b62e-c97c5924e4f2",
   "metadata": {},
   "outputs": [],
   "source": [
    "import pandas as pd\n",
    "import numpy as np\n",
    "import seaborn as sns\n",
    "import matplotlib.pyplot as plt \n",
    "import scipy.stats as sps"
   ]
  },
  {
   "cell_type": "markdown",
   "id": "c149aee8-5064-4b57-a2d6-4726d5b9910d",
   "metadata": {},
   "source": [
    "$H_0:$ выручка не увеличилась VS $H_1:$ увеличилась"
   ]
  },
  {
   "cell_type": "code",
   "execution_count": 13,
   "id": "e269a97b-b7ea-47c3-961a-93a80c210bed",
   "metadata": {},
   "outputs": [],
   "source": [
    "df = pd.read_csv('before_exp.csv')\n",
    "# До сентября"
   ]
  },
  {
   "cell_type": "code",
   "execution_count": 15,
   "id": "8ba34a99-b268-4b42-a851-820763ff73a6",
   "metadata": {},
   "outputs": [
    {
     "data": {
      "text/plain": [
       "array(['control', 'test_user', 'test_user_plus_comp'], dtype=object)"
      ]
     },
     "execution_count": 15,
     "metadata": {},
     "output_type": "execute_result"
    }
   ],
   "source": [
    "df['segment_group_exp'].unique()"
   ]
  },
  {
   "cell_type": "code",
   "execution_count": 16,
   "id": "7c4a76ab-a13d-4772-bc17-0cf9cdda7eee",
   "metadata": {},
   "outputs": [],
   "source": [
    "# control -- глобальный контроль, который не получает скидки вообще\n",
    "# test_user -- пользователи, которые сейчас получают скидку на X2, X5, X10, и до начала теста получали скидку\n",
    "# test_user_plus_comp -- пользователи, которые сейчас получают скидку на X2, X5, X10 и X15, X20, но до начала теста получали скидку на X2, X5, X10"
   ]
  },
  {
   "cell_type": "code",
   "execution_count": 18,
   "id": "20ee30a3-4d37-46fe-8d69-f7eedf29555f",
   "metadata": {},
   "outputs": [
    {
     "data": {
      "text/html": [
       "<div>\n",
       "<style scoped>\n",
       "    .dataframe tbody tr th:only-of-type {\n",
       "        vertical-align: middle;\n",
       "    }\n",
       "\n",
       "    .dataframe tbody tr th {\n",
       "        vertical-align: top;\n",
       "    }\n",
       "\n",
       "    .dataframe thead th {\n",
       "        text-align: right;\n",
       "    }\n",
       "</style>\n",
       "<table border=\"1\" class=\"dataframe\">\n",
       "  <thead>\n",
       "    <tr style=\"text-align: right;\">\n",
       "      <th></th>\n",
       "      <th>user_id</th>\n",
       "      <th>segment_group_exp</th>\n",
       "      <th>revenue</th>\n",
       "    </tr>\n",
       "  </thead>\n",
       "  <tbody>\n",
       "    <tr>\n",
       "      <th>0</th>\n",
       "      <td>472212000093</td>\n",
       "      <td>control</td>\n",
       "      <td>1164.00</td>\n",
       "    </tr>\n",
       "    <tr>\n",
       "      <th>1</th>\n",
       "      <td>281555750084</td>\n",
       "      <td>control</td>\n",
       "      <td>486.00</td>\n",
       "    </tr>\n",
       "    <tr>\n",
       "      <th>2</th>\n",
       "      <td>346392750028</td>\n",
       "      <td>test_user</td>\n",
       "      <td>3.57</td>\n",
       "    </tr>\n",
       "    <tr>\n",
       "      <th>3</th>\n",
       "      <td>308947500240</td>\n",
       "      <td>control</td>\n",
       "      <td>334.00</td>\n",
       "    </tr>\n",
       "    <tr>\n",
       "      <th>4</th>\n",
       "      <td>6607750188</td>\n",
       "      <td>test_user_plus_comp</td>\n",
       "      <td>5597.00</td>\n",
       "    </tr>\n",
       "    <tr>\n",
       "      <th>...</th>\n",
       "      <td>...</td>\n",
       "      <td>...</td>\n",
       "      <td>...</td>\n",
       "    </tr>\n",
       "    <tr>\n",
       "      <th>1331488</th>\n",
       "      <td>9123250136</td>\n",
       "      <td>test_user</td>\n",
       "      <td>135.00</td>\n",
       "    </tr>\n",
       "    <tr>\n",
       "      <th>1331489</th>\n",
       "      <td>835649500178</td>\n",
       "      <td>control</td>\n",
       "      <td>112.00</td>\n",
       "    </tr>\n",
       "    <tr>\n",
       "      <th>1331490</th>\n",
       "      <td>32500574</td>\n",
       "      <td>test_user</td>\n",
       "      <td>686.00</td>\n",
       "    </tr>\n",
       "    <tr>\n",
       "      <th>1331491</th>\n",
       "      <td>835725500129</td>\n",
       "      <td>test_user_plus_comp</td>\n",
       "      <td>4540.00</td>\n",
       "    </tr>\n",
       "    <tr>\n",
       "      <th>1331492</th>\n",
       "      <td>351782750122</td>\n",
       "      <td>test_user</td>\n",
       "      <td>316.00</td>\n",
       "    </tr>\n",
       "  </tbody>\n",
       "</table>\n",
       "<p>1331493 rows × 3 columns</p>\n",
       "</div>"
      ],
      "text/plain": [
       "              user_id    segment_group_exp  revenue\n",
       "0        472212000093              control  1164.00\n",
       "1        281555750084              control   486.00\n",
       "2        346392750028            test_user     3.57\n",
       "3        308947500240              control   334.00\n",
       "4          6607750188  test_user_plus_comp  5597.00\n",
       "...               ...                  ...      ...\n",
       "1331488    9123250136            test_user   135.00\n",
       "1331489  835649500178              control   112.00\n",
       "1331490      32500574            test_user   686.00\n",
       "1331491  835725500129  test_user_plus_comp  4540.00\n",
       "1331492  351782750122            test_user   316.00\n",
       "\n",
       "[1331493 rows x 3 columns]"
      ]
     },
     "execution_count": 18,
     "metadata": {},
     "output_type": "execute_result"
    }
   ],
   "source": [
    "df"
   ]
  },
  {
   "cell_type": "code",
   "execution_count": 19,
   "id": "70ef5c1c-b9fd-40f1-b9b8-41175a00e549",
   "metadata": {},
   "outputs": [
    {
     "name": "stderr",
     "output_type": "stream",
     "text": [
      "/root/Python3.7/lib/python3.7/site-packages/seaborn/distributions.py:2557: FutureWarning: `distplot` is a deprecated function and will be removed in a future version. Please adapt your code to use either `displot` (a figure-level function with similar flexibility) or `histplot` (an axes-level function for histograms).\n",
      "  warnings.warn(msg, FutureWarning)\n",
      "/root/Python3.7/lib/python3.7/site-packages/seaborn/distributions.py:2557: FutureWarning: `distplot` is a deprecated function and will be removed in a future version. Please adapt your code to use either `displot` (a figure-level function with similar flexibility) or `histplot` (an axes-level function for histograms).\n",
      "  warnings.warn(msg, FutureWarning)\n",
      "/root/Python3.7/lib/python3.7/site-packages/seaborn/distributions.py:2557: FutureWarning: `distplot` is a deprecated function and will be removed in a future version. Please adapt your code to use either `displot` (a figure-level function with similar flexibility) or `histplot` (an axes-level function for histograms).\n",
      "  warnings.warn(msg, FutureWarning)\n"
     ]
    },
    {
     "data": {
      "text/plain": [
       "<matplotlib.axes._subplots.AxesSubplot at 0x7fc968b32790>"
      ]
     },
     "execution_count": 19,
     "metadata": {},
     "output_type": "execute_result"
    },
    {
     "data": {
      "image/png": "[encoded data removed]",
      "text/plain": [
       "<Figure size 432x288 with 1 Axes>"
      ]
     },
     "metadata": {
      "needs_background": "light"
     },
     "output_type": "display_data"
    }
   ],
   "source": [
    "sns.distplot(df[df['segment_group_exp'] == 'control']['revenue'], label='control')\n",
    "sns.distplot(df[df['segment_group_exp'] == 'test_user_plus_comp']['revenue'], label='test_user_plus_comp')\n",
    "sns.distplot(df[df['segment_group_exp'] == 'test_user']['revenue'], label='test_user')\n"
   ]
  },
  {
   "cell_type": "code",
   "execution_count": 20,
   "id": "033b5525-d7a9-45de-b899-5d4bbaf68f03",
   "metadata": {},
   "outputs": [],
   "source": [
    "def clean_data(array):\n",
    "    q = np.quantile(array, 0.95)\n",
    "    return array[array < q]"
   ]
  },
  {
   "cell_type": "code",
   "execution_count": 23,
   "id": "ca5d200f-0e1c-47b7-81a5-c404d3ffce15",
   "metadata": {},
   "outputs": [
    {
     "name": "stderr",
     "output_type": "stream",
     "text": [
      "/root/Python3.7/lib/python3.7/site-packages/seaborn/distributions.py:2557: FutureWarning: `distplot` is a deprecated function and will be removed in a future version. Please adapt your code to use either `displot` (a figure-level function with similar flexibility) or `histplot` (an axes-level function for histograms).\n",
      "  warnings.warn(msg, FutureWarning)\n",
      "/root/Python3.7/lib/python3.7/site-packages/seaborn/distributions.py:2557: FutureWarning: `distplot` is a deprecated function and will be removed in a future version. Please adapt your code to use either `displot` (a figure-level function with similar flexibility) or `histplot` (an axes-level function for histograms).\n",
      "  warnings.warn(msg, FutureWarning)\n",
      "/root/Python3.7/lib/python3.7/site-packages/seaborn/distributions.py:2557: FutureWarning: `distplot` is a deprecated function and will be removed in a future version. Please adapt your code to use either `displot` (a figure-level function with similar flexibility) or `histplot` (an axes-level function for histograms).\n",
      "  warnings.warn(msg, FutureWarning)\n"
     ]
    },
    {
     "data": {
      "image/png": "[encoded data removed]",
      "text/plain": [
       "<Figure size 720x504 with 1 Axes>"
      ]
     },
     "metadata": {
      "needs_background": "light"
     },
     "output_type": "display_data"
    }
   ],
   "source": [
    "plt.figure(figsize=(10, 7))\n",
    "sns.distplot(clean_data(df[df['segment_group_exp'] == 'control']['revenue']), label='control')\n",
    "sns.distplot(clean_data(df[df['segment_group_exp'] == 'test_user_plus_comp']['revenue']), label='test_user_plus_comp')\n",
    "sns.distplot(clean_data(df[df['segment_group_exp'] == 'test_user']['revenue']), label='test_user')\n",
    "plt.legend()\n",
    "plt.show()"
   ]
  },
  {
   "cell_type": "code",
   "execution_count": 24,
   "id": "dc7cfd16-8f35-46a3-8663-3edac3c8dbe3",
   "metadata": {},
   "outputs": [],
   "source": [
    "# Подозрение, что контроль также получал скидку"
   ]
  },
  {
   "cell_type": "code",
   "execution_count": 29,
   "id": "03b39efb-205f-4628-8aaa-8bdda2d2d8d3",
   "metadata": {},
   "outputs": [
    {
     "data": {
      "text/plain": [
       "1973.7320473331908"
      ]
     },
     "execution_count": 29,
     "metadata": {},
     "output_type": "execute_result"
    }
   ],
   "source": [
    "control = np.array(df[df['segment_group_exp'] == 'control']['revenue'])\n",
    "control.mean()"
   ]
  },
  {
   "cell_type": "code",
   "execution_count": 30,
   "id": "4b52266b-eb7f-4b62-9515-93724aaba548",
   "metadata": {},
   "outputs": [
    {
     "data": {
      "text/plain": [
       "1901.648279489946"
      ]
     },
     "execution_count": 30,
     "metadata": {},
     "output_type": "execute_result"
    }
   ],
   "source": [
    "test_user = np.array(df[df['segment_group_exp'] == 'test_user']['revenue'])\n",
    "test_user.mean()"
   ]
  },
  {
   "cell_type": "code",
   "execution_count": 31,
   "id": "34b2063b-12ac-43cf-9163-3014f7215cdc",
   "metadata": {},
   "outputs": [
    {
     "data": {
      "text/plain": [
       "1917.6645842137475"
      ]
     },
     "execution_count": 31,
     "metadata": {},
     "output_type": "execute_result"
    }
   ],
   "source": [
    "test_user_plus_comp = np.array(df[df['segment_group_exp'] == 'test_user_plus_comp']['revenue'])\n",
    "test_user_plus_comp.mean()"
   ]
  },
  {
   "cell_type": "code",
   "execution_count": 37,
   "id": "93b0717f-57ef-4726-910d-b2a64799e613",
   "metadata": {},
   "outputs": [
    {
     "data": {
      "text/plain": [
       "Ttest_indResult(statistic=5.3963716620176125, pvalue=6.801959170496847e-08)"
      ]
     },
     "execution_count": 37,
     "metadata": {},
     "output_type": "execute_result"
    }
   ],
   "source": [
    "sps.ttest_ind(control, test_user)\n",
    "# Уточнить у создателя задачи, почему в контроле больше денег?"
   ]
  },
  {
   "cell_type": "code",
   "execution_count": 36,
   "id": "38d84138-d234-4522-b0af-10f7b96877e8",
   "metadata": {},
   "outputs": [
    {
     "data": {
      "text/plain": [
       "Ttest_indResult(statistic=0.5407106283705405, pvalue=0.5887071836787556)"
      ]
     },
     "execution_count": 36,
     "metadata": {},
     "output_type": "execute_result"
    }
   ],
   "source": [
    "sps.ttest_ind(test_user_plus_comp, test_user)"
   ]
  },
  {
   "cell_type": "code",
   "execution_count": 38,
   "id": "7ae53b7a-fdce-40b1-a910-03b561e10d45",
   "metadata": {},
   "outputs": [],
   "source": [
    "# как считать MDE? Подходят ли 2 месяца наблюдений?"
   ]
  },
  {
   "cell_type": "code",
   "execution_count": 39,
   "id": "1652bcab-07e5-48fc-bc85-889e610ff0bf",
   "metadata": {},
   "outputs": [
    {
     "data": {
      "text/plain": [
       "(455751, 455952)"
      ]
     },
     "execution_count": 39,
     "metadata": {},
     "output_type": "execute_result"
    }
   ],
   "source": [
    "len(test_user_plus_comp), len(test_user)"
   ]
  },
  {
   "cell_type": "code",
   "execution_count": 42,
   "id": "8af43885-95d2-46ad-ab02-15b646097638",
   "metadata": {},
   "outputs": [
    {
     "data": {
      "text/plain": [
       "48.7294799175123"
      ]
     },
     "execution_count": 42,
     "metadata": {},
     "output_type": "execute_result"
    }
   ],
   "source": [
    "alpha = 0.05\n",
    "power = 0.5\n",
    "\n",
    "# Можно добавить test_user_plus_comp + rand(0, 200), или test_user_plus_comp * 1.01\n",
    "S2_T = np.var(test_user_plus_comp) / len(test_user_plus_comp)\n",
    "S2_C = np.var(test_user) / len(test_user)\n",
    "\n",
    "S2 = S2_T + S2_C\n",
    "\n",
    "MDE = (sps.norm().ppf(1 - alpha) + sps.norm().ppf(power)) * np.sqrt(S2)\n",
    "MDE"
   ]
  },
  {
   "cell_type": "code",
   "execution_count": 44,
   "id": "42d841dc-9b0b-4353-850f-94cc3fb8ea06",
   "metadata": {},
   "outputs": [
    {
     "data": {
      "text/plain": [
       "48.7294799175123"
      ]
     },
     "execution_count": 44,
     "metadata": {},
     "output_type": "execute_result"
    }
   ],
   "source": [
    "sps.norm().ppf(1 - alpha) * np.sqrt(S2)"
   ]
  },
  {
   "cell_type": "code",
   "execution_count": 45,
   "id": "78a87142-5f96-456a-b4fd-d238ee44ec83",
   "metadata": {},
   "outputs": [],
   "source": [
    "# MDE = 49. Что это значит?\n",
    "\n",
    "# В эксперименте Эффект может быть больше 49 рублей, но вы его не задетектируете!\n",
    "# 1. сезонность: у вас просто изменилось поведение пользователей. Осенью больше покупают, дисперсия стала больше\n",
    "# 2. Не учтено, что есть некое влияение на тест во время эксперимента. Поэтому дисперсия может стать больше/меньше\n",
    "# Но! мы считаем, что эти 2 фактора не так сильно поменяют MDE. Поэтому ему можно верить."
   ]
  },
  {
   "cell_type": "markdown",
   "id": "45829139-edf4-4e2e-8251-5fec0f09d53b",
   "metadata": {},
   "source": [
    "-------"
   ]
  },
  {
   "cell_type": "code",
   "execution_count": 46,
   "id": "1dd32ef6-c80e-442c-97ba-388015da94ec",
   "metadata": {},
   "outputs": [],
   "source": [
    "# с сентября\n",
    "exp_df = pd.read_csv('exp.csv')"
   ]
  },
  {
   "cell_type": "code",
   "execution_count": 57,
   "id": "157cea7c-63ea-4fc5-bcdf-f07a3b54e0cc",
   "metadata": {},
   "outputs": [
    {
     "data": {
      "text/plain": [
       "2048.052529526669"
      ]
     },
     "execution_count": 57,
     "metadata": {},
     "output_type": "execute_result"
    }
   ],
   "source": [
    "control = np.array(exp_df[exp_df['segment_group_exp'] == 'control']['revenue'])\n",
    "control.mean()"
   ]
  },
  {
   "cell_type": "code",
   "execution_count": 58,
   "id": "4cf5e4a1-4f31-495d-91b3-6dd843364ab7",
   "metadata": {},
   "outputs": [
    {
     "data": {
      "text/plain": [
       "2045.1728440713052"
      ]
     },
     "execution_count": 58,
     "metadata": {},
     "output_type": "execute_result"
    }
   ],
   "source": [
    "test_user = np.array(exp_df[exp_df['segment_group_exp'] == 'test_user']['revenue'])\n",
    "test_user.mean()"
   ]
  },
  {
   "cell_type": "code",
   "execution_count": 59,
   "id": "8968de9f-d941-4b5d-a976-49b86b608c78",
   "metadata": {},
   "outputs": [
    {
     "data": {
      "text/plain": [
       "2072.3358066795254"
      ]
     },
     "execution_count": 59,
     "metadata": {},
     "output_type": "execute_result"
    }
   ],
   "source": [
    "test_user_plus_comp = np.array(exp_df[exp_df['segment_group_exp'] == 'test_user_plus_comp']['revenue'])\n",
    "test_user_plus_comp.mean()"
   ]
  },
  {
   "cell_type": "code",
   "execution_count": 60,
   "id": "6f781aba-9db1-4c16-ab5b-caf210c4fa1d",
   "metadata": {},
   "outputs": [
    {
     "data": {
      "text/plain": [
       "Ttest_indResult(statistic=1.6095183750034618, pvalue=0.05375169330820853)"
      ]
     },
     "execution_count": 60,
     "metadata": {},
     "output_type": "execute_result"
    }
   ],
   "source": [
    "sps.ttest_ind(test_user_plus_comp, test_user, alternative='greater')"
   ]
  },
  {
   "cell_type": "code",
   "execution_count": 61,
   "id": "5694c9bb-bbc7-4c28-b773-6a86e2aab461",
   "metadata": {},
   "outputs": [
    {
     "data": {
      "text/plain": [
       "27.762616910124894"
      ]
     },
     "execution_count": 61,
     "metadata": {},
     "output_type": "execute_result"
    }
   ],
   "source": [
    "S2_T = np.var(test_user_plus_comp) / len(test_user_plus_comp)\n",
    "S2_C = np.var(test_user) / len(test_user)\n",
    "\n",
    "S2 = S2_T + S2_C\n",
    "\n",
    "MDE = (sps.norm().ppf(1 - alpha) + sps.norm().ppf(power)) * np.sqrt(S2)\n",
    "MDE"
   ]
  },
  {
   "cell_type": "code",
   "execution_count": 53,
   "id": "6677e5a1-4dc2-497a-852c-7419817b1873",
   "metadata": {},
   "outputs": [],
   "source": [
    "from statsmodels.stats.api import CompareMeans, DescrStatsW"
   ]
  },
  {
   "cell_type": "code",
   "execution_count": 55,
   "id": "665b493f-bb73-406c-ba27-e2c454aa7382",
   "metadata": {},
   "outputs": [
    {
     "name": "stdout",
     "output_type": "stream",
     "text": [
      "(-5.918329236990353, 60.244254453428816)\n"
     ]
    }
   ],
   "source": [
    "\n",
    "cm = CompareMeans(DescrStatsW(test_user_plus_comp), DescrStatsW(test_user))\n",
    "print(cm.tconfint_diff(usevar='unequal'))"
   ]
  },
  {
   "cell_type": "markdown",
   "id": "9ce798f0-b22a-4724-a34e-1d51d001d8ba",
   "metadata": {},
   "source": [
    "Мораль: скидка не принесла эффекта. По крайней мере текущими методами."
   ]
  }
 ],
 "metadata": {
  "kernelspec": {
   "display_name": "Python3.7",
   "language": "python",
   "name": "python3.7"
  },
  "language_info": {
   "codemirror_mode": {
    "name": "ipython",
    "version": 3
   },
   "file_extension": ".py",
   "mimetype": "text/x-python",
   "name": "python",
   "nbconvert_exporter": "python",
   "pygments_lexer": "ipython3",
   "version": "3.7.5"
  }
 },
 "nbformat": 4,
 "nbformat_minor": 5
}
