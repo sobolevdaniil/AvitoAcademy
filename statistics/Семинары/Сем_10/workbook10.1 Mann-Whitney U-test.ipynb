{
 "cells": [
  {
   "cell_type": "code",
   "execution_count": 3,
   "metadata": {},
   "outputs": [],
   "source": [
    "from scipy import stats\n",
    "import numpy\n",
    "import matplotlib.pyplot as pyplot\n",
    "from statsmodels.stats.weightstats import ttest_ind"
   ]
  },
  {
   "cell_type": "code",
   "execution_count": 4,
   "metadata": {},
   "outputs": [],
   "source": [
    "distrA = stats.norm(loc=1, scale=1)\n",
    "distrB = stats.norm(loc=2, scale=1)"
   ]
  },
  {
   "cell_type": "code",
   "execution_count": 9,
   "metadata": {},
   "outputs": [
    {
     "data": {
      "image/png": "[encoded data removed]",
      "text/plain": [
       "<Figure size 432x288 with 1 Axes>"
      ]
     },
     "metadata": {
      "needs_background": "light"
     },
     "output_type": "display_data"
    }
   ],
   "source": [
    "x_axis = numpy.arange(-2, 5, 0.01)\n",
    "\n",
    "\n",
    "pdfA = [distrA.pdf(x=x) for x in x_axis]\n",
    "pdfB = [distrB.pdf(x=x) for x in x_axis]\n",
    "\n",
    "\n",
    "fig, ax = pyplot.subplots(1, 1)\n",
    "\n",
    "ax.plot(x_axis, pdfA, 'r-', linewidth=1.0, label='pdfA')\n",
    "ax.plot(x_axis, pdfB, 'b-', linewidth=1.0, label='pdfB')\n",
    "\n",
    "ax.legend(loc='best', frameon=True)\n",
    "pyplot.show()"
   ]
  },
  {
   "cell_type": "code",
   "execution_count": 10,
   "metadata": {},
   "outputs": [],
   "source": [
    "numpy.random.seed(102)\n",
    "sampleA = list(distrA.rvs(size=30))\n",
    "sampleB = list(distrB.rvs(size=30))"
   ]
  },
  {
   "cell_type": "code",
   "execution_count": 11,
   "metadata": {},
   "outputs": [
    {
     "data": {
      "text/plain": [
       "[2.668068295330041,\n",
       " 1.9258618159721244,\n",
       " 2.057996774523021,\n",
       " 0.07966098625086515,\n",
       " 2.299748465698081,\n",
       " 1.3311830124378203,\n",
       " 0.49015503210000777,\n",
       " 0.09690108145802379,\n",
       " 0.8699836272776194,\n",
       " -1.238203491279593,\n",
       " 1.9731648808643085,\n",
       " 0.9758151879432239,\n",
       " 0.5150722464730657,\n",
       " -0.10926435778794974,\n",
       " 0.4410252350263766,\n",
       " 2.042386573297171,\n",
       " -0.7122627051288719,\n",
       " 1.1361198859401953,\n",
       " 0.5355560109291897,\n",
       " 1.050979839345272,\n",
       " 2.4478987114030124,\n",
       " 1.5931384765383794,\n",
       " 0.24438431706108832,\n",
       " 0.37283446620527994,\n",
       " 1.8840348851742916,\n",
       " 1.1627177554108992,\n",
       " -1.502812865504238,\n",
       " 1.410790990613312,\n",
       " 1.7287504062808967,\n",
       " 1.0291401975423198]"
      ]
     },
     "execution_count": 11,
     "metadata": {},
     "output_type": "execute_result"
    }
   ],
   "source": [
    "sampleA"
   ]
  },
  {
   "cell_type": "code",
   "execution_count": 12,
   "metadata": {},
   "outputs": [
    {
     "data": {
      "text/plain": [
       "[1.7089475415531687,\n",
       " 2.3142930774833714,\n",
       " 2.997189682643686,\n",
       " 5.428562933868287,\n",
       " 1.4214326506228363,\n",
       " 1.7958369943434334,\n",
       " 0.1328313428686212,\n",
       " 3.443433945783731,\n",
       " 2.403380035384565,\n",
       " 1.3092345997983164,\n",
       " 3.172287463495497,\n",
       " 0.42887159609218717,\n",
       " 2.8019923092217547,\n",
       " 1.4280271380249927,\n",
       " 3.5533937120121477,\n",
       " 2.7012199793680898,\n",
       " 3.0149926771961866,\n",
       " 1.8819580354940142,\n",
       " 0.9361090526003375,\n",
       " 3.176691200509935,\n",
       " 3.3476194394146184,\n",
       " 1.2056999556326464,\n",
       " 0.7200569686793563,\n",
       " 2.556752762535625,\n",
       " 1.9515962788550656,\n",
       " 2.234364308041848,\n",
       " 1.0163429114842202,\n",
       " 3.0930050553495354,\n",
       " 0.7487039712007708,\n",
       " 3.481599808920302]"
      ]
     },
     "execution_count": 12,
     "metadata": {},
     "output_type": "execute_result"
    }
   ],
   "source": [
    "sampleB"
   ]
  },
  {
   "cell_type": "code",
   "execution_count": 21,
   "metadata": {},
   "outputs": [
    {
     "data": {
      "image/png": "[encoded data removed]",
      "text/plain": [
       "<Figure size 432x288 with 1 Axes>"
      ]
     },
     "metadata": {
      "needs_background": "light"
     },
     "output_type": "display_data"
    }
   ],
   "source": [
    "As = stats.rankdata(sampleA + sampleB)[0:len(sampleA)]\n",
    "Bs = stats.rankdata(sampleA + sampleB)[len(sampleA):]\n",
    "\n",
    "fig, ax = pyplot.subplots(1, 1)\n",
    "\n",
    "ax.plot(As, numpy.zeros(len(As)), 'ro', label='As')\n",
    "ax.plot(Bs, numpy.zeros(len(Bs)), 'bo', label='Bs')\n",
    "\n",
    "pyplot.axis('off')\n",
    "\n",
    "ax.legend(loc='best', frameon=True)\n",
    "pyplot.show()"
   ]
  },
  {
   "cell_type": "markdown",
   "metadata": {},
   "source": [
    "$U$ — число упорядоченных пар (красный < синий) в выборке."
   ]
  },
  {
   "cell_type": "code",
   "execution_count": 13,
   "metadata": {},
   "outputs": [
    {
     "name": "stdout",
     "output_type": "stream",
     "text": [
      "U = 702 / 900\n"
     ]
    }
   ],
   "source": [
    "U = 0\n",
    "for a in sampleA:\n",
    "    for b in sampleB:\n",
    "        if b > a:\n",
    "            U += 1\n",
    "        if b == a:\n",
    "            U += 0.5\n",
    "\n",
    "print(f'U = {U} / {len(sampleA) * len(sampleB)}')"
   ]
  },
  {
   "cell_type": "markdown",
   "metadata": {},
   "source": [
    "<br><br><br><br><br>"
   ]
  },
  {
   "cell_type": "code",
   "execution_count": 14,
   "metadata": {},
   "outputs": [
    {
     "data": {
      "text/plain": [
       "array([2., 6., 3., 5., 7., 4., 1.])"
      ]
     },
     "execution_count": 14,
     "metadata": {},
     "output_type": "execute_result"
    }
   ],
   "source": [
    "# rankdata(a)[i] -- порядковый номер, который элемент a[i] занимал бы в отсортированном массиве a\n",
    "\n",
    "a = [3, 12, 4, 10, 100, 5, 1]\n",
    "stats.rankdata(a)"
   ]
  },
  {
   "cell_type": "code",
   "execution_count": 15,
   "metadata": {},
   "outputs": [
    {
     "data": {
      "text/plain": [
       "702.0"
      ]
     },
     "execution_count": 15,
     "metadata": {},
     "output_type": "execute_result"
    }
   ],
   "source": [
    "sum(stats.rankdata(sampleA + sampleB)[len(sampleA):]) - (len(sampleB) * (len(sampleB) + 1) / 2)"
   ]
  },
  {
   "cell_type": "markdown",
   "metadata": {},
   "source": [
    "<br><br><br><br><br>"
   ]
  },
  {
   "cell_type": "markdown",
   "metadata": {},
   "source": [
    "Пусть $\\xi_A$ и $\\xi_B$ — непрерывные случайные величины.\n",
    "\n",
    "$H_0$: cлучайные величины $\\xi_A$ и $\\xi_B$ имеют одно распределение"
   ]
  },
  {
   "cell_type": "code",
   "execution_count": 16,
   "metadata": {},
   "outputs": [
    {
     "data": {
      "image/png": "[encoded data removed]",
      "text/plain": [
       "<Figure size 432x288 with 1 Axes>"
      ]
     },
     "metadata": {
      "needs_background": "light"
     },
     "output_type": "display_data"
    }
   ],
   "source": [
    "import math\n",
    "\n",
    "distrA = stats.norm(loc=0, scale=1)\n",
    "distrB = stats.norm(loc=0, scale=1)\n",
    "MonteCarlo_sample = []\n",
    "numpy.random.seed(102)\n",
    "\n",
    "for i in range(100000):\n",
    "    sampleA = list(distrA.rvs(size=5))\n",
    "    sampleB = list(distrB.rvs(size=5))\n",
    "    \n",
    "    MonteCarlo_sample.append(\n",
    "        sum(stats.rankdata(sampleA + sampleB)[0:len(sampleB)]) - (len(sampleB) * (len(sampleB) + 1) / 2)\n",
    "    )\n",
    "\n",
    "pyplot.hist(MonteCarlo_sample, bins=range(math.floor(min(MonteCarlo_sample)), math.ceil(max(MonteCarlo_sample)) + 1));"
   ]
  },
  {
   "cell_type": "code",
   "execution_count": 17,
   "metadata": {},
   "outputs": [
    {
     "data": {
      "image/png": "[encoded data removed]",
      "text/plain": [
       "<Figure size 432x288 with 1 Axes>"
      ]
     },
     "metadata": {
      "needs_background": "light"
     },
     "output_type": "display_data"
    }
   ],
   "source": [
    "import math\n",
    "\n",
    "distrA = stats.uniform(loc=0, scale=1)\n",
    "distrB = stats.uniform(loc=0, scale=1)\n",
    "MonteCarlo_sample = []\n",
    "numpy.random.seed(102)\n",
    "\n",
    "for i in range(100000):\n",
    "    sampleA = list(distrA.rvs(size=5))\n",
    "    sampleB = list(distrB.rvs(size=5))\n",
    "    \n",
    "    MonteCarlo_sample.append(\n",
    "        sum(stats.rankdata(sampleA + sampleB)[0:len(sampleB)]) - (len(sampleB) * (len(sampleB) + 1) / 2)\n",
    "    )\n",
    "\n",
    "pyplot.hist(MonteCarlo_sample, bins=range(math.floor(min(MonteCarlo_sample)), math.ceil(max(MonteCarlo_sample)) + 1));"
   ]
  },
  {
   "cell_type": "code",
   "execution_count": 10,
   "metadata": {},
   "outputs": [
    {
     "data": {
      "image/png": "[encoded data removed]",
      "text/plain": [
       "<Figure size 432x288 with 1 Axes>"
      ]
     },
     "metadata": {
      "needs_background": "light"
     },
     "output_type": "display_data"
    }
   ],
   "source": [
    "distrA = stats.norm.freeze(loc=1, scale=1)\n",
    "distrB = stats.norm.freeze(loc=1, scale=1)\n",
    "MonteCarlo_sample = []\n",
    "numpy.random.seed(102)\n",
    "\n",
    "for i in range(100000):\n",
    "    sampleA = list(distrA.rvs(size=30))\n",
    "    sampleB = list(distrB.rvs(size=30))\n",
    "    \n",
    "    MonteCarlo_sample.append(\n",
    "        sum(stats.rankdata(sampleA + sampleB)[0:len(sampleA)]) - (len(sampleA) * (len(sampleA) - 1) / 2) - len(sampleA)\n",
    "    )\n",
    "\n",
    "pyplot.hist(MonteCarlo_sample, bins=range(math.floor(min(MonteCarlo_sample)), math.ceil(max(MonteCarlo_sample)) + 1));"
   ]
  },
  {
   "cell_type": "code",
   "execution_count": null,
   "metadata": {},
   "outputs": [],
   "source": [
    "print(f'p-value is {2 * sum(s >= 702 for s in MonteCarlo_sample) / len(MonteCarlo_sample):.5f}')"
   ]
  },
  {
   "cell_type": "markdown",
   "metadata": {},
   "source": [
    "<br><br><br><br><br>"
   ]
  },
  {
   "cell_type": "code",
   "execution_count": 19,
   "metadata": {},
   "outputs": [
    {
     "data": {
      "text/plain": [
       "MannwhitneyuResult(statistic=702.0, pvalue=0.00010029074789121345)"
      ]
     },
     "execution_count": 19,
     "metadata": {},
     "output_type": "execute_result"
    }
   ],
   "source": [
    "distrA = stats.norm(loc=1, scale=1)\n",
    "distrB = stats.norm(loc=2, scale=1)\n",
    "\n",
    "numpy.random.seed(102)\n",
    "sampleA = list(distrA.rvs(size=30))\n",
    "sampleB = list(distrB.rvs(size=30))\n",
    "\n",
    "stats.mannwhitneyu(sampleB, sampleA, alternative='greater')"
   ]
  },
  {
   "cell_type": "code",
   "execution_count": null,
   "metadata": {},
   "outputs": [],
   "source": []
  }
 ],
 "metadata": {
  "kernelspec": {
   "display_name": "Python 3 (ipykernel)",
   "language": "python",
   "name": "python3"
  },
  "language_info": {
   "codemirror_mode": {
    "name": "ipython",
    "version": 3
   },
   "file_extension": ".py",
   "mimetype": "text/x-python",
   "name": "python",
   "nbconvert_exporter": "python",
   "pygments_lexer": "ipython3",
   "version": "3.7.4"
  }
 },
 "nbformat": 4,
 "nbformat_minor": 4
}
