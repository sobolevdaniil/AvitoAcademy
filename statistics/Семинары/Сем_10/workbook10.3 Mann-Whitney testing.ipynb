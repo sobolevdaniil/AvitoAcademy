{
 "cells": [
  {
   "cell_type": "code",
   "execution_count": 1,
   "metadata": {},
   "outputs": [],
   "source": [
    "from scipy.stats import mannwhitneyu, expon\n",
    "import numpy\n",
    "import matplotlib.pyplot as pyplot\n",
    "from my_montecarlo import run_montecarloAB"
   ]
  },
  {
   "cell_type": "code",
   "execution_count": 2,
   "metadata": {},
   "outputs": [],
   "source": [
    "def mannwhitneyu_for_matrices(A, B):\n",
    "    p_values = [] \n",
    "    \n",
    "    for i in range(A.shape[1]):\n",
    "        p_values.append(\n",
    "            mannwhitneyu(\n",
    "                B[:, i], \n",
    "                A[:, i], \n",
    "                alternative='two-sided'\n",
    "            )[1] # p-values are the second element of the tuple\n",
    "        )\n",
    "        \n",
    "    return numpy.array(p_values)"
   ]
  },
  {
   "cell_type": "code",
   "execution_count": 3,
   "metadata": {},
   "outputs": [
    {
     "name": "stdout",
     "output_type": "stream",
     "text": [
      "FPR is 0.114 ± 0.006\n"
     ]
    }
   ],
   "source": [
    "n_negatives, n_positives, l, r, p_values = run_montecarloAB(\n",
    "    # ExponShift5\n",
    "    latent_distrA=expon(scale=1), \n",
    "    latent_distrB=expon(scale=5, loc=-4), \n",
    "    sample_size=5,\n",
    "    n_tests=10000\n",
    ")\n",
    "print(f'FPR is {n_positives / (n_positives + n_negatives):.3f} ± {(r - l) / 2:.3f}')"
   ]
  },
  {
   "cell_type": "code",
   "execution_count": 4,
   "metadata": {},
   "outputs": [
    {
     "name": "stdout",
     "output_type": "stream",
     "text": [
      "FPR is 0.090 ± 0.006\n"
     ]
    }
   ],
   "source": [
    "n_negatives, n_positives, l, r, p_values = run_montecarloAB(\n",
    "    mannwhitneyu_for_matrices,\n",
    "    # ExponShift5\n",
    "    latent_distrA=expon(scale=1), \n",
    "    latent_distrB=expon(scale=5, loc=-4), \n",
    "    sample_size=5,\n",
    "    n_tests=10000\n",
    ")\n",
    "print(f'FPR is {n_positives / (n_positives + n_negatives):.3f} ± {(r - l) / 2:.3f}')"
   ]
  },
  {
   "cell_type": "code",
   "execution_count": null,
   "metadata": {},
   "outputs": [],
   "source": []
  }
 ],
 "metadata": {
  "kernelspec": {
   "display_name": "Python 3 (ipykernel)",
   "language": "python",
   "name": "python3"
  },
  "language_info": {
   "codemirror_mode": {
    "name": "ipython",
    "version": 3
   },
   "file_extension": ".py",
   "mimetype": "text/x-python",
   "name": "python",
   "nbconvert_exporter": "python",
   "pygments_lexer": "ipython3",
   "version": "3.7.4"
  }
 },
 "nbformat": 4,
 "nbformat_minor": 4
}
