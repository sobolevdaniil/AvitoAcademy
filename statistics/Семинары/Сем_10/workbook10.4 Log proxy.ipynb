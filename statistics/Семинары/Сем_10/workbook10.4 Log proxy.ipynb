{
 "cells": [
  {
   "cell_type": "code",
   "execution_count": 4,
   "metadata": {},
   "outputs": [],
   "source": [
    "import numpy\n",
    "from scipy.stats import uniform\n",
    "from statsmodels.stats.weightstats import CompareMeans, ttest_ind"
   ]
  },
  {
   "cell_type": "code",
   "execution_count": 117,
   "metadata": {},
   "outputs": [
    {
     "name": "stdout",
     "output_type": "stream",
     "text": [
      "[ 15.  40.  10.  15.  30.  65.  10.   0.  25.   5.   5.  10.  10.  40.\n",
      "  15.   5.   5. 110.   0.   5.]\n"
     ]
    }
   ],
   "source": [
    "checks_test = numpy.loadtxt('checks_test.csv', delimiter=',')\n",
    "print(checks_test[:20])"
   ]
  },
  {
   "cell_type": "code",
   "execution_count": 116,
   "metadata": {},
   "outputs": [
    {
     "name": "stdout",
     "output_type": "stream",
     "text": [
      "[ 0.  5.  5. 15.  5. 20.  5. 35.  5. 15.  5.  0. 10. 35. 15. 10. 30. 10.\n",
      " 20. 10.]\n"
     ]
    }
   ],
   "source": [
    "checks_control = numpy.loadtxt('checks_control.csv', delimiter=',')\n",
    "print(checks_control[:20])"
   ]
  },
  {
   "cell_type": "code",
   "execution_count": 119,
   "metadata": {},
   "outputs": [
    {
     "data": {
      "text/plain": [
       "(-0.31240373943457334, 2.582403739434573)"
      ]
     },
     "execution_count": 119,
     "metadata": {},
     "output_type": "execute_result"
    }
   ],
   "source": [
    "test_to_control = CompareMeans.from_data(\n",
    "    checks_test, \n",
    "    checks_control\n",
    ")\n",
    "test_to_control.tconfint_diff(0.10, 'two-sided', 'unequal')"
   ]
  },
  {
   "cell_type": "code",
   "execution_count": 121,
   "metadata": {},
   "outputs": [],
   "source": [
    "logchecks_test = numpy.log(checks_test)\n",
    "logchecks_control = numpy.log(checks_control)"
   ]
  },
  {
   "cell_type": "code",
   "execution_count": 123,
   "metadata": {},
   "outputs": [
    {
     "data": {
      "text/plain": [
       "(0.010391539300251745, 0.16908253324879227)"
      ]
     },
     "execution_count": 123,
     "metadata": {},
     "output_type": "execute_result"
    }
   ],
   "source": [
    "test_to_control = CompareMeans.from_data(\n",
    "    logchecks_test, \n",
    "    logchecks_control\n",
    ")\n",
    "test_to_control.tconfint_diff(0.10, 'two-sided', 'unequal')"
   ]
  },
  {
   "cell_type": "markdown",
   "metadata": {},
   "source": [
    "<br><br><br>"
   ]
  },
  {
   "cell_type": "code",
   "execution_count": 3,
   "metadata": {},
   "outputs": [],
   "source": [
    "from my_montecarlo import run_montecarloAB"
   ]
  },
  {
   "cell_type": "code",
   "execution_count": 25,
   "metadata": {},
   "outputs": [],
   "source": [
    "def student_larger(A, B):\n",
    "    \n",
    "    t_stats, p_values, _ = ttest_ind(\n",
    "        B + 1, \n",
    "        A + 1, \n",
    "        alternative='larger', \n",
    "        usevar='unequal'\n",
    "    )\n",
    "    \n",
    "    p_values_cleaned = numpy.where(\n",
    "        numpy.isnan(p_values), \n",
    "        0, \n",
    "        p_values\n",
    "    )        \n",
    "    \n",
    "    return p_values_cleaned"
   ]
  },
  {
   "cell_type": "code",
   "execution_count": 26,
   "metadata": {},
   "outputs": [],
   "source": [
    "def log_student_larger(A, B):\n",
    "    \n",
    "    t_stats, p_values, _ = ttest_ind(\n",
    "        numpy.log(B + 1), \n",
    "        numpy.log(A + 1), \n",
    "        alternative='larger', \n",
    "        usevar='unequal'\n",
    "    )\n",
    "    \n",
    "    p_values_cleaned = numpy.where(\n",
    "        numpy.isnan(p_values), \n",
    "        0, \n",
    "        p_values\n",
    "    )        \n",
    "    \n",
    "    return p_values_cleaned"
   ]
  },
  {
   "cell_type": "code",
   "execution_count": 37,
   "metadata": {},
   "outputs": [
    {
     "name": "stdout",
     "output_type": "stream",
     "text": [
      "FPR is 0.049 ± 0.004\n"
     ]
    }
   ],
   "source": [
    "n_negatives, n_positives, l, r, p_values = run_montecarloAB(\n",
    "    student_larger,\n",
    "    latent_distrA=uniform(0, 8),\n",
    "    latent_distrB=uniform(3, 2),\n",
    "    sample_size=20,\n",
    "    n_tests=10000\n",
    ")\n",
    "print(f'FPR is {n_positives / (n_positives + n_negatives):.3f} ± {(r - l) / 2:.3f}')"
   ]
  },
  {
   "cell_type": "code",
   "execution_count": 38,
   "metadata": {},
   "outputs": [
    {
     "name": "stdout",
     "output_type": "stream",
     "text": [
      "FPR is 0.296 ± 0.009\n"
     ]
    }
   ],
   "source": [
    "n_negatives, n_positives, l, r, p_values = run_montecarloAB(\n",
    "    log_student_larger,\n",
    "    latent_distrA=uniform(0, 8),\n",
    "    latent_distrB=uniform(3, 2),\n",
    "    sample_size=30,\n",
    "    n_tests=10000\n",
    ")\n",
    "print(f'FPR is {n_positives / (n_positives + n_negatives):.3f} ± {(r - l) / 2:.3f}')"
   ]
  },
  {
   "cell_type": "markdown",
   "metadata": {},
   "source": [
    "<br><br><br><br><br>"
   ]
  }
 ],
 "metadata": {
  "kernelspec": {
   "display_name": "Python 3 (ipykernel)",
   "language": "python",
   "name": "python3"
  },
  "language_info": {
   "codemirror_mode": {
    "name": "ipython",
    "version": 3
   },
   "file_extension": ".py",
   "mimetype": "text/x-python",
   "name": "python",
   "nbconvert_exporter": "python",
   "pygments_lexer": "ipython3",
   "version": "3.7.4"
  }
 },
 "nbformat": 4,
 "nbformat_minor": 4
}
