{
 "cells": [
  {
   "cell_type": "code",
   "execution_count": 18,
   "id": "82dfebd2-be83-41ec-ad34-524a64c12548",
   "metadata": {},
   "outputs": [],
   "source": [
    "import numpy as np\n",
    "import scipy.stats as sps"
   ]
  },
  {
   "cell_type": "markdown",
   "id": "bce57bca-339e-4173-81ab-f085394c560f",
   "metadata": {},
   "source": [
    "# Задачка с теста\n",
    "\n",
    "$Z(X) = \\sqrt{n}\\dfrac{\\overline X - \\mu_0}{\\sqrt{\\sigma^2}}$\n",
    "- $\\mu_0 = 0.4$\n",
    "- $\\overline X = 0.5$\n",
    "- $N = 500$\n",
    "- $\\sigma = \\sqrt{\\mu_0 * (1 - \\mu_0)} = \\sqrt{0.4 \\cdot 0.6}$"
   ]
  },
  {
   "cell_type": "code",
   "execution_count": 2,
   "id": "317e7cb9-920e-446e-a760-f2f1f2cfb8e7",
   "metadata": {},
   "outputs": [
    {
     "data": {
      "text/plain": [
       "4.564354645876384"
      ]
     },
     "execution_count": 2,
     "metadata": {},
     "output_type": "execute_result"
    }
   ],
   "source": [
    "np.sqrt(500) * (0.5 - 0.4) / (np.sqrt(0.4 * 0.6))"
   ]
  },
  {
   "cell_type": "markdown",
   "id": "66e24db5-7df6-4c2b-b74a-cfdeaf104f32",
   "metadata": {},
   "source": [
    "# Задача на семинар\n",
    "\n",
    "\n",
    "> Ты пришел в гости к другу. Вы стали играть в настолоку, в которой надо бросать кубик. Но вот незадача, вы кидаете кубик уже 20 раз и он все время падает то 5 то 6. И теперь у вас закрались подозрения, можно ли им играть?"
   ]
  },
  {
   "cell_type": "markdown",
   "id": "9ff125ba-a4a2-49a5-adfa-1b46aae19090",
   "metadata": {},
   "source": [
    "- 12 раз 5-ка\n",
    "- 8 раз 6-ка"
   ]
  },
  {
   "cell_type": "markdown",
   "id": "83f847f2-2606-4ea4-b5da-9893a0833698",
   "metadata": {},
   "source": [
    "## 1 вариант\n",
    "\n",
    "- $X_i$ &mdash; выпала 5 или 6. 1 если 5 или 6. 0 иначе\n",
    "\n",
    "$H_0: p = p_0 = 1/3\\ vs.\\ H_1: p > 1/3$"
   ]
  },
  {
   "cell_type": "code",
   "execution_count": null,
   "id": "34236dca-f653-48bc-ab84-20df3e07f6c0",
   "metadata": {},
   "outputs": [],
   "source": []
  },
  {
   "cell_type": "markdown",
   "id": "009fd887-902a-443e-9bd8-10dd0709fc03",
   "metadata": {
    "tags": []
   },
   "source": [
    "## 2 вариант\n",
    "\n",
    "- $Y_i$ &mdash; что выпало на кубике, от 1 до 6.\n",
    "\n",
    "$H_0: E Y = 3.5\\ vs.\\ H_0: E Y > 3.5$\n",
    "\n",
    "---\n",
    "### Решение\n",
    "\n",
    "$Z(Y) = \\sqrt{n}\\dfrac{\\overline Y - \\mu_0}{\\sqrt{\\sigma^2}}$\n",
    "- $\\mu_0 = 3.5$\n",
    "- $\\overline Y = 5.4$\n",
    "- $N = 20$\n",
    "- $\\sigma = ?$\n",
    "\n",
    "- 1 вариант подсчета:\n",
    "    - теоретический:\n",
    "    - $D Y = EY^2 - (E Y)^2$\n",
    "    - $(E Y)^2 = 3.5^2$ (так как кубик честный при $H_0$)\n",
    "    - $EY^2 = 1/6 \\sum_{i = 1}^6 i^2$\n",
    "    - практический:\n",
    "    - Написать функцию в Python\n",
    "- 2 вариант: воспользоваться встроенным питоном)\n",
    "    - TBD"
   ]
  },
  {
   "cell_type": "code",
   "execution_count": 46,
   "id": "dc0029c8-f7d8-4b5f-8414-017618f6fcdc",
   "metadata": {},
   "outputs": [
    {
     "data": {
      "text/plain": [
       "5.4"
      ]
     },
     "execution_count": 46,
     "metadata": {},
     "output_type": "execute_result"
    }
   ],
   "source": [
    "meanY = (12 * 5 + 8 * 6) / 20\n",
    "meanY"
   ]
  },
  {
   "cell_type": "code",
   "execution_count": 47,
   "id": "6be6f93e-2ba7-4c12-b2be-6537bce7ce44",
   "metadata": {},
   "outputs": [
    {
     "data": {
      "text/plain": [
       "15.166666666666666"
      ]
     },
     "execution_count": 47,
     "metadata": {},
     "output_type": "execute_result"
    }
   ],
   "source": [
    "EYY = 1/6 * np.sum(np.arange(1, 7, 1) ** 2)\n",
    "EYY"
   ]
  },
  {
   "cell_type": "code",
   "execution_count": 74,
   "id": "58c5f288-ca38-490d-9acf-3641299f0747",
   "metadata": {},
   "outputs": [
    {
     "data": {
      "text/plain": [
       "1.707825127659933"
      ]
     },
     "execution_count": 74,
     "metadata": {},
     "output_type": "execute_result"
    }
   ],
   "source": [
    "sigma = np.sqrt(EYY - 3.5**2)\n",
    "sigma"
   ]
  },
  {
   "cell_type": "code",
   "execution_count": 15,
   "id": "015f99dd-845d-4ca4-befd-e4c36ffcfe1f",
   "metadata": {},
   "outputs": [
    {
     "data": {
      "text/plain": [
       "4.975367897380628"
      ]
     },
     "execution_count": 15,
     "metadata": {},
     "output_type": "execute_result"
    }
   ],
   "source": [
    "Z = np.sqrt(20) * (meanY - 3.5) / sigma\n",
    "Z"
   ]
  },
  {
   "cell_type": "code",
   "execution_count": 19,
   "id": "aaa0062d-6b3f-4a2b-a999-68be2dc0648c",
   "metadata": {},
   "outputs": [
    {
     "data": {
      "text/plain": [
       "3.2561917273632446e-07"
      ]
     },
     "execution_count": 19,
     "metadata": {},
     "output_type": "execute_result"
    }
   ],
   "source": [
    "pvalue = 1 - sps.norm().cdf(Z)\n",
    "pvalue"
   ]
  },
  {
   "cell_type": "markdown",
   "id": "2d527aeb-33bb-4dce-9f1d-6f921148e28c",
   "metadata": {},
   "source": [
    "----\n",
    "\n",
    "- Почему Z тест плох?\n",
    "    - Непонятно, хватает ли 20 значений для использования Z-test. Работает ли ЦПТ?\n",
    "    \n",
    "- Почему текущие решения и через 1 вариант, и через 2 &mdash; они плохи?\n",
    "    - Мы переобучились под рельтат. *Нельзя ставить гипотезу после эксперимента!!!*\n",
    "\n",
    "\n",
    "\n",
    "### Что надо было сделать?\n",
    "\n",
    "- Надо было заново покидаь кубик. И на новых данных проверить, что кубик нечестный."
   ]
  },
  {
   "cell_type": "markdown",
   "id": "6a2f70be-59b8-44b0-8054-8f7c44cf3100",
   "metadata": {},
   "source": [
    "---- \n",
    "\n",
    "### Задача-подготовка\n",
    "- Есть лотерея, в ней 1 миллиард человек принимает участие. 1 победитель\n",
    "- В лотерее выиграл Петя, ваш знакомый.\n",
    "- Вы ставите гипотезу $H_0: p_{\\text{Пети}} = 1/1e9\\ vs.\\ H_1: p > 1/1e9$. Петя выиграл нечестно. $\\alpha = 0.01$\n",
    "    - Как проверить гипотезу?\n",
    "    - $T(X) = X$ - Петя победил, тогда 1, иначе 0\n",
    "    - Вероятность отвергнуть неверно нулевую гипотезу равна $1/1e9 < \\alpha$\n",
    "    - Значит $H_0$ отверглась. Петя победил не случайно\n",
    "- Проблема: мы ставим гипотезу после проведения эксперимента! Мы подглядели в будущее!\n",
    "\n",
    "\n",
    "\n",
    "2 Ситуации:\n",
    "- Выиграл Петя и вы ставите гипотезу, что он выиграл нечестно\n",
    "    - Если првоести 1000 лотерей, в каждом случае гипотеза для победителя отвергнется, хотя наша $\\alpha = 0.01$. Значит число неверных отвержений должно было быть не больше 10,\n",
    "    - Здесь число отвержений было бы равно 1000. А должно быть меньше 10. FPR = 1\n",
    "- До подведения итогов вы говорите, что победил Федя, и побеждает Федя.\n",
    "    - Вероятность до подведения итогов \"тыкнуть пальцем в небо\" и угадать победителя равна $1/1e9$. В случае большого числа экспериментов с лотереей, вы отвергнете нулевую гипотезу очень редко, в $1/1e9$ разе.\n",
    "    - я загадал число от 1 до миллиарда. угадайте его) \n",
    "        - СЛучайно вы угадали в первый раз, что это 337.\n",
    "        - Я снова провожу эксперимент с загадыванием числа. Какова вероятность угадать? Все также $1/1e9$.\n",
    "        - В случае 1000 экспериментов количество угадываний (мат. ож) составит 1000 * $1/1e9 < 1$. Это меньше 10, FRP < $\\alpha$\n",
    "    -  FPR =  $1/1e9$\n",
    "- Кому вы больше поверите?\n",
    "\n",
    "\n",
    "----"
   ]
  },
  {
   "cell_type": "markdown",
   "id": "b30e8cd9-839d-45f9-8bbf-c0d2bc5ddcf1",
   "metadata": {},
   "source": [
    "Сколько раз надо подкинуть кубик?)\n",
    "\n",
    "- Из формулы MDE:\n",
    "    - Узнаем, какой минимальный порог нам подходит. Например, 0.1. Если отличие меньше, чем 0.1 &mdash; нам ок не обнаружить эффект.\n",
    "    - Уточняем $\\alpha = 0.05$\n",
    "    - Уточняем $\\beta = 0.2$\n",
    "    - Проверяем гипотезу $H_0: E Y = 3.5\\ vs.\\ H_0: E Y > 3.5$\n",
    "    - И считаем число бросков перебором по циклу\n",
    "    \n",
    "    \n",
    "**Здесь во время семинара была ошибка!**\n",
    "    \n",
    "- Если верна $H_1$: $Z(X) = \\sqrt{n}\\dfrac{\\overline Y - \\mu_0}{\\sqrt{\\sigma_{H_0}^2}} \\overset{H_1}{\\sim} \\mathcal{N} \\left(MDE * \\dfrac{\\sqrt{n}}{\\sqrt{\\sigma_{H_0}^2}}, \\sigma_{H_1}^2 \\right)$, то в $1-\\beta$ проценте случаев для него отвергнется критерий. Проверяем мощность.\n",
    "    - Откуда мат. ожидание: При альтернативе $E(\\overline Y - \\mu_0) = MDE$ (мы это проверяем в гипотезе). А значит $E \\left(\\sqrt{n}\\dfrac{\\overline Y - \\mu_0}{\\sqrt{\\sigma_{H_0}^2}} \\right) = MDE * \\dfrac{\\sqrt{n}}{\\sqrt{\\sigma_{H_0}^2}}$\n",
    "    -  $\\sigma_{H_1}^2$ - некая поправка, так как в знаменателе Z стоит $\\sigma_{H_0}^2$\n",
    "        - Посчитаем, что $\\sigma_{H_1}^2 \\approx 1$\n",
    "        - Можно взять знания из прошедшего эксперимента.\n",
    "    - $\\dfrac{\\overline Y - \\mu_0}{\\sqrt{\\sigma_{H_0}^2}} \\overset{H_1}{\\sim} \\mathcal{N} \\left( \\dfrac{MDE}{\\sqrt{\\sigma_{H_0}^2}}, \\sigma_{H_1}^2 / n \\right)$\n",
    "- Если верна $H_0$: $Z(X) = \\sqrt{n}\\dfrac{\\overline Y - \\mu_0}{\\sqrt{\\sigma_{H_0}^2}} \\overset{H_0}{\\sim} \\mathcal{N}(0, 1)$, то критерий отвергнется для него в $\\alpha$ процентее случаев. Проверяем FPR.\n",
    "    - Откуда начинается критическая область для Z? Она начинается при $z_{1 - \\alpha}$. \n",
    "        - Из лекции $\\left\\{Z(X) \\geq z_{1 - \\alpha} \\right\\}$\n",
    "    - $\\dfrac{\\overline Y - \\mu_0}{\\sqrt{\\sigma_{H_0}^2}} \\overset{H_0}{\\sim} \\mathcal{N}(0, 1 / n)$"
   ]
  },
  {
   "cell_type": "markdown",
   "id": "5b109ec1-5ed6-4dca-9ede-cbd29a3f6a00",
   "metadata": {},
   "source": [
    "Z статистика больше critical_value в 1 - beta проценте случаев."
   ]
  },
  {
   "cell_type": "code",
   "execution_count": 89,
   "id": "081b5d11-b354-4961-8c4a-a5dfdea333b0",
   "metadata": {},
   "outputs": [
    {
     "name": "stdout",
     "output_type": "stream",
     "text": [
      "1800\n"
     ]
    }
   ],
   "source": [
    "alpha = 0.05\n",
    "beta = 0.2\n",
    "MDE = 0.1\n",
    "sigma_h1 = 1\n",
    "sigma_h0 = sigma\n",
    "\n",
    "for n in range(10, 10400, 10):\n",
    "    critical_value = sps.norm(loc=0, scale = 1 / np.sqrt(n)).ppf(1 - alpha)\n",
    "    N = 10000 # сколько раз мы генерируем H1 эксперимент\n",
    "    Z_without_n = sps.norm(loc = MDE / sigma_h0, scale = 1/np.sqrt(n)).rvs(N)\n",
    "    TPR = np.sum((Z_without_n > critical_value))\n",
    "    TPR /= N \n",
    "    if TPR > 1 - beta:\n",
    "        print(n)\n",
    "        break\n"
   ]
  },
  {
   "cell_type": "markdown",
   "id": "eb8bba2b-38be-4b6b-b245-5c0b990a7807",
   "metadata": {},
   "source": [
    "То есть надо кидать 1800 раз.\n",
    "\n",
    "Проверим теретически (из лекции про t-test):"
   ]
  },
  {
   "cell_type": "code",
   "execution_count": 90,
   "id": "9dceb381-09ff-47ba-8968-b31a09f58def",
   "metadata": {},
   "outputs": [
    {
     "data": {
      "text/plain": [
       "0.10009012214941032"
      ]
     },
     "execution_count": 90,
     "metadata": {},
     "output_type": "execute_result"
    }
   ],
   "source": [
    "(sps.norm().ppf(1-alpha) + sps.norm().ppf(1 - beta)) * sigma / np.sqrt(n)"
   ]
  },
  {
   "cell_type": "code",
   "execution_count": null,
   "id": "fef04bb9-661c-4387-9168-079db9125565",
   "metadata": {},
   "outputs": [],
   "source": []
  }
 ],
 "metadata": {
  "kernelspec": {
   "display_name": "Python 3 (ipykernel)",
   "language": "python",
   "name": "python3"
  },
  "language_info": {
   "codemirror_mode": {
    "name": "ipython",
    "version": 3
   },
   "file_extension": ".py",
   "mimetype": "text/x-python",
   "name": "python",
   "nbconvert_exporter": "python",
   "pygments_lexer": "ipython3",
   "version": "3.7.4"
  }
 },
 "nbformat": 4,
 "nbformat_minor": 5
}
