{
 "cells": [
  {
   "cell_type": "code",
   "execution_count": 2,
   "metadata": {},
   "outputs": [
    {
     "data": {
      "text/plain": [
       "0.6415140775914581"
      ]
     },
     "execution_count": 2,
     "metadata": {},
     "output_type": "execute_result"
    }
   ],
   "source": [
    "1 - (0.95) ** 20"
   ]
  },
  {
   "cell_type": "markdown",
   "metadata": {},
   "source": [
    "Поправка Бонферрони: \n",
    "\n",
    "Проверяя $m$ гипотез, использовать уровень значимости $\\frac{\\alpha}{m}$ вместо $\\alpha$"
   ]
  },
  {
   "cell_type": "markdown",
   "metadata": {},
   "source": [
    "$~$\n",
    "\n",
    "$~$\n",
    "\n",
    "$~$"
   ]
  },
  {
   "cell_type": "markdown",
   "metadata": {},
   "source": [
    "FWER = вероятность получить хотя бы 1 false positive при проверке $m$ гипотез = \n",
    "\n",
    "$$\n",
    "= \\mathbb{P}\\left(\\cup_{i = 1}^{m_0}\\left(p_i \\leqslant \\frac{\\alpha}{m}\\right)\\right) \n",
    "\\leqslant \\sum_{i = 1}^{m_0}\\mathbb{P}\\left(p_i \\leqslant \\frac{\\alpha}{m}\\right)\n",
    "= m_0 \\frac{\\alpha}{m}\n",
    "\\leqslant \\alpha\n",
    "$$\n",
    "\n",
    "($m_0$ — число справедливых гипотез $H_{i}^0$)"
   ]
  },
  {
   "cell_type": "markdown",
   "metadata": {},
   "source": [
    "$~$\n",
    "\n",
    "$~$\n",
    "\n",
    "$~$"
   ]
  },
  {
   "cell_type": "markdown",
   "metadata": {},
   "source": [
    "Аналогично для доверительных интервалов (поправка Данн-Бонферрони):\n",
    "    \n",
    "Если мы хотим построить $m$ доверительных интервалов так, чтобы вероятность ошибки хотя бы одного из них была не \n",
    "больше $\\alpha$, каждый нужно иметь уровень доверия $1-\\frac{\\alpha}{m}$.\n"
   ]
  },
  {
   "cell_type": "markdown",
   "metadata": {},
   "source": [
    "$~$\n",
    "\n",
    "$~$\n",
    "\n",
    "$~$"
   ]
  },
  {
   "cell_type": "markdown",
   "metadata": {},
   "source": [
    "Метод Холма-Бонферрони:\n",
    "\n",
    "Пусть $p_{(1)} \\leqslant \\ldots \\leqslant p_{(n)}$ — достигаемые уровни значимости $p_i$, упорядоченные по неубыванию, $H^0_{(1)}, \\ldots, H^0_{(n)}$ — соответствующие $p_{(i)}$ нулевые гипотезы.\n",
    "\n",
    "Шаг 1. Если $p_{(1)} \\geqslant \\frac{\\alpha}{n}$, принять гипотезы $H^0_{(1)}, \\ldots, H^0_{(n)}$ и остановиться. Иначе, если $p_{(1)} < \\frac{\\alpha}{n}$, отвергнуть гипотезу $H^0_{(1)}$ и продолжить проверку оставшихся гипотез на уровне значимости $\\frac{\\alpha}{n-1}$.\n",
    "\n",
    "Шаг 2. Если $p_{(2)} \\geqslant \\frac{\\alpha}{n-1}$, принять гипотезы $H^0_{(2)}, \\ldots, H^0_{(n)}$ и остановиться. Иначе, если $p_{(2)}<\\frac{\\alpha}{n-1}$, отвергнуть гипотезу $H^0_{(2)}$ и продолжить проверку оставшихся гипотез на уровне значимости $\\frac{\\alpha}{n-2}$.\n",
    "\n",
    "И т.д.\n"
   ]
  },
  {
   "cell_type": "markdown",
   "metadata": {},
   "source": [
    "$~$\n",
    "\n",
    "$~$\n",
    "\n",
    "$~$"
   ]
  },
  {
   "cell_type": "code",
   "execution_count": 2,
   "metadata": {},
   "outputs": [
    {
     "name": "stdout",
     "output_type": "stream",
     "text": [
      "[ True False False False] [0.04 0.06 0.12 1.  ]\n"
     ]
    }
   ],
   "source": [
    "from statsmodels.stats.multitest import multipletests\n",
    "\n",
    "reject, p_corrected, _, _ = multipletests([0.01, 0.015, 0.03, 0.9], alpha=0.05, method='bonferroni')\n",
    "# выдает для каждой гипотезы H0_i, нужно ли ее _отклонить_\n",
    "\n",
    "print(reject, p_corrected)"
   ]
  },
  {
   "cell_type": "code",
   "execution_count": 3,
   "metadata": {},
   "outputs": [
    {
     "name": "stdout",
     "output_type": "stream",
     "text": [
      "[ True  True False False] [0.04  0.045 0.06  0.9  ]\n"
     ]
    }
   ],
   "source": [
    "\n",
    "reject, p_corrected, _, _ = multipletests([0.01, 0.015, 0.03, 0.9], alpha=0.05, method='holm')\n",
    "\n",
    "print(reject, p_corrected)"
   ]
  },
  {
   "cell_type": "markdown",
   "metadata": {},
   "source": [
    "$~$\n",
    "\n",
    "$~$\n",
    "\n",
    "$~$"
   ]
  },
  {
   "cell_type": "code",
   "execution_count": 19,
   "metadata": {},
   "outputs": [
    {
     "data": {
      "text/plain": [
       "(array([ True,  True]), array([0.0396, 0.04  ]), 0.025320565519103666, 0.025)"
      ]
     },
     "execution_count": 19,
     "metadata": {},
     "output_type": "execute_result"
    }
   ],
   "source": [
    "# Шидак:\n",
    "\n",
    "multipletests([0.02, 0.04], alpha=0.05, method='sidak')\n",
    "\n",
    "multipletests([0.02, 0.04], alpha=0.05, method='holm-sidak')"
   ]
  },
  {
   "cell_type": "code",
   "execution_count": null,
   "metadata": {},
   "outputs": [],
   "source": []
  }
 ],
 "metadata": {
  "kernelspec": {
   "display_name": "Python 3 (ipykernel)",
   "language": "python",
   "name": "python3"
  },
  "language_info": {
   "codemirror_mode": {
    "name": "ipython",
    "version": 3
   },
   "file_extension": ".py",
   "mimetype": "text/x-python",
   "name": "python",
   "nbconvert_exporter": "python",
   "pygments_lexer": "ipython3",
   "version": "3.7.4"
  }
 },
 "nbformat": 4,
 "nbformat_minor": 4
}
