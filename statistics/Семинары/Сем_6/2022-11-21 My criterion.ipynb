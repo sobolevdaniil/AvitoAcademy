{
 "cells": [
  {
   "cell_type": "code",
   "execution_count": 2,
   "metadata": {},
   "outputs": [],
   "source": [
    "import numpy\n",
    "import numpy as np\n",
    "from scipy import stats"
   ]
  },
  {
   "cell_type": "code",
   "execution_count": 38,
   "metadata": {},
   "outputs": [],
   "source": [
    "traf = [100, 100, 100, 100, 100]\n",
    "conv = [50,  51,  48,  32,  56 ]"
   ]
  },
  {
   "cell_type": "code",
   "execution_count": 20,
   "metadata": {},
   "outputs": [],
   "source": [
    "def ed_statistic(conv, traf):\n",
    "    # cand -- source having min conv/traf \n",
    "    # best -- source having max conv/traf \n",
    "    \n",
    "    conv = np.array(conv)\n",
    "    traf = np.array(traf)\n",
    "    \n",
    "    cand = numpy.argmin(conv / traf)\n",
    "    best = numpy.argmax(conv / traf)\n",
    "    \n",
    "    return (conv[best] / traf[best] - conv[cand] / traf[cand]) / (\n",
    "        1 / (traf[cand] - 1) \n",
    "        * \n",
    "        ((1 - conv[cand] / traf[cand]) ** 2 * conv[cand] + (0 - conv[cand] / traf[cand]) ** 2 * (traf[cand] - conv[cand])) / traf[cand] \n",
    "        + \n",
    "        1 / (traf[best] - 1) \n",
    "        * \n",
    "        ((1 - conv[best] / traf[best]) ** 2 * conv[best] + (0 - conv[best] / traf[best]) ** 2 * (traf[best] - conv[best])) / traf[best] \n",
    "    ) ** 0.5"
   ]
  },
  {
   "cell_type": "code",
   "execution_count": 37,
   "metadata": {},
   "outputs": [],
   "source": [
    "def dan_statistic(conv, traf):\n",
    "    # cand -- source having min conv/traf \n",
    "    # best -- source having max conv/traf \n",
    "    \n",
    "    conv = np.array(conv)\n",
    "    traf = np.array(traf)\n",
    "    \n",
    "    cand = numpy.argmin(conv / traf)\n",
    "    \n",
    "    other_conv = sum(conv) - conv[cand]\n",
    "    other_traf = sum(traf) - traf[cand]\n",
    "    \n",
    "    return (other_conv / other_traf - conv[cand] / traf[cand]) / (\n",
    "        1 / (traf[cand] - 1) \n",
    "        * \n",
    "        ((1 - conv[cand] / traf[cand]) ** 2 * conv[cand] + (0 - conv[cand] / traf[cand]) ** 2 * (traf[cand] - conv[cand])) / traf[cand] \n",
    "        + \n",
    "        1 / (other_traf - 1) \n",
    "        * \n",
    "        ((1 - other_conv / other_traf) ** 2 * other_conv + (0 - other_conv / other_traf) ** 2 * (other_traf - other_conv)) / other_traf\n",
    "    ) ** 0.5"
   ]
  },
  {
   "cell_type": "code",
   "execution_count": 39,
   "metadata": {},
   "outputs": [
    {
     "data": {
      "text/plain": [
       "3.622317378672563"
      ]
     },
     "execution_count": 39,
     "metadata": {},
     "output_type": "execute_result"
    }
   ],
   "source": [
    "dan_statistic(conv, traf)"
   ]
  },
  {
   "cell_type": "code",
   "execution_count": 7,
   "metadata": {},
   "outputs": [
    {
     "data": {
      "text/plain": [
       "0.24000000000000005"
      ]
     },
     "execution_count": 7,
     "metadata": {},
     "output_type": "execute_result"
    }
   ],
   "source": [
    "ed_statistic(conv, traf)"
   ]
  },
  {
   "cell_type": "code",
   "execution_count": 30,
   "metadata": {},
   "outputs": [],
   "source": [
    "def ed_criterion_alpha5proc(conv, traf, critical_for_alpha5proc):\n",
    "    \n",
    "    if ed_statistic(conv, traf) > critical_for_alpha5proc:\n",
    "        return 1\n",
    "    else:\n",
    "        return 0"
   ]
  },
  {
   "cell_type": "code",
   "execution_count": 26,
   "metadata": {
    "tags": []
   },
   "outputs": [],
   "source": [
    "# H0 is true\n",
    "conv_prob = [0.1] * 5\n",
    "traf = [10000] * 5\n",
    "\n",
    "numpy.random.seed(1338)\n",
    "n_exps = 10000\n",
    "\n",
    "statistics = []\n",
    "for i in range(n_exps):\n",
    "    conv = [stats.binom.rvs(n, p) for [p, n] in zip(conv_prob, traf)]\n",
    "    statistics.append(ed_statistic(conv, traf))"
   ]
  },
  {
   "cell_type": "code",
   "execution_count": 27,
   "metadata": {},
   "outputs": [
    {
     "data": {
      "text/plain": [
       "2.741850226335655"
      ]
     },
     "execution_count": 27,
     "metadata": {},
     "output_type": "execute_result"
    }
   ],
   "source": [
    "alpha = 0.05\n",
    "sorted(statistics)[int((1 - alpha) * n_exps)]"
   ]
  },
  {
   "cell_type": "code",
   "execution_count": 23,
   "metadata": {},
   "outputs": [
    {
     "data": {
      "text/plain": [
       "2.732582958269549"
      ]
     },
     "execution_count": 23,
     "metadata": {},
     "output_type": "execute_result"
    }
   ],
   "source": [
    "alpha = 0.05\n",
    "sorted(statistics)[int((1 - alpha) * n_exps)]"
   ]
  },
  {
   "cell_type": "code",
   "execution_count": 28,
   "metadata": {},
   "outputs": [],
   "source": [
    "ed_quantile95_forH0 = sorted(statistics)[int((1 - alpha) * n_exps)]"
   ]
  },
  {
   "cell_type": "code",
   "execution_count": 34,
   "metadata": {},
   "outputs": [
    {
     "data": {
      "text/plain": [
       "1"
      ]
     },
     "execution_count": 34,
     "metadata": {},
     "output_type": "execute_result"
    }
   ],
   "source": [
    "traf = [100, 100, 100, 100, 100]\n",
    "conv = [50,  51,  48,  35,  56 ]\n",
    "\n",
    "ed_criterion_alpha5proc(conv, traf, ed_quantile95_forH0)"
   ]
  },
  {
   "cell_type": "code",
   "execution_count": null,
   "metadata": {},
   "outputs": [],
   "source": []
  },
  {
   "cell_type": "code",
   "execution_count": 43,
   "metadata": {},
   "outputs": [],
   "source": [
    "# H0 is true\n",
    "conv_prob = [0.1] * 5\n",
    "traf = [10000] * 5\n",
    "\n",
    "numpy.random.seed(1338)\n",
    "n_exps = 10000\n",
    "\n",
    "statistics = []\n",
    "for i in range(n_exps):\n",
    "    conv = [stats.binom.rvs(n, p) for [p, n] in zip(conv_prob, traf)]\n",
    "    statistics.append(dan_statistic(conv, traf))"
   ]
  },
  {
   "cell_type": "code",
   "execution_count": 44,
   "metadata": {},
   "outputs": [
    {
     "data": {
      "text/plain": [
       "2.3729072609320956"
      ]
     },
     "execution_count": 44,
     "metadata": {},
     "output_type": "execute_result"
    }
   ],
   "source": [
    "alpha = 0.05\n",
    "sorted(statistics)[int((1 - alpha) * n_exps)]"
   ]
  },
  {
   "cell_type": "code",
   "execution_count": 42,
   "metadata": {},
   "outputs": [
    {
     "data": {
      "text/plain": [
       "2.3365994884781767"
      ]
     },
     "execution_count": 42,
     "metadata": {},
     "output_type": "execute_result"
    }
   ],
   "source": [
    "alpha = 0.05\n",
    "sorted(statistics)[int((1 - alpha) * n_exps)]"
   ]
  },
  {
   "cell_type": "code",
   "execution_count": 45,
   "metadata": {},
   "outputs": [],
   "source": [
    "dan_quantile95_forH0 = sorted(statistics)[int((1 - alpha) * n_exps)]"
   ]
  },
  {
   "cell_type": "code",
   "execution_count": 46,
   "metadata": {},
   "outputs": [
    {
     "data": {
      "text/plain": [
       "2.3729072609320956"
      ]
     },
     "execution_count": 46,
     "metadata": {},
     "output_type": "execute_result"
    }
   ],
   "source": [
    "dan_quantile95_forH0"
   ]
  },
  {
   "cell_type": "code",
   "execution_count": 48,
   "metadata": {},
   "outputs": [],
   "source": [
    "def dan_criterion_alpha5proc(conv, traf, critical_for_alpha5proc):\n",
    "    \n",
    "    if dan_statistic(conv, traf) > critical_for_alpha5proc:\n",
    "        return 1\n",
    "    else:\n",
    "        return 0"
   ]
  },
  {
   "cell_type": "code",
   "execution_count": 49,
   "metadata": {},
   "outputs": [
    {
     "data": {
      "text/plain": [
       "1"
      ]
     },
     "execution_count": 49,
     "metadata": {},
     "output_type": "execute_result"
    }
   ],
   "source": [
    "traf = [100, 100, 100, 100, 100]\n",
    "conv = [50,  51,  48,  35,  56 ]\n",
    "\n",
    "dan_criterion_alpha5proc(conv, traf, dan_quantile95_forH0)"
   ]
  },
  {
   "cell_type": "code",
   "execution_count": null,
   "metadata": {},
   "outputs": [],
   "source": []
  },
  {
   "cell_type": "code",
   "execution_count": null,
   "metadata": {},
   "outputs": [],
   "source": []
  },
  {
   "cell_type": "code",
   "execution_count": 51,
   "metadata": {},
   "outputs": [
    {
     "name": "stdout",
     "output_type": "stream",
     "text": [
      "Ed's power: 0.4297\n",
      "Dan's power: 0.6941\n"
     ]
    }
   ],
   "source": [
    "# H0 is false\n",
    "conv_prob = [0.5, 0.5, 0.5, 0.5, 0.45]\n",
    "traf = [1000, 200, 1000, 5000, 1000]\n",
    "\n",
    "numpy.random.seed(1338)\n",
    "n_exps = 10000\n",
    "\n",
    "ed_tp = 0\n",
    "dan_tp = 0\n",
    "\n",
    "statistics = []\n",
    "for i in range(n_exps):\n",
    "    conv = [stats.binom.rvs(n, p) for [p, n] in zip(conv_prob, traf)]\n",
    "    \n",
    "    if ed_criterion_alpha5proc(conv, traf, ed_quantile95_forH0):\n",
    "        ed_tp += 1\n",
    "        \n",
    "    if dan_criterion_alpha5proc(conv, traf, dan_quantile95_forH0):\n",
    "        dan_tp += 1\n",
    "                               \n",
    "print(f\"Ed's power: {ed_tp / n_exps}\")    \n",
    "print(f\"Dan's power: {dan_tp / n_exps}\")\n"
   ]
  },
  {
   "cell_type": "code",
   "execution_count": null,
   "metadata": {},
   "outputs": [],
   "source": [
    "Ed's power: 0.5934\n",
    "Dan's power: 0.6673"
   ]
  },
  {
   "cell_type": "code",
   "execution_count": null,
   "metadata": {},
   "outputs": [],
   "source": []
  },
  {
   "cell_type": "code",
   "execution_count": null,
   "metadata": {},
   "outputs": [],
   "source": []
  },
  {
   "cell_type": "code",
   "execution_count": null,
   "metadata": {},
   "outputs": [],
   "source": []
  },
  {
   "cell_type": "code",
   "execution_count": null,
   "metadata": {},
   "outputs": [],
   "source": []
  },
  {
   "cell_type": "code",
   "execution_count": null,
   "metadata": {},
   "outputs": [],
   "source": [
    "conv_prob = [0.5] * 5\n",
    "traf = [10000] * 5\n",
    "\n",
    "numpy.random.seed(1338)\n",
    "n_exps = 10000\n",
    "\n",
    "statistics = []\n",
    "for i in range(n_exps):\n",
    "    conv = [stats.binom.rvs(n, p) for [p, n] in zip(conv_prob, traf)]\n",
    "    statistics.append(timur_statistic(conv, traf))"
   ]
  },
  {
   "cell_type": "code",
   "execution_count": null,
   "metadata": {},
   "outputs": [],
   "source": [
    "alpha = 0.05\n",
    "sorted(statistics)[int((1 - alpha) * n_exps)]"
   ]
  },
  {
   "cell_type": "code",
   "execution_count": null,
   "metadata": {},
   "outputs": [],
   "source": [
    "traf = [100, 100, 100, 100, 100]\n",
    "conv = [50,  51,  48,  35,  56 ]\n",
    "timur_criterion_alpha5proc(conv, traf, timur_quantile95_forH0)"
   ]
  },
  {
   "cell_type": "code",
   "execution_count": null,
   "metadata": {},
   "outputs": [],
   "source": []
  },
  {
   "cell_type": "code",
   "execution_count": null,
   "metadata": {},
   "outputs": [],
   "source": []
  },
  {
   "cell_type": "code",
   "execution_count": null,
   "metadata": {},
   "outputs": [],
   "source": []
  },
  {
   "cell_type": "code",
   "execution_count": null,
   "metadata": {},
   "outputs": [],
   "source": []
  },
  {
   "cell_type": "code",
   "execution_count": null,
   "metadata": {},
   "outputs": [],
   "source": []
  },
  {
   "cell_type": "code",
   "execution_count": null,
   "metadata": {},
   "outputs": [],
   "source": []
  },
  {
   "cell_type": "code",
   "execution_count": null,
   "metadata": {},
   "outputs": [],
   "source": []
  },
  {
   "cell_type": "code",
   "execution_count": null,
   "metadata": {},
   "outputs": [],
   "source": []
  },
  {
   "cell_type": "code",
   "execution_count": null,
   "metadata": {},
   "outputs": [],
   "source": []
  },
  {
   "cell_type": "code",
   "execution_count": null,
   "metadata": {},
   "outputs": [],
   "source": []
  },
  {
   "cell_type": "code",
   "execution_count": null,
   "metadata": {},
   "outputs": [],
   "source": []
  }
 ],
 "metadata": {
  "kernelspec": {
   "display_name": "Python 3 (ipykernel)",
   "language": "python",
   "name": "python3"
  },
  "language_info": {
   "codemirror_mode": {
    "name": "ipython",
    "version": 3
   },
   "file_extension": ".py",
   "mimetype": "text/x-python",
   "name": "python",
   "nbconvert_exporter": "python",
   "pygments_lexer": "ipython3",
   "version": "3.7.4"
  }
 },
 "nbformat": 4,
 "nbformat_minor": 4
}
