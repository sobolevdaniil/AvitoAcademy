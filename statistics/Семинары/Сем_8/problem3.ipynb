{
 "cells": [
  {
   "cell_type": "code",
   "execution_count": 1,
   "id": "38c64c3d-8f19-4ca7-a9fe-aea27e8e3d84",
   "metadata": {},
   "outputs": [
    {
     "data": {
      "image/png": "[encoded data removed]",
      "text/plain": [
       "<Figure size 432x288 with 1 Axes>"
      ]
     },
     "metadata": {
      "needs_background": "light"
     },
     "output_type": "display_data"
    }
   ],
   "source": [
    "from scipy import stats\n",
    "import numpy\n",
    "import matplotlib.pyplot as pyplot\n",
    "from statsmodels.stats.weightstats import ttest_ind\n",
    "import math\n",
    "\n",
    "distrA = stats.norm(loc=0, scale=1)\n",
    "distrB = stats.norm(loc=0, scale=1)\n",
    "MonteCarlo_sample = []\n",
    "numpy.random.seed(102)\n",
    "\n",
    "for i in range(100000):\n",
    "    sampleA = list(distrA.rvs(size=10))\n",
    "    sampleB = list(distrB.rvs(size=10))\n",
    "    \n",
    "    MonteCarlo_sample.append(\n",
    "        sum(stats.rankdata(sampleA + sampleB)[0:len(sampleB)]) - (len(sampleB) * (len(sampleB) + 1) / 2)\n",
    "    )\n",
    "\n",
    "pyplot.hist(MonteCarlo_sample, bins=range(math.floor(min(MonteCarlo_sample)), math.ceil(max(MonteCarlo_sample)) + 1));"
   ]
  },
  {
   "cell_type": "code",
   "execution_count": 5,
   "id": "37865b7b-efaa-480a-a921-45c3461f0e65",
   "metadata": {},
   "outputs": [
    {
     "data": {
      "text/plain": [
       "76.0"
      ]
     },
     "execution_count": 5,
     "metadata": {},
     "output_type": "execute_result"
    }
   ],
   "source": [
    "numpy.percentile(MonteCarlo_sample, q=97.5)"
   ]
  },
  {
   "cell_type": "code",
   "execution_count": 6,
   "id": "c70680a4-7535-4eea-958b-eb20bebbb4ff",
   "metadata": {},
   "outputs": [
    {
     "data": {
      "text/plain": [
       "24.0"
      ]
     },
     "execution_count": 6,
     "metadata": {},
     "output_type": "execute_result"
    }
   ],
   "source": [
    "numpy.percentile(MonteCarlo_sample, q=2.5)"
   ]
  },
  {
   "cell_type": "code",
   "execution_count": 12,
   "id": "0aa9543c-fb2e-4d63-bc40-25f5961a08da",
   "metadata": {},
   "outputs": [],
   "source": [
    "def my_mw_criterion(sampleA_of_size10, sampleB_of_size10):\n",
    "    U = sum(stats.rankdata(sampleA + sampleB)[0:len(sampleB)]) - (len(sampleB) * (len(sampleB) + 1) / 2)\n",
    "    if U < 24 or U > 76:\n",
    "        return 1\n",
    "    else:\n",
    "        return 0"
   ]
  },
  {
   "cell_type": "code",
   "execution_count": 13,
   "id": "10e6fd58-a221-40d1-960d-a6cad7ba1c7c",
   "metadata": {},
   "outputs": [
    {
     "data": {
      "text/plain": [
       "4354"
      ]
     },
     "execution_count": 13,
     "metadata": {},
     "output_type": "execute_result"
    }
   ],
   "source": [
    "fp = 0\n",
    "numpy.random.seed(101)\n",
    "\n",
    "distrA = stats.norm(loc=0, scale=1)\n",
    "distrB = stats.norm(loc=0, scale=1)\n",
    "\n",
    "for i in range(100000):\n",
    "    sampleA = list(distrA.rvs(size=10))\n",
    "    sampleB = list(distrB.rvs(size=10))\n",
    "    \n",
    "    fp += my_mw_criterion(sampleA, sampleB)\n",
    "    \n",
    "fp"
   ]
  },
  {
   "cell_type": "code",
   "execution_count": 14,
   "id": "df2226d2-7222-4c07-ae1d-d68702f51bad",
   "metadata": {},
   "outputs": [
    {
     "data": {
      "text/plain": [
       "4320"
      ]
     },
     "execution_count": 14,
     "metadata": {},
     "output_type": "execute_result"
    }
   ],
   "source": [
    "fp = 0\n",
    "numpy.random.seed(101)\n",
    "\n",
    "\n",
    "distrA = stats.expon(loc=2, scale=3)\n",
    "distrB = stats.expon(loc=2, scale=3)\n",
    "\n",
    "for i in range(100000):\n",
    "    sampleA = list(distrA.rvs(size=10))\n",
    "    sampleB = list(distrB.rvs(size=10))\n",
    "    \n",
    "    fp += my_mw_criterion(sampleA, sampleB)\n",
    "    \n",
    "fp"
   ]
  },
  {
   "cell_type": "code",
   "execution_count": 16,
   "id": "7557541a-d7c6-4cab-8909-8bbde654211f",
   "metadata": {},
   "outputs": [
    {
     "name": "stdout",
     "output_type": "stream",
     "text": [
      "1188\n",
      "4268\n"
     ]
    }
   ],
   "source": [
    "\n",
    "fp = 0\n",
    "fp_lib = 0\n",
    "numpy.random.seed(101)\n",
    "\n",
    "distrA = stats.binom(p=0.5, n=1)\n",
    "distrB = stats.binom(p=0.5, n=1)\n",
    "\n",
    "for i in range(100000):\n",
    "    sampleA = list(distrA.rvs(size=10))\n",
    "    sampleB = list(distrB.rvs(size=10))\n",
    "    \n",
    "    fp += my_mw_criterion(sampleA, sampleB)\n",
    "    fp_lib += stats.mannwhitneyu(sampleA, sampleB)[1] <= 0.05\n",
    "    \n",
    "print(fp)\n",
    "print(fp_lib)"
   ]
  },
  {
   "cell_type": "code",
   "execution_count": 17,
   "id": "3d226706-666d-47b1-875c-d451f125b216",
   "metadata": {},
   "outputs": [
    {
     "name": "stdout",
     "output_type": "stream",
     "text": [
      "3882\n",
      "4376\n"
     ]
    }
   ],
   "source": [
    "\n",
    "fp = 0\n",
    "fp_lib = 0\n",
    "numpy.random.seed(101)\n",
    "\n",
    "distrA = stats.binom(p=0.5, n=10)\n",
    "distrB = stats.binom(p=0.5, n=10)\n",
    "\n",
    "for i in range(100000):\n",
    "    sampleA = list(distrA.rvs(size=10))\n",
    "    sampleB = list(distrB.rvs(size=10))\n",
    "    \n",
    "    fp += my_mw_criterion(sampleA, sampleB)\n",
    "    fp_lib += stats.mannwhitneyu(sampleA, sampleB)[1] <= 0.05\n",
    "    \n",
    "print(fp)\n",
    "print(fp_lib)"
   ]
  },
  {
   "cell_type": "code",
   "execution_count": null,
   "id": "44e376a1-2b40-42f4-ad52-9043b35ff7a3",
   "metadata": {},
   "outputs": [],
   "source": []
  }
 ],
 "metadata": {
  "kernelspec": {
   "display_name": "Python 3 (ipykernel)",
   "language": "python",
   "name": "python3"
  },
  "language_info": {
   "codemirror_mode": {
    "name": "ipython",
    "version": 3
   },
   "file_extension": ".py",
   "mimetype": "text/x-python",
   "name": "python",
   "nbconvert_exporter": "python",
   "pygments_lexer": "ipython3",
   "version": "3.7.4"
  }
 },
 "nbformat": 4,
 "nbformat_minor": 5
}
