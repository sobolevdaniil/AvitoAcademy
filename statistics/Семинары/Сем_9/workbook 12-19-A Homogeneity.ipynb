{
 "cells": [
  {
   "cell_type": "code",
   "execution_count": 1,
   "metadata": {},
   "outputs": [],
   "source": [
    "import numpy\n",
    "from scipy import stats"
   ]
  },
  {
   "cell_type": "markdown",
   "metadata": {},
   "source": [
    "# Критерий однородности (homogeneity)  \n",
    "= критерий для проверки гипотезы \"выборки $a^n$ и $b^n$ семплированы одного и того же распределения\""
   ]
  },
  {
   "cell_type": "markdown",
   "metadata": {},
   "source": [
    "#### Критерий Колмогорова-Смирнова\n",
    "-- критерий однородности"
   ]
  },
  {
   "cell_type": "markdown",
   "metadata": {},
   "source": [
    "<br><br><br>"
   ]
  },
  {
   "cell_type": "code",
   "execution_count": 2,
   "metadata": {},
   "outputs": [],
   "source": [
    "sampleA = [0.11, 0.07, 0.1, 0.09, 0.17, 0.14, 0.05, 0.05, 0.17, 0.07, 0.06, 0.06, 0.12, 0.12, 0.08, 0.15, 0.07, 0.06, 0.13, 0.17]\n",
    "sampleB = [0.04, 0.10, 0.08, 0.08, 0.07, 0.13, 0.08, 0.12, 0.11, 0.03, 0.08, 0.09, 0.06, 0.16, 0.10, 0.11, 0.09, 0.05, 0.08, 0.08]"
   ]
  },
  {
   "cell_type": "code",
   "execution_count": 3,
   "metadata": {},
   "outputs": [],
   "source": [
    "x_axis = numpy.arange(start=0.01, stop=0.20, step=0.001)\n",
    "\n",
    "# аппроксимируем CDF распределения, из которого семплирована наша выборка\n",
    "# эмпирическая функция распределения:\n",
    "emp_cdfA_y = []\n",
    "for x in x_axis:\n",
    "    cdf_for_x = sum([int(b <= x) for b in sampleA]) / len(sampleA)\n",
    "    emp_cdfA_y.append(cdf_for_x)\n",
    "    \n",
    "emp_cdfB_y = []\n",
    "for x in x_axis:\n",
    "    cdf_for_x = sum([int(b <= x) for b in sampleB]) / len(sampleB)\n",
    "    emp_cdfB_y.append(cdf_for_x)"
   ]
  },
  {
   "cell_type": "code",
   "execution_count": 4,
   "metadata": {},
   "outputs": [
    {
     "data": {
      "image/png": "[encoded data removed]",
      "text/plain": [
       "<Figure size 1152x576 with 1 Axes>"
      ]
     },
     "metadata": {
      "needs_background": "light"
     },
     "output_type": "display_data"
    }
   ],
   "source": [
    "\n",
    "import matplotlib.pyplot as pyplot\n",
    "pyplot.figure(figsize=(16, 8))\n",
    "\n",
    "\n",
    "pyplot.plot(x_axis, emp_cdfA_y, 'k-', linewidth=1.0, label='empirical cdf for A')\n",
    "pyplot.plot(x_axis, emp_cdfB_y, 'b-', linewidth=1.0, label='empirical cdf for B')\n",
    "\n",
    "pyplot.legend(loc='best', frameon=False)\n",
    "pyplot.show()"
   ]
  },
  {
   "cell_type": "markdown",
   "metadata": {},
   "source": [
    "$D_{m,n}$-статистика — максимальное расхождение мажду эмпирическими функциями распределения двух случайных величин\n",
    "$$D_{m,n}= \\sup_x|F_B(x) - F_A(x)|$$"
   ]
  },
  {
   "cell_type": "markdown",
   "metadata": {},
   "source": [
    "<br>"
   ]
  },
  {
   "cell_type": "markdown",
   "metadata": {},
   "source": [
    "#### Критерий Колмогорова-Смирнова есть в библиотеке stats"
   ]
  },
  {
   "cell_type": "markdown",
   "metadata": {},
   "source": [
    "...и это тот же `stats.kstest` 🙂"
   ]
  },
  {
   "cell_type": "code",
   "execution_count": 5,
   "metadata": {},
   "outputs": [
    {
     "name": "stdout",
     "output_type": "stream",
     "text": [
      "p-value: 0.5713\n"
     ]
    }
   ],
   "source": [
    "Dmn, p = stats.kstest(sampleA, sampleB)\n",
    "print(f'p-value: {p:.4f}')"
   ]
  },
  {
   "cell_type": "code",
   "execution_count": null,
   "metadata": {},
   "outputs": [],
   "source": []
  }
 ],
 "metadata": {
  "kernelspec": {
   "display_name": "Python 3 (ipykernel)",
   "language": "python",
   "name": "python3"
  },
  "language_info": {
   "codemirror_mode": {
    "name": "ipython",
    "version": 3
   },
   "file_extension": ".py",
   "mimetype": "text/x-python",
   "name": "python",
   "nbconvert_exporter": "python",
   "pygments_lexer": "ipython3",
   "version": "3.7.4"
  }
 },
 "nbformat": 4,
 "nbformat_minor": 4
}
