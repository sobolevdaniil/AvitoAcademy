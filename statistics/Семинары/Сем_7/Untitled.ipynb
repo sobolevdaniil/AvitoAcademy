{
 "cells": [
  {
   "cell_type": "markdown",
   "id": "ff24f638-a8c3-4b22-be06-122c4cd5bcab",
   "metadata": {},
   "source": [
    "То есть критерий согласия проверяет\n",
    "- $H_0: X \\sim N(0, 1)$.\n",
    "- Критерий - это правило, по кторому FPR происходит меньше или равно, чем в alpha проценте случаев\n",
    "\n",
    "\n",
    "Используйте критерий t-test для проверки\n",
    "\n",
    "- $H_0: E X = 0$.\n",
    "\n",
    "Если H0 верна, то критерий корректен\n",
    "\n",
    "Если H0 не верна, то у критерия будет очень маленькая мощность!\n",
    "\n",
    "- он будет отвершать гипотезу о томм, что выборка из нормального распределения для любого распределения c мат. ож-ием 0 лишь в 5% случаев, что очень мало!"
   ]
  },
  {
   "cell_type": "code",
   "execution_count": null,
   "id": "38c64c3d-8f19-4ca7-a9fe-aea27e8e3d84",
   "metadata": {},
   "outputs": [],
   "source": []
  }
 ],
 "metadata": {
  "kernelspec": {
   "display_name": "Python 3 (ipykernel)",
   "language": "python",
   "name": "python3"
  },
  "language_info": {
   "codemirror_mode": {
    "name": "ipython",
    "version": 3
   },
   "file_extension": ".py",
   "mimetype": "text/x-python",
   "name": "python",
   "nbconvert_exporter": "python",
   "pygments_lexer": "ipython3",
   "version": "3.7.4"
  }
 },
 "nbformat": 4,
 "nbformat_minor": 5
}
