{
 "cells": [
  {
   "cell_type": "code",
   "execution_count": 3,
   "id": "2d8bea35-37cc-4b98-bdeb-471a07352aee",
   "metadata": {},
   "outputs": [],
   "source": [
    "from scipy.stats import (\n",
    "    norm, binom, expon, t, chi2, pareto, ttest_ind, sem, beta, laplace\n",
    ")\n",
    "from statsmodels.stats.proportion import proportion_confint\n",
    "import numpy as numpy\n",
    "from seaborn import distplot\n",
    "from matplotlib import pyplot\n",
    "import seaborn\n",
    "\n",
    "import sys\n",
    "sys.path.append('.')\n",
    "\n",
    "import warnings\n",
    "warnings.filterwarnings(\"ignore\")"
   ]
  },
  {
   "cell_type": "code",
   "execution_count": 4,
   "id": "ac266211-93ed-4151-ab04-01a8598dff79",
   "metadata": {},
   "outputs": [],
   "source": [
    "def inverse_plot_colorscheme():\n",
    "    import cycler\n",
    "    def invert(color_to_convert): \n",
    "        table = str.maketrans('0123456789abcdef', 'fedcba9876543210')\n",
    "        return '#' + color_to_convert[1:].lower().translate(table).upper()\n",
    "    update_dict = {}\n",
    "    for key, value in pyplot.rcParams.items():\n",
    "        if value == 'black':\n",
    "            update_dict[key] = 'white'\n",
    "        elif value == 'white':\n",
    "            update_dict[key] = 'black'\n",
    "    \n",
    "    old_cycle = pyplot.rcParams['axes.prop_cycle']\n",
    "    new_cycle = []\n",
    "    for value in old_cycle:\n",
    "        new_cycle.append({\n",
    "            'color': invert(value['color'])\n",
    "        })\n",
    "    pyplot.rcParams.update(update_dict)\n",
    "    pyplot.rcParams['axes.prop_cycle'] = cycler.Cycler(new_cycle)\n",
    "    lec = pyplot.rcParams['legend.edgecolor']\n",
    "    lec = str(1 - float(lec))\n",
    "    pyplot.rcParams['legend.edgecolor'] = lec"
   ]
  },
  {
   "cell_type": "code",
   "execution_count": 5,
   "id": "d6bcb93b-bbed-4415-aa28-9e5c6052d51c",
   "metadata": {},
   "outputs": [],
   "source": [
    "inverse_plot_colorscheme()"
   ]
  },
  {
   "cell_type": "markdown",
   "id": "1276fbd9-51d6-4da1-8a4f-93f8d7d93a28",
   "metadata": {},
   "source": [
    "# Лекция 6. Монте-Карло\n",
    "\n",
    "Сегодня мы поговорим о методе Монте-Карло, являющимся очень мощным инструментом в статистике. С его помощью мы ответим с вами на 3 вопроса:\n",
    "- Как проверить ваш критерий? Валиден он на практике или нет?\n",
    "    - Например, работает ли t-test на малых размерах выборок?\n",
    "- У вас есть 2 разных критерия. Как понять, какой критерий лучше подходит для вашей задачи?\n",
    "<!-- - Как жить, если мы не знаем теор.вер? Как придумывать критерии на практике, если мы не хотим ничего считатать? В некоторых случаях у вас появится ответ на этот вопрос) -->"
   ]
  },
  {
   "cell_type": "markdown",
   "id": "068ded1b-f874-43a4-9f24-4f32c9db8353",
   "metadata": {},
   "source": [
    "## 1. Проверка критериев\n",
    "\n",
    "С помощью метода Монте-Карло мы в *общем случае* сможем ответить на вопросы:\n",
    "- **Можно ли использовать данный критерий для нашей задачи?**\n",
    "- **Верно ли вообще реализован критерий?**\n",
    "\n",
    "Вся эта глава в первую очередь будет посвящена AB-тестам и как можно проверять критерии для них. Основным критерием для проверки в этой главе станет t-test. Мы с вами:\n",
    "- Покажем на практике, что t-test работает для выборок не только из нормального распределения\n",
    "- Посмотрим, как определить, с какого размера выборки можно применять t-test. Как мы помним из прошлой лекции, t-test работает теоретически для выборок из любого распределения, если выборка достаточно большая. \n",
    "\n",
    "\n",
    "|                          | маленькая выборка | большая выборка |\n",
    "|--------------------------|-------------------|-----------------|\n",
    "| нормальное распределение | t-test            | t-test |\n",
    "| любое распределение      |                   | t-test |\n",
    "\n",
    "---\n",
    "\n",
    "Что значит, что критерий корректен? Давайте пойдем от определения.\n",
    "- Критерий уровня значимости $\\alpha$ означает, что вероятность неверно отвергнуть нулевую гипотезу $\\le \\alpha$. \n",
    "- А это в свою очередь значит, что если бесконечно много раз повторить один и тот же эксперимент, в котором верна нулевая гипотеза, генерируя заново эксперимент, то число ложноположительных срабатываний будет меньше $\\alpha$ процентов.\n",
    "\n",
    "На самом деле, здесь уже расказана процедура, как проверить ваш критерий :)\n",
    "\n",
    "0. Создаем код критерия, который мы будем проверять.\n",
    "1. Генерируем как можно больше экспериментов, где верна $H_0$. \n",
    "2. Прогоняем на них придуманный критерий.\n",
    "3. Проверяем, правда ли, что только в $\\alpha$ процентов случаев критерий отвергается?\n",
    "\n",
    "А теперь распишем подробнее:\n",
    "1. Первым делом надо выбрать распределение, которое будет описывать наши данные. К примеру, если у нас метрика конверсии, то это бернуллевское распределение, а если метрика — выручка, то лучше использовать экспоненциальное распределение в качестве самого простого приближения.\n",
    "\n",
    "2. Завести счётчик bad_cnt = 0.\n",
    "\n",
    "3. Далее в цикле размера N, где N — натуральное число от 1000 до бесконечности (чем оно больше, тем лучше):\n",
    "   - Симулировать создание выборки из распределения, выбранного на первом шаге. Так, чтобы верна была $H_0$.\n",
    "        - А в случае AB-теста симулировать надо не 1 выборку, а 2: для теста и контроля.\n",
    "\n",
    "    - Запустить на сгенерированных данных проверяемый критерий.\n",
    "\n",
    "    - Далее проверить, `pvalue < alpha`. Если да, то увеличить счётчик bad_cnt на 1. Здесь мы проверяем, ошибся ли критерий на текущей симуляции, или нет. \n",
    "\n",
    "4. Посчитать конверсию bad_cnt / N.\n",
    "    - Если она примерно совпадает с $\\alpha$, то все хорошо.\n",
    "    - Если она меньше $\\alpha$, то в принципе это адекватный критерий на практике, просто он будет менее мощный, чем критерий, который ошибается ровно в $\\alpha$ проценте случаев.\n",
    "        - Но на практике стоит проверить: а теоретически такая ситуация возможна? Или это ошибка в коде критерия?\n",
    "    - Если критерий ошибается больше, чем в $\\alpha$, то значит он некорректен и им нельзя пользоваться. Используя такой критерий, вы будете ошибаться чаще положенного, а значит ваша  компания будет терять больше денег.\n",
    "    \n",
    "    \n",
    "Рассмотрим процедуру на примере: проверим, можно ли использовать t-test для выборок из нормального распределения?"
   ]
  },
  {
   "cell_type": "code",
   "execution_count": 6,
   "id": "d7e9da0f-3161-49da-97ee-252c2619a077",
   "metadata": {},
   "outputs": [
    {
     "name": "stdout",
     "output_type": "stream",
     "text": [
      "FPR: 0.0519\n"
     ]
    }
   ],
   "source": [
    "numpy.random.seed(42)\n",
    "\n",
    "bad_cnt = 0\n",
    "N = 10000\n",
    "alpha=0.05\n",
    "\n",
    "sample_dist = norm(loc=2, scale=3)\n",
    "mu0=sample_dist.expect()\n",
    "for i in range(N):\n",
    "    # Генерирую выборку теста и контроля\n",
    "    test    = sample_dist.rvs(5)\n",
    "    control = sample_dist.rvs(5)\n",
    "\n",
    "    # Запускаю критерий и считаю p-value\n",
    "    pvalue = ttest_ind(test, control, alternative='two-sided').pvalue\n",
    "    \n",
    "    # Проверяю, что pvalue < alpha\n",
    "    bad_cnt += (pvalue < alpha)\n",
    "\n",
    "\n",
    "print(f\"FPR: {round(bad_cnt / N, 4)}\")"
   ]
  },
  {
   "cell_type": "markdown",
   "id": "05713d6c-0e68-4ee3-8e96-151392c61ef9",
   "metadata": {},
   "source": [
    "Хм, мы получили, что FPR=0.0519, хотя он должен был равняться 5%. Правда ли, что критерий некорректен? Ну конечно нет, мы просто не учли шум  конверсии: мы вряд ли сможем получить на конечном числе экспериментов точное равенство `FPR=alpha`.\n",
    "\n",
    "Поэтому надо чуть улучшить 4 шаг:\n",
    "\n",
    "4. Посчитать полученный FPR и построить доверительный интервал для него. Если $\\alpha$ лежит в нем, значит все хорошо, а иначе разбираемся, что пошло не так.\n",
    "    - Доверительный интервал можно построить разными способами: например, используя идеи построения доверительных интервалов из второй лекции.\n",
    "    - Но можно сделать проще: в питоне есть функция, которая строит [доверительный интервал Уилсона](https://en.wikipedia.org/wiki/Binomial_proportion_confidence_interval#Wilson_score_interval): он не такой точный, как мы выводили ранее, зато он более быстрый и работает из \"коробки\". Его не надо реализовывать самому."
   ]
  },
  {
   "cell_type": "code",
   "execution_count": 7,
   "id": "8ca48be8-2429-43ee-8ab9-e5828a725997",
   "metadata": {},
   "outputs": [
    {
     "data": {
      "text/plain": [
       "(0.04772180742973847, 0.05642233191006188)"
      ]
     },
     "execution_count": 7,
     "metadata": {},
     "output_type": "execute_result"
    }
   ],
   "source": [
    "proportion_confint(count = bad_cnt, nobs = N, alpha=0.05, method='wilson')"
   ]
  },
  {
   "cell_type": "markdown",
   "id": "cbb87da4-a54a-4c67-82e0-09a181f1c0ca",
   "metadata": {},
   "source": [
    "Мы видим, что 5% попали в доверительный интервал, а значит мы можем считать, что критерий валиден для нашей задачи.\n",
    "\n",
    "А что, если бы распределение было сложнее?\n",
    "\n",
    "Расссмотрим пример, когда мат. ожидания в тесте и в контроле равны, но выборки из разных распределений. То есть $H_0$ верна, но распределения разные."
   ]
  },
  {
   "cell_type": "code",
   "execution_count": 8,
   "id": "83115ac4-49da-41f6-99c0-ce58a1b0aa8d",
   "metadata": {},
   "outputs": [
    {
     "data": {
      "image/png": "[encoded data removed]",
      "text/plain": [
       "<Figure size 720x360 with 1 Axes>"
      ]
     },
     "metadata": {
      "needs_background": "dark"
     },
     "output_type": "display_data"
    }
   ],
   "source": [
    "test_dist = expon(scale = 10)\n",
    "control_dist = expon(loc=5, scale = 5)\n",
    "\n",
    "x = numpy.linspace(0, 100, 1000)\n",
    "\n",
    "pyplot.figure(figsize=(10, 5))\n",
    "pyplot.title('Пример распределений', fontsize=12)\n",
    "pyplot.plot(x, test_dist.pdf(x), label='test')\n",
    "pyplot.plot(x, control_dist.pdf(x), label='control')\n",
    "pyplot.xlabel('Выручка')\n",
    "pyplot.ylabel('Плотность')\n",
    "\n",
    "pyplot.legend(fontsize=12)\n",
    "pyplot.grid(linewidth=0.2)\n",
    "pyplot.show()"
   ]
  },
  {
   "cell_type": "markdown",
   "id": "4a6c6226-aa1f-4506-8c3a-c5b541e80006",
   "metadata": {},
   "source": [
    "Например, раньше в среднем выручка от пользователя была примерно 10 руб и она была не меньше 5 рублей, а после введения эффекта часть пользователей стала меньше платить, но средний чек остался таким же: 10 руб."
   ]
  },
  {
   "cell_type": "code",
   "execution_count": 21,
   "id": "56d48d7d-ced4-4b13-9375-7f4ad4590975",
   "metadata": {},
   "outputs": [],
   "source": [
    "def check_criterion(test_dist, control_dist, sample_size, N_exps=10000, to_print=True):\n",
    "    \"\"\"\n",
    "        Функция для проверки t-test критерия для AB-теста\n",
    "        Возвращает доверительный интервал для FPR, если флаг to_print = False. Иначе печатает результат.\n",
    "    \n",
    "        Параметры:\n",
    "            - test_dist: Распределение тестовой выборки в эксперименте\n",
    "            - control_dist: Распределение контрольной выборки в эксперименте\n",
    "            - sample_size: размер выборки теста и контроля\n",
    "            - N_exps: число экспериментов, по которым потом считается FPR\n",
    "            - to_print: печатать результат или нет. Если нет, то функция возвращает дов. интервал для FPR.\n",
    "    \"\"\"\n",
    "    \n",
    "    numpy.random.seed(35)\n",
    "    bad_cnt=0\n",
    "    alpha=0.05\n",
    "\n",
    "    for i in range(N_exps):\n",
    "        # Генерирую выборку\n",
    "        test    = test_dist.rvs(sample_size)\n",
    "        control = control_dist.rvs(sample_size)\n",
    "\n",
    "        # Запускаю критерий и считаю p-value\n",
    "        pvalue = ttest_ind(test, control, equal_var=False, alternative='two-sided').pvalue\n",
    "\n",
    "        # Проверяю, что pvalue < alpha\n",
    "        bad_cnt += (pvalue < alpha)\n",
    "\n",
    "    if to_print:\n",
    "        print(f\"FPR: {round(bad_cnt / N_exps, 4)}\")\n",
    "        print(f\"CI={proportion_confint(count = bad_cnt, nobs = N_exps, alpha=0.05, method='wilson')}\")\n",
    "    else:\n",
    "        return proportion_confint(count = bad_cnt, nobs = N_exps, alpha=0.05, method='wilson')"
   ]
  },
  {
   "cell_type": "code",
   "execution_count": 22,
   "id": "ecfd1be8-5ea2-492f-8996-bbd029ca1645",
   "metadata": {},
   "outputs": [
    {
     "name": "stdout",
     "output_type": "stream",
     "text": [
      "FPR: 0.0443\n",
      "CI=(0.04043912932872393, 0.04851084678631071)\n"
     ]
    }
   ],
   "source": [
    "check_criterion(test_dist=test_dist, control_dist=control_dist, sample_size=20)"
   ]
  },
  {
   "cell_type": "markdown",
   "id": "78390350-13e2-4080-9443-8b5f54f27865",
   "metadata": {},
   "source": [
    "Что ж, мы видим, что t-test не сработал. Истинное $\\alpha$ не лежит в доверительном интервале. Но с какого размера выборк t-test начнет работать правильно?\n",
    "\n",
    "### Как проверить минимальный размер выборки при котором t-test работает?\n",
    "\n",
    "Для этого давайте просимулируем эксперимент с разным размером выборок и посмотрим, с какого размеры выборки у нас $\\alpha$% лежит в дов. интервале."
   ]
  },
  {
   "cell_type": "code",
   "execution_count": 23,
   "id": "f240f758-29d8-4203-a7ae-fe196b77744a",
   "metadata": {},
   "outputs": [
    {
     "name": "stdout",
     "output_type": "stream",
     "text": [
      "Min sample size: 40\n"
     ]
    }
   ],
   "source": [
    "scale = numpy.arange(20, 110, 20)\n",
    "for N in scale:\n",
    "    left, right = check_criterion(test_dist=test_dist, control_dist=control_dist, sample_size=N, N_exps=10000, to_print=False)\n",
    "    if left < alpha < right:\n",
    "        print(f\"Min sample size: {N}\")\n",
    "        break"
   ]
  },
  {
   "cell_type": "code",
   "execution_count": 24,
   "id": "aec8451a-9cf6-4964-8832-c0060c32ab52",
   "metadata": {},
   "outputs": [
    {
     "name": "stdout",
     "output_type": "stream",
     "text": [
      "FPR: 0.0488\n",
      "CI=(0.04474778133939989, 0.05319873879029866)\n"
     ]
    }
   ],
   "source": [
    "check_criterion(test_dist=test_dist, control_dist=control_dist, sample_size=60)"
   ]
  },
  {
   "cell_type": "markdown",
   "id": "2d83355b-58ab-4ba8-8d15-5bd883f53126",
   "metadata": {},
   "source": [
    "Так мы видим, что для выборки размера 60 &mdash; 5% уже попали в дов. интервал. Так что мы можем считать, что для таких распределений нам достаточно выборки размера 60, чтобы использовать t-test. \n",
    "\n",
    "Но надо понимать, что реальный FPR может быть не 5%: он лежит в доверительном интервале (0.045, 0.053). Если нужна большая точность &mdash; нужно провести больше экспериментов (`N_exps -> infinity`)"
   ]
  },
  {
   "cell_type": "markdown",
   "id": "d3bde783-98a5-4462-9940-5f304036046c",
   "metadata": {},
   "source": [
    "\n",
    "## Итого\n",
    "\n",
    "Чтобы проверить критерий, надо уметь много раз проводить один и тот же эксперимент.\n",
    "- Правильно ли реализорван критерий?\n",
    "    - Проверьте его! Можно на специально смоделированных данных.\n",
    "- Можно ли использовать данный критерий для нашей задачи?\n",
    "    - Проверьте его! Но только нужно **правильно** сгенерировать эксперимент.\n",
    "- Как найти минимальный размер выборки у t-test?\n",
    "    - Прверьте t-test на разных размерах выборки. С того момента, как $\\alpha$% лежит в доверительном интервале &mdash; можем считать, что t-test будет работать.\n"
   ]
  },
  {
   "cell_type": "markdown",
   "id": "af342260-70fa-4258-af45-a6ce3cfbaf42",
   "metadata": {},
   "source": [
    "# Как смоделировать эксперимент?\n",
    "\n",
    "Есть 2 ответа на этот вопрос:\n",
    "1. Генерация теста и контроля через искусственное моделирование. С помощью разных распределений можно попытаться приблизить реальное распределение на данных. Например:\n",
    "    - Для генерации выручки использовать экспоненциальное распределение. Чем больше выручка от пользователя &mdash; тем меньше таких людей.\n",
    "    - Для генерации конверсионных выборок (например, кликнет/не клинкет) использовать бернуллиевскую выборку.\n",
    "    - Иногда можно брать смесь распределений: пусть 90% пользователй нашего сайта приносят нулевую выручку. Тогда можно перемножить бернуллиевское распределение на экспоненциальное для моделирования выручки от пользователя.\n",
    "    - Также для проверки криетрия не обязательно распределения в тесте и в контроле должны совпадать. Для проверки критерия равенства средних не обязательно должны совпадать распределения в тесте и в контроле. Они могут быть разными, но мат. ожидание совпадет, как было в примере выше.\n",
    "    \n",
    "---     \n",
    "    \n",
    "2.  Датасеты на исторических данных компании. У многих компаний есть логирование событий. Тогда мы сможем прямо на реальных данных оценить работоспособность критерия! И не попасться в ловушку того, что на искуственных выборках критерий валиден, а на реальных данных нет. Например, у нас есть данные о транзакциях пользователей за несколько лет. Это уже один готовый датасет: вы делите всех пользователей на тест и контроль и получаете один «эксперимент» для проверки вашего критерия. \n",
    "\n",
    "Осталось понять, как из одного большого датасета сделать N маленьких датасетов. Я расскажу, как мы это делаем в Авито, но описанная механика применима практически к любой компании.\n",
    "\n",
    "Наши пользователи размещают объявления. Каждое объявление относится только к одной категории товаров и размещено только в одном регионе. Отсюда возникает незамысловатый алгоритм:\n",
    "\n",
    " - Разобьём все размещения пользователей на четыре (или N в общем случае) категории: автомобили, спецтехника, услуги и недвижимость. Теперь наш датасет можно разбить на эти подкатегории: к примеру, в одном датасете смотреть выручку пользователя только в этой подкатегории.\n",
    "\n",
    " - Поделим датасеты по месяцам: датасет трат пользователя за ноябрь, за декабрь и так далее.\n",
    "\n",
    " - Ещё все метрики можно поделить по субъектам РФ или по группе субъектов: датасет трат пользователя из Москвы, датасет трат пользователя из Хабаровска и так далее.\n",
    " \n",
    " - Объедним все 3 правила в одно. Например: датасет трат пользователя в Авто за ноябрь в Москве.\n",
    "\n",
    " - Теперь у нас есть большое число датасетов и в каждом из них есть пользователи. Поделим пользователей случайно на тест и контроль и получим финальные датасеты для валидации придуманных статистических критериев.\n",
    "\n",
    "Давайте посмотрим на картинках, как такая схема увеличивает количество датасетов:\n",
    "    <img src=\"https://habrastorage.org/getpro/habr/upload_files/71a/497/8cb/71a4978cbbb1f177c5edb360456f3e90.png\" width=\"1500\" height=\"200\" />\n",
    "\n",
    "\n",
    "Здесь мы смогли разбить 1 датасет на 16 датасетов. А если добавить ещё и разделение по субъектам РФ, которых больше 80, то мы получим уже 16×80 = 1280 датасетов для проверки. И это всего за 5 месяцев! При этом, как показывает практика, 1000 датасетов достаточно, чтобы отделить некорректный критерий от хорошего.\n",
    "\n",
    "**Сравним 2 метода**\n",
    "\n",
    "Главные плюсы искусственных данных в том, что их сколько угодно, они генерируются быстро, и вы полностью контролируете распределение. Можно создать бесконечно много датасетов и очень точно оценить ошибку первого рода вашего критерия. Также, мой опыт говорит, что на начальных этапах дебага нового критерия искусственные данные сильно лучше реальных. Главный минус — вы получили корректность вашего критерия только на искусственных данных! На реальных же данных критерий может работать некорректно.\n",
    "\n",
    "У датасетов, полученных на настоящих данных, всё наоборот: собрать большое количество датасетов сложно, да и не всегда нормально построен процесс сбора логов. Но адекватная оценка корректности критерия для проверки гипотез в вашей компании возможна только таким способом. Всегда можно реализовать такой критерий, который будет правильно работать на искусственных данных. Но, столкнувшись в реальности с более шумными данными, он может начать ошибаться чаще, чем в 5% случаев. Поэтому важно убедиться, что именно на настоящих данных метод будет работать верно. "
   ]
  },
  {
   "cell_type": "markdown",
   "id": "c004e55f-8ed6-489a-9083-e70e3087516b",
   "metadata": {},
   "source": [
    "\n",
    "----------"
   ]
  },
  {
   "cell_type": "markdown",
   "id": "de19cddb-efcf-4793-8dab-024bf7c7e2b8",
   "metadata": {},
   "source": [
    "Посмотрим еще раз на табличку:\n",
    "\n",
    "|                          | маленькая выборка | большая выборка |\n",
    "|--------------------------|-------------------|-----------------|\n",
    "| нормальное распределение | t-test            | t-test |\n",
    "| любое распределение      |                   | t-test |\n",
    "\n",
    "\n",
    "Мы уже поняли, как отличить маленькую выборку от большой. Но остался последний вопрос: чем заполнить последнюю пустующую ячейку?"
   ]
  },
  {
   "cell_type": "markdown",
   "id": "ddf67821-3776-4d84-b849-2236b0f6f46e",
   "metadata": {},
   "source": [
    "### Можно ли использовать t-test, если выборка мала и не из нормального распределения?\n",
    "\n",
    "\n",
    "На самом деле ответ простой: проверьте критерий на интересующем вас размере выборки: если FPR $\\leq \\alpha$ значит все хорошо, а если нет &mdash; критерий использовать нельзя.\n",
    "\n",
    "\n",
    "|                          | маленькая выборка | большая выборка |\n",
    "|--------------------------|-------------------|-----------------|\n",
    "| нормальное распределение | t-test               | t-test|\n",
    "| любое распределение      | Монте-Карло проверка | t-test |\n",
    "\n",
    "\n",
    "Например, в случае выше с двумя экспоненциальными распределениями &mdash; нельзя. А если бы ошибка была бы меньше 5% то можно. Например:"
   ]
  },
  {
   "cell_type": "code",
   "execution_count": 25,
   "id": "733fcb69-5119-4b65-9516-7bee55662b0d",
   "metadata": {},
   "outputs": [
    {
     "name": "stdout",
     "output_type": "stream",
     "text": [
      "FPR: 0.0396\n",
      "CI=(0.03595116606388123, 0.04360241963583777)\n"
     ]
    }
   ],
   "source": [
    "test_dist    = expon(scale=20)\n",
    "control_dist = expon(scale=20)\n",
    "\n",
    "check_criterion(test_dist=test_dist, control_dist=control_dist, sample_size=10)"
   ]
  },
  {
   "cell_type": "markdown",
   "id": "b30b8197-1331-488d-a3d0-2478ca8eecdd",
   "metadata": {},
   "source": [
    "Здесь FPR стат. значимо меньше 5%, а значит использовать t-test **можно**. Только надо быть готовым, что он будет не очень мощным. "
   ]
  },
  {
   "cell_type": "markdown",
   "id": "bc0a4522-6eeb-433a-bc6f-93d088c78b88",
   "metadata": {},
   "source": [
    "---"
   ]
  },
  {
   "cell_type": "markdown",
   "id": "8b8070d4-94ef-443d-aab5-4f0b0ec3e308",
   "metadata": {},
   "source": [
    "## 2. Какой критерий лучше?\n",
    "\n",
    "Пусть у вас есть 2 критерия, и оба валидны на наших данных. Как понять на практике, какой из них лучше?\n",
    "\n",
    "Правильный ответ &mdash; надо сравнить мощность 2 критериев! Но как ее узнать?\n",
    "\n",
    "Предлагается повторить ту же процедуру, что мы делали выше, только вместо генерации эксперимента, когда верна $H_0$, генерировать эксперимент, когда верна альтернатива. В случае сравнения средних &mdash; надо добавить эффект к тесту. И вместо FPR считать TPR &mdash; сколько раз мы отвергли нулевую гипотезу. Чем больше &mdash; тем лучше.\n",
    "\n",
    "Точно также проверим на t-test."
   ]
  },
  {
   "cell_type": "code",
   "execution_count": 120,
   "id": "aa6ae952-8e97-49f1-9037-9b340b43d141",
   "metadata": {},
   "outputs": [
    {
     "name": "stdout",
     "output_type": "stream",
     "text": [
      "TPR или мощность: 0.1938\n"
     ]
    }
   ],
   "source": [
    "numpy.random.seed(42)\n",
    "\n",
    "rej_cnt = 0\n",
    "N = 10000\n",
    "alpha=0.05\n",
    "\n",
    "sample_dist = norm(loc=2, scale=3)\n",
    "mu=sample_dist.expect()\n",
    "\n",
    "for i in range(N):\n",
    "    # Генерирую выборку теста и контроля\n",
    "    test    = sample_dist.rvs(15)\n",
    "    control = sample_dist.rvs(15) * 2\n",
    "\n",
    "    # Запускаю критерий и считаю p-value\n",
    "    pvalue = ttest_ind(test, control, equal_var=False, alternative='two-sided').pvalue\n",
    "    \n",
    "    # Проверяю, что pvalue < alpha\n",
    "    rej_cnt += (pvalue < alpha)\n",
    "\n",
    "\n",
    "print(f\"TPR или мощность: {round(rej_cnt / N, 4)}\")"
   ]
  },
  {
   "cell_type": "markdown",
   "id": "de023f81-c39c-42d3-a1d5-25e39bec8c75",
   "metadata": {},
   "source": [
    "Видим, что мощность критерия в данном случае раняется 19%. Если есть второй критерий &mdash; надо запустить такую проверку для 2го критерия и оценить, какой критерий лучше или хуже, не забыв о стат. значимости. Подробнее вы рассмотрите эту процедуру в домашнем задании.\n",
    "\n",
    "Еще есть вопрос: вы оценили 2 критерия лишь при добавлении одного эффекта, например в случае выше, когда $\\mu_T = \\mu_C * 2$. А если бы было другое изменение, сохранились бы результаты, что этот критерий лучше? Не факт, поэтому поэтому надо идеалогически подбирать такой эффект, который чаще всего встретится на практике. Поэтому ваша задача еще верно сымитировать эффект, похожий на настоящий.\n",
    "Логика здесь точно такая же, как и почему лучше генерировать эксперименты на исторических данных, а не на настоящих.\n",
    "\n",
    "То есть, ваша задача для оценки мощности критерия состоит в:\n",
    "1. Создании 1000 экспериментов, на исторических данных, или на симулированных\n",
    "2. Подборе эффекта, который будет лучше всего имитировать истинный проверяемый эффект в гипотезе.\n",
    "\n",
    "\n",
    "----"
   ]
  },
  {
   "cell_type": "markdown",
   "id": "9ccc6a3d-5b55-4606-b281-b885c8b34654",
   "metadata": {},
   "source": [
    "## В записи не будет\n",
    "\n",
    "## 3. Bonus Section &mdash; как создать свой критерий?\n",
    "\n",
    "Из каких 2 шагов состоит создание критерия?\n",
    "\n",
    "1. Придумать статистику для критерия\n",
    "    - И здесь редко у кого бывают проблемы. Вы можете придумать любую функцию от выборки и получить статистику критерия.\n",
    "2. Понять, как распределена статистика.\n",
    "    - А вот здесь уже и начинаются все проблемы: потому что чаще всего вы не знаете, как распределена та или иная статистика.\n",
    "    \n",
    "Обычно для определения распределения во втором пункте используют теорвер для вывода распределения. Но всегда ли это нужно? Что, если бы мы насемплировали распределение статистики? И по этому семплу определили бы критические области?\n",
    "\n",
    "Рассмотрим самую первую задачу:\n",
    "\n",
    "> 📈 **Задача**\n",
    ">\n",
    "> Вы придумали идею для стартапа, где курьеры собирают заказы для клиентов и отвозят им на дом. Стоимость заказа в вашем стартапе &mdash; 10К ₽, а стоимость работы курьера &mdash; 5К ₽.\n",
    "Специфика вашего стартапа такова, что есть большой риск возврата без оплаты. С учетом стоимостей, инвесторы готовы проспонсировать вам инфраструктуру и привлечение клиентов, если вы покажете, что шанс оплаты заказа больше 50%.\n",
    "Вы своими силами обработали 30 заказов, 19 из них были успешно оплачены. Достаточно ли этих данных, чтобы убедить инвесторов?\n",
    "\n",
    "\n",
    "У нас есть выборка $X_1,\\ X_2,\\ ...,\\ X_n,\\ X_i \\sim \\text{Bernoulli}(\\mu)$\n",
    "\n",
    "$H_0: \\mu =\\mu_0 = 0.5\\ vs.\\ H_1: \\mu > 0.5$\n",
    "\n",
    "\n",
    "**Как мы решали задачу ранее**\n",
    "\n",
    "- $T(X^n) = \\underset{i=1}{\\overset{n}{\\sum}} X_i,\\ T \\overset{H_0}{\\sim} \\text{Binom} (30, 0.5)$\n",
    "- Пусть реализация $T(X^n) = 19$. Тогда \n",
    "- $\\text{p-value} = P_{H_0}(T(X^n) \\geq 19) = 1 - P_{H_0}(T(X^n) < 19)$\n"
   ]
  },
  {
   "cell_type": "code",
   "execution_count": 25,
   "id": "25412053-8f96-448d-a67e-2e76657c1949",
   "metadata": {},
   "outputs": [
    {
     "name": "stdout",
     "output_type": "stream",
     "text": [
      "p-value, полученное по старой логике: 0.10024421103298664\n"
     ]
    }
   ],
   "source": [
    "def get_pvalue_by_old_logic(n, mu0, t):\n",
    "    return 1 - binom.cdf(t - 1, n=n, p=mu0)\n",
    "\n",
    "\n",
    "n = 30\n",
    "mu0 = 0.5\n",
    "t = 19\n",
    "\n",
    "old_p_value = get_pvalue_by_old_logic(n, mu0, t)\n",
    "print(f\"p-value, полученное по старой логике: {old_p_value}\")"
   ]
  },
  {
   "cell_type": "markdown",
   "id": "09806d7c-adba-4583-98a2-7c91167c0e78",
   "metadata": {},
   "source": [
    "Наша статистика в этом случае $T(X^n) = \\underset{i=1}{\\overset{n}{\\sum}} X_i$. Давайте теперь попробуем обойтись без теорвера, а именно симуляций и посчитать, в каком случае должен отвергнуться критерий.\n",
    "\n",
    "Каков наш план:\n",
    "1. Симулируем N раз наш эксперимент, например 100 тысяч. В каждом случае считаем статистику $T(X)$. Мы уже делали нечто похожее в предыдущей лекции, когда визуально проверяли критерий t-test."
   ]
  },
  {
   "cell_type": "markdown",
   "id": "2df78501-eedc-4f36-9ba0-869676a41e7d",
   "metadata": {},
   "source": [
    "# Итог\n",
    "\n",
    "В чем заключается метод Монте-Карло в каждой из секции? В генерации большого количества экспериментов и подсчета каких-то статистик на нем.\n",
    "На текущей лекции мы с вами посмотрели разные способы применения Монте-Карло метода:\n",
    "- Как проверять критерий на практике.\n",
    "    - Как генерировать эксперименты для проверки\n",
    "- Как оценивать мощность критерия.\n",
    "<!-- - И как самому приудмать свой критерий, не заниаясь сложной математикой. Метод хороший, но не всегда рабочий. -->\n"
   ]
  }
 ],
 "metadata": {
  "kernelspec": {
   "display_name": "Python 3 (ipykernel)",
   "language": "python",
   "name": "python3"
  },
  "language_info": {
   "codemirror_mode": {
    "name": "ipython",
    "version": 3
   },
   "file_extension": ".py",
   "mimetype": "text/x-python",
   "name": "python",
   "nbconvert_exporter": "python",
   "pygments_lexer": "ipython3",
   "version": "3.9.7"
  }
 },
 "nbformat": 4,
 "nbformat_minor": 5
}
