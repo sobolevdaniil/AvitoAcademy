{
 "cells": [
  {
   "cell_type": "markdown",
   "metadata": {
    "id": "5GqlI13cbP0V"
   },
   "source": [
    "# Прикладная статистика.\n",
    "# Академия Аналитиков Авито\n",
    "# Досдача заданий \"на зачёт\""
   ]
  },
  {
   "cell_type": "markdown",
   "metadata": {},
   "source": [
    "# Home Work 2"
   ]
  },
  {
   "cell_type": "markdown",
   "metadata": {
    "id": "hbimwWZvfqpS"
   },
   "source": [
    "## Задача 1 (1 балл)\n",
    "\n",
    "### На зачет\n",
    "\n",
    "Пусть $x_1, ... x_N$ — реализация выборки $\\xi_1, ... \\xi_N \\sim \\mathcal{N}(\\mu,\\sigma)$. Мы хотим проверить гипотезу:\n",
    "- $H_0: \\mu = \\mu_0$\n",
    "- $H_1: \\mu \\neq \\mu_0$\n",
    "\n",
    "Реализовать критерий Стьюдента — функцию `simple_my_t_test(sample, mu_0, alpha)`. Функция должна вернуть `SimpleMyTtestResults` с полями\n",
    "- is_rejected: отверглась или нет гипотеза H_0 на уровне значимости alpha\n",
    "- pvalue\n",
    "\n",
    "Какие библиотеки можно использовать:\n",
    "\n",
    "```\n",
    "import numpy as np\n",
    "from collections import namedtuple\n",
    "import math\n",
    "from scipy.stats import t\n",
    "```"
   ]
  },
  {
   "cell_type": "code",
   "execution_count": 1,
   "metadata": {
    "id": "DRgV8e-enTmT"
   },
   "outputs": [],
   "source": [
    "import numpy as np\n",
    "from collections import namedtuple\n",
    "import math\n",
    "from scipy.stats import t"
   ]
  },
  {
   "cell_type": "markdown",
   "metadata": {
    "id": "shJrIYcMwirU"
   },
   "source": [
    "**Важно:** что ее решение надо объяснить! Можно не вдаваться в детали, но ваш алгоритм надо описать текстом."
   ]
  },
  {
   "cell_type": "markdown",
   "metadata": {},
   "source": [
    "### Решение"
   ]
  },
  {
   "cell_type": "markdown",
   "metadata": {},
   "source": [
    "Выборка из нормального распределения, применяем т-тест. Статистика для одновыборочного критерия Стьюдента: \n",
    "\n",
    "$$T(X) = \\sqrt{n}\\dfrac{\\overline X - \\mu_0}{\\sqrt{S^2}}$$\n",
    "\n",
    "где $S^2$ - это несмещенная состоятельная оценка дисперсии:\n",
    "\n",
    "$$S^2 = \\dfrac{1}{n - 1}\\underset{i=1}{\\overset{n}{\\sum}}(X_i - \\overline X)^2$$ \n",
    " \n",
    "Считаем значение статистики и находим соответствующее значение pvalue из таблицы или в нашем случае с помощью функции t из scipy.stats. Также не забываем, что стпеней свободы = n - 1.\n",
    "\n",
    "Гипотезы поставлены так, что будем использовать двувыборочный t-test =>\n",
    "\n",
    "$$pvalue = 2 \\cdot min(F_{n-1}(t), 1 - F_{n-1}(t))$$ где t - реализация статистики $T(X)$"
   ]
  },
  {
   "cell_type": "code",
   "execution_count": 2,
   "metadata": {
    "id": "tNBOaEe7jT2l"
   },
   "outputs": [],
   "source": [
    "# Автопроверка\n",
    "\n",
    "MySimpleTtestResults = namedtuple('MySimpleTtestResults', \n",
    "                                  ['is_rejected', 'pvalue'])\n",
    "\n",
    "def my_simple_t_test(sample: list, mu_0: float, alpha: float = 0.05):\n",
    "    \"\"\"\n",
    "    Параметры:\n",
    "    - sample: текущая реализация выборки\n",
    "    - mu_0: мат. ожидание выборки при H_0\n",
    "    - alpha: уровень значимости критерия.\n",
    "        \n",
    "    Возвращает:\n",
    "    - MySimpleTtestResults с полями:\n",
    "        - is_rejected: bool\n",
    "            - отверглась или нет гипотеза H_0 на уровне значимости alpha\n",
    "        - pvalue: float\n",
    "    \"\"\"\n",
    "\n",
    "    is_rejected = None\n",
    "    pvalue = None\n",
    "    \n",
    "    size = len(sample)\n",
    "    t_statistics = (np.mean(sample) - mu_0) / (np.var(sample, ddof=1) / size) ** 0.5 \n",
    "    \n",
    "    pvalue_one_sided = 1 - t(size - 1).cdf(t_statistics)\n",
    "    \n",
    "    \n",
    "    if pvalue_one_sided > 0.5:\n",
    "        pvalue_one_sided = t(size - 1).cdf(t_statistics)\n",
    "        \n",
    "    pvalue = 2 * pvalue_one_sided\n",
    "    \n",
    "    if pvalue > 1:\n",
    "        pvalue = 1\n",
    "    \n",
    "    \n",
    "    if pvalue > alpha:\n",
    "        is_rejected = False\n",
    "    else:\n",
    "        is_rejected = True\n",
    "\n",
    "        \n",
    "    return MySimpleTtestResults(is_rejected, pvalue)"
   ]
  },
  {
   "cell_type": "markdown",
   "metadata": {
    "id": "2K5E08oIygr1"
   },
   "source": [
    "## Задача 3 (4 балла)\n",
    "\n",
    "### На зачет\n",
    "\n",
    "**1. (0.5 баллов)**\n",
    "\n",
    "Написать код для проверки критерия при корректности $H_0$:\n",
    "\n",
    "- Зафиксировать $\\mu = 0,\\ \\mu_0 = 0$ ($H_0$ справедлива)\n",
    "- Зафиксировать $n, \\sigma, \\alpha$ на ваше усмотрение\n",
    "- 10000 раз повторить:\n",
    "    \n",
    "    –сгенереровать выборку $x_1,..., x_n$ из $\\mathcal{N}(\\mu, \\sigma)$\n",
    "    \n",
    "    –вызвать для нее `my_simple_t_test(sample, mu_0, alpha)`\n",
    "    \n",
    "    –на основании выдачи функции принять или не принять $H_1$\n",
    "- замерить долю ошибок первого рода (False Positive Rate)\n",
    "- Проверить, стат значимо или нет на уровне 5% отличается полученный процент ошибок от теоретического $\\alpha$.\n",
    "\n",
    "\n",
    "**2. (1.5 балла)**\n",
    "\n",
    "Провести эксперимент 1 с разными параметрами $n, \\sigma, \\alpha$.\n",
    "Оформить отчет о результатах c графиками, комментариями и выводами.\n",
    "\n",
    "--- \n",
    "**3. (0.5 баллов)**\n",
    "\n",
    "Написать код для проверки критерия при корректности $H_1$:\n",
    "\n",
    "- Зафиксировать $\\mu \\neq 0,\\ \\mu_0 = 0$ ($H_1$ справедлива)\n",
    "- Зафиксировать $n, \\sigma, \\alpha$ на ваше усмотрение\n",
    "- 10000 раз повторить:\n",
    "    \n",
    "    –сгенереровать выборку $x_1,..., x_n$ из $\\mathcal{N}(\\mu, \\sigma)$\n",
    "    \n",
    "    –вызвать для нее `my_simple_t_test(sample, mu_0, alpha)`\n",
    "    \n",
    "    –на основании выдачи функции принять или не принять $H_1$\n",
    "- замерить долю ошибок второго рода (False Negative Rate)\n",
    "- Построить доверительный интервал для мощности критерия при заданном $\\mu$.\n",
    "\n",
    "**2. (1.5 балла)**\n",
    "\n",
    "Провести предыдущий эксперимент с разными параметрами $\\mu, n, \\sigma, \\alpha$.\n",
    "Оформить отчет о результатах c графиками, комментариями и выводами."
   ]
  },
  {
   "cell_type": "markdown",
   "metadata": {},
   "source": [
    "### Решение"
   ]
  },
  {
   "cell_type": "markdown",
   "metadata": {},
   "source": [
    "В данной задаче предлагается реализовать метод Монте-Карло для различных кейсов, приступим:"
   ]
  },
  {
   "cell_type": "code",
   "execution_count": 3,
   "metadata": {},
   "outputs": [],
   "source": [
    "from statsmodels.stats.proportion import proportion_confint\n",
    "from scipy.stats import norm\n",
    "\n",
    "from matplotlib import pyplot as plt"
   ]
  },
  {
   "cell_type": "markdown",
   "metadata": {},
   "source": [
    "#### Первый пункт"
   ]
  },
  {
   "cell_type": "code",
   "execution_count": 4,
   "metadata": {},
   "outputs": [],
   "source": [
    "def check_criterion_FPR(test_dist, mu_0, sample_size, N_exps=10_000, alpha=0.05, to_print=True):\n",
    "    \n",
    "    \"\"\"\n",
    "    Функция для проверки одновыборочного t-test критерия \n",
    "    Возвращает доверительный интервал для FPR, если флаг to_print = False. Иначе печатает результат.\n",
    "\n",
    "    Параметры:\n",
    "        - test_dist: распределение тестовой выборки в эксперименте\n",
    "        - mu: мат. ожидание при нулевой гипотезе\n",
    "        - sample_size: размер выборки теста\n",
    "        - N_exps: число экспериментов, по которым потом считается FPR\n",
    "        - alpha: рассматриваемый fpr\n",
    "        - to_print: печатать результат или нет. Если нет, то функция возвращает дов. интервал для FPR.\n",
    "    \"\"\"\n",
    "    \n",
    "    bad_cnt = 0\n",
    "    for i in range(N_exps):\n",
    "        \n",
    "        # Генерируем выборку\n",
    "        test = test_dist.rvs(sample_size)\n",
    "        \n",
    "        # Запускаем критерий и считаем p-value\n",
    "        pvalue = my_simple_t_test(test, mu_0, alpha).pvalue\n",
    "        \n",
    "        # Проверяем, что pvalue < alpha\n",
    "        bad_cnt += (pvalue < alpha)\n",
    "        \n",
    "        \n",
    "    if to_print:\n",
    "        print(f\"FPR: {round(bad_cnt / N_exps, 4)}\")\n",
    "        print(f\"CI={proportion_confint(count = bad_cnt, nobs = N_exps, alpha=0.05, method='wilson')}\")\n",
    "    else:\n",
    "        return round(bad_cnt / N_exps, 4), proportion_confint(count = bad_cnt, nobs = N_exps, alpha=0.05, method='wilson')"
   ]
  },
  {
   "cell_type": "code",
   "execution_count": 5,
   "metadata": {},
   "outputs": [
    {
     "name": "stdout",
     "output_type": "stream",
     "text": [
      "FPR: 0.0494\n",
      "CI=(0.04532304560552551, 0.05382301372612823)\n"
     ]
    }
   ],
   "source": [
    "mu_0 = 0\n",
    "sigma = 0.1\n",
    "test_dist = norm(loc=mu_0, scale=sigma)\n",
    "\n",
    "check_criterion_FPR(test_dist=test_dist, mu_0=mu_0, sample_size=1_000, N_exps=10_000, alpha=0.05, to_print=True)"
   ]
  },
  {
   "cell_type": "markdown",
   "metadata": {},
   "source": [
    "Значение 0.05 лежит в доверительном интервале, что говорит нам о том, что скорее всего алгоритм написан верно, что хорошо."
   ]
  },
  {
   "cell_type": "markdown",
   "metadata": {},
   "source": [
    "#### Второй пункт"
   ]
  },
  {
   "cell_type": "code",
   "execution_count": 6,
   "metadata": {},
   "outputs": [],
   "source": [
    "def plot_figure_with_ci(param, fpr_values, ci_values, vis=0.1):\n",
    "    plt.figure(figsize=(12, 6))\n",
    "    plt.plot(param, fpr_values)\n",
    "    plt.fill_between(param, np.array(ci_values)[:, 0], np.array(ci_values)[:, 1], alpha=vis)\n",
    "    plt.show()"
   ]
  },
  {
   "cell_type": "markdown",
   "metadata": {},
   "source": [
    "##### Меняем параметр n"
   ]
  },
  {
   "cell_type": "code",
   "execution_count": 7,
   "metadata": {
    "scrolled": true
   },
   "outputs": [],
   "source": [
    "fpr_values = []\n",
    "ci_values = []\n",
    "\n",
    "n = [2, 5, 10, 50, 100, 500, 1_000, 5_000]\n",
    "\n",
    "mu_0 = 0\n",
    "sigma = 0.1\n",
    "test_dist = norm(loc=mu_0, scale=sigma)\n",
    "\n",
    "for sample_size in n:\n",
    "    result = check_criterion_FPR(test_dist=test_dist, \n",
    "                                  mu_0=mu_0, \n",
    "                                  sample_size=sample_size, \n",
    "                                  N_exps=10_000, \n",
    "                                  alpha=0.05, \n",
    "                                  to_print=False)\n",
    "    fpr_values.append(result[0])\n",
    "    ci_values.append([*result[1]])"
   ]
  },
  {
   "cell_type": "code",
   "execution_count": 8,
   "metadata": {},
   "outputs": [
    {
     "data": {
      "image/png": "[encoded data removed]",
      "text/plain": [
       "<Figure size 1200x600 with 1 Axes>"
      ]
     },
     "metadata": {},
     "output_type": "display_data"
    }
   ],
   "source": [
    "plot_figure_with_ci(n, fpr_values, ci_values)"
   ]
  },
  {
   "cell_type": "markdown",
   "metadata": {},
   "source": [
    "Так как мы рассматриваем выборку из нормального распределения, то по теории, мы никак не должны зависеть от количества элементоов в выборке, что мы и видим, значение fpr=0.05 есть всегда в доверительном интервале."
   ]
  },
  {
   "cell_type": "markdown",
   "metadata": {},
   "source": [
    "##### Меняем параметр sigma"
   ]
  },
  {
   "cell_type": "code",
   "execution_count": 9,
   "metadata": {},
   "outputs": [],
   "source": [
    "fpr_values = []\n",
    "ci_values = []\n",
    "\n",
    "sigmas = [0.00001, 0.001, 0.01, 0.1, 1, 10, 100, 1000]\n",
    "mu_0 = 0\n",
    "\n",
    "for sigma in sigmas:\n",
    "    test_dist = norm(loc=mu_0, scale=sigma)\n",
    "    result = check_criterion_FPR(test_dist=test_dist, \n",
    "                                  mu_0=mu_0, \n",
    "                                  sample_size=1_000, \n",
    "                                  N_exps=10_000, \n",
    "                                  alpha=0.05, \n",
    "                                  to_print=False)\n",
    "    fpr_values.append(result[0])\n",
    "    ci_values.append([*result[1]])"
   ]
  },
  {
   "cell_type": "code",
   "execution_count": 10,
   "metadata": {},
   "outputs": [
    {
     "data": {
      "image/png": "[encoded data removed]",
      "text/plain": [
       "<Figure size 1200x600 with 1 Axes>"
      ]
     },
     "metadata": {},
     "output_type": "display_data"
    }
   ],
   "source": [
    "plot_figure_with_ci(sigmas, fpr_values, ci_values)"
   ]
  },
  {
   "cell_type": "markdown",
   "metadata": {},
   "source": [
    "От стандартного отклонения тоже не должно было быть зависимости, что мы наблюдаем на графике, доверительный интервал содержит значение 0.05 везде. \n",
    "\n",
    "Может так показаться, что значение уменьшаются, но это лишь только из-за того, что есть дискретность значений и интервал между некоторым совсем малый, а между другими на сотни раз больше."
   ]
  },
  {
   "cell_type": "markdown",
   "metadata": {},
   "source": [
    "##### Меняем параметр alpha"
   ]
  },
  {
   "cell_type": "code",
   "execution_count": 11,
   "metadata": {},
   "outputs": [],
   "source": [
    "fpr_values = []\n",
    "ci_values = []\n",
    "\n",
    "alphas = [0.0001, 0.001, 0.01, 0.05, 0.1, 0.2, 0.5, 0.9]\n",
    "sigma = 0.1\n",
    "mu_0 = 0\n",
    "\n",
    "test_dist = norm(loc=mu_0, scale=sigma)\n",
    "\n",
    "for alpha in alphas:\n",
    "    result = check_criterion_FPR(test_dist=test_dist, \n",
    "                                  mu_0=mu_0, \n",
    "                                  sample_size=1_000, \n",
    "                                  N_exps=10_000, \n",
    "                                  alpha=alpha, \n",
    "                                  to_print=False)\n",
    "    fpr_values.append(result[0])\n",
    "    ci_values.append([*result[1]])"
   ]
  },
  {
   "cell_type": "code",
   "execution_count": 12,
   "metadata": {
    "scrolled": false
   },
   "outputs": [
    {
     "data": {
      "image/png": "[encoded data removed]",
      "text/plain": [
       "<Figure size 1200x600 with 1 Axes>"
      ]
     },
     "metadata": {},
     "output_type": "display_data"
    }
   ],
   "source": [
    "plot_figure_with_ci(alphas, fpr_values, ci_values, vis=0.1)"
   ]
  },
  {
   "cell_type": "markdown",
   "metadata": {},
   "source": [
    "Критерий отрабатывает правильно и показывает такой fpr, который мы задаем, что говорит нам линейный график."
   ]
  },
  {
   "cell_type": "markdown",
   "metadata": {},
   "source": [
    "#### Третий пункт"
   ]
  },
  {
   "cell_type": "code",
   "execution_count": 13,
   "metadata": {},
   "outputs": [],
   "source": [
    "def check_criterion_TPR(test_dist, mu_0, sample_size, N_exps=1000, alpha=0.05, to_print=True):\n",
    "    \n",
    "    \"\"\"\n",
    "    Функция для проверки одновыборочного t-test критерия \n",
    "    Возвращает доверительный интервал для FPR, если флаг to_print = False. Иначе печатает результат.\n",
    "\n",
    "    Параметры:\n",
    "        - test_dist: Распределение тестовой выборки в эксперименте\n",
    "        - mu_0: мат. ожидание гипотезы, если H_0 верна\n",
    "        - sample_size: размер тестовой выборки\n",
    "        - N_exps: число экспериментов, по которым потом считается FPR\n",
    "        - to_print: печатать результат или нет. Если нет, то функция возвращает дов. интервал для FPR.\n",
    "    \"\"\"\n",
    "    \n",
    "    rej_cnt = 0\n",
    "    for i in range(N_exps):\n",
    "        \n",
    "        # Генерируем выборку\n",
    "        test = test_dist.rvs(sample_size)\n",
    "        \n",
    "        # Запускаем критерий и считаем p-value\n",
    "        pvalue = my_simple_t_test(test, mu_0, alpha).pvalue\n",
    "        \n",
    "        # Проверяем, что pvalue < alpha\n",
    "        rej_cnt += (pvalue < alpha)\n",
    "        \n",
    "    if to_print:\n",
    "        print(f\"TPR: {round(rej_cnt / N_exps, 4)}\")\n",
    "        print(f\"CI={proportion_confint(count = rej_cnt, nobs = N_exps, alpha=0.05, method='wilson')}\")\n",
    "    else:\n",
    "        return round(rej_cnt / N_exps, 4), proportion_confint(count = rej_cnt, nobs = N_exps, alpha=0.05, method='wilson')"
   ]
  },
  {
   "cell_type": "code",
   "execution_count": 14,
   "metadata": {},
   "outputs": [
    {
     "name": "stdout",
     "output_type": "stream",
     "text": [
      "TPR: 0.8824\n",
      "CI=(0.8759389555612356, 0.8885673624848709)\n"
     ]
    }
   ],
   "source": [
    "mu_0 = 0\n",
    "mu = mu_0 + 0.01\n",
    "sigma = 0.1\n",
    "test_dist = norm(loc=mu, scale=sigma)\n",
    "\n",
    "check_criterion_TPR(test_dist=test_dist, mu_0=mu_0, sample_size=1_000, N_exps=10_000, alpha=0.05, to_print=True)"
   ]
  },
  {
   "cell_type": "markdown",
   "metadata": {},
   "source": [
    "С первого взгляда критерий отрабатывает очень даже корректно, показывает очень хорошую можность при таких парметрах, которые дают достаточно сильное отклонение среднего в соотношении к десперсии."
   ]
  },
  {
   "cell_type": "markdown",
   "metadata": {},
   "source": [
    "#### Четвертый пункт"
   ]
  },
  {
   "cell_type": "markdown",
   "metadata": {},
   "source": [
    "##### Меняем параметр mu"
   ]
  },
  {
   "cell_type": "code",
   "execution_count": 15,
   "metadata": {},
   "outputs": [],
   "source": [
    "tpr_values = []\n",
    "ci_values = []\n",
    "\n",
    "delta = 0.001\n",
    "\n",
    "\n",
    "mu_0 = 0\n",
    "mus = np.array([-delta*100, -delta*10, -delta, delta, delta*10, delta*100]) + mu_0\n",
    "sigma = 0.1\n",
    "\n",
    "for mu in mus:\n",
    "    test_dist = norm(loc=mu, scale=sigma)\n",
    "    result = check_criterion_TPR(test_dist=test_dist, \n",
    "                                  mu_0=mu_0, \n",
    "                                  sample_size=1_000, \n",
    "                                  N_exps=10_000, \n",
    "                                  alpha=0.05, \n",
    "                                  to_print=False)\n",
    "    tpr_values.append(result[0])\n",
    "    ci_values.append([*result[1]])"
   ]
  },
  {
   "cell_type": "code",
   "execution_count": 16,
   "metadata": {
    "scrolled": false
   },
   "outputs": [
    {
     "data": {
      "image/png": "[encoded data removed]",
      "text/plain": [
       "<Figure size 1200x600 with 1 Axes>"
      ]
     },
     "metadata": {},
     "output_type": "display_data"
    }
   ],
   "source": [
    "plot_figure_with_ci(mus, tpr_values, ci_values, vis=0.9)"
   ]
  },
  {
   "cell_type": "markdown",
   "metadata": {},
   "source": [
    "Если отклонение от mu_0 малы, тогда и мощность тоже мала, что логично, алгоритму очень сложно заметить очень малые отклонения.\n",
    "\n",
    "При увеличении разности mu - mu_0, tpr возрастает\n",
    "\n",
    "А также видно, что неважно в какую сторону было отклонение."
   ]
  },
  {
   "cell_type": "markdown",
   "metadata": {},
   "source": [
    "##### Меняем параметр n"
   ]
  },
  {
   "cell_type": "code",
   "execution_count": 17,
   "metadata": {},
   "outputs": [],
   "source": [
    "tpr_values = []\n",
    "ci_values = []\n",
    "\n",
    "n = [2, 5, 10, 50, 100, 500, 1_000, 5_000]\n",
    "\n",
    "mu_0 = 0\n",
    "mu = mu_0 + 0.01\n",
    "sigma = 0.1\n",
    "test_dist = norm(loc=mu, scale=sigma)\n",
    "\n",
    "for sample_size in n:\n",
    "    result = check_criterion_TPR(test_dist=test_dist, \n",
    "                                  mu_0=mu_0, \n",
    "                                  sample_size=sample_size, \n",
    "                                  N_exps=10_000, \n",
    "                                  alpha=0.05, \n",
    "                                  to_print=False)\n",
    "    tpr_values.append(result[0])\n",
    "    ci_values.append([*result[1]])"
   ]
  },
  {
   "cell_type": "code",
   "execution_count": 18,
   "metadata": {
    "scrolled": false
   },
   "outputs": [
    {
     "data": {
      "image/png": "[encoded data removed]",
      "text/plain": [
       "<Figure size 1200x600 with 1 Axes>"
      ]
     },
     "metadata": {},
     "output_type": "display_data"
    }
   ],
   "source": [
    "plot_figure_with_ci(n, tpr_values, ci_values, vis=0.9)"
   ]
  },
  {
   "cell_type": "markdown",
   "metadata": {},
   "source": [
    "Тут мы видими, что при росте выборки tpr возрастает, что в принципе логично."
   ]
  },
  {
   "cell_type": "markdown",
   "metadata": {},
   "source": [
    "##### Меняем параметр sigma"
   ]
  },
  {
   "cell_type": "code",
   "execution_count": 19,
   "metadata": {},
   "outputs": [],
   "source": [
    "tpr_values = []\n",
    "ci_values = []\n",
    "\n",
    "sigmas = [0.00001, 0.001, 0.01, 0.1, 1, 10, 100, 1000]\n",
    "mu_0 = 0\n",
    "mu = mu_0 + 10\n",
    "\n",
    "for sigma in sigmas:\n",
    "    test_dist = norm(loc=mu, scale=sigma)\n",
    "    result = check_criterion_TPR(test_dist=test_dist, \n",
    "                                  mu_0=mu_0, \n",
    "                                  sample_size=1_000, \n",
    "                                  N_exps=10_000, \n",
    "                                  alpha=0.05, \n",
    "                                  to_print=False)\n",
    "    tpr_values.append(result[0])\n",
    "    ci_values.append([*result[1]])"
   ]
  },
  {
   "cell_type": "code",
   "execution_count": 20,
   "metadata": {
    "scrolled": false
   },
   "outputs": [
    {
     "data": {
      "image/png": "[encoded data removed]",
      "text/plain": [
       "<Figure size 1200x600 with 1 Axes>"
      ]
     },
     "metadata": {},
     "output_type": "display_data"
    }
   ],
   "source": [
    "plot_figure_with_ci(sigmas, tpr_values, ci_values, vis=0.9)"
   ]
  },
  {
   "cell_type": "markdown",
   "metadata": {},
   "source": [
    "Тут видим сильную зависимость, чем больший разброс в данных, тем меньше мощность критерия."
   ]
  },
  {
   "cell_type": "markdown",
   "metadata": {},
   "source": [
    "##### Меняем параметр alpha"
   ]
  },
  {
   "cell_type": "code",
   "execution_count": 21,
   "metadata": {},
   "outputs": [],
   "source": [
    "tpr_values = []\n",
    "ci_values = []\n",
    "\n",
    "alphas = [0.0001, 0.001, 0.01, 0.05, 0.1, 0.2, 0.5, 0.9]\n",
    "\n",
    "mu_0 = 0\n",
    "mu = mu_0 + 0.01\n",
    "sigma = 0.1\n",
    "test_dist = norm(loc=mu, scale=sigma)\n",
    "\n",
    "for alpha in alphas:\n",
    "    result = check_criterion_TPR(test_dist=test_dist, \n",
    "                                  mu_0=mu_0, \n",
    "                                  sample_size=1_000, \n",
    "                                  N_exps=10_000, \n",
    "                                  alpha=alpha, \n",
    "                                  to_print=False)\n",
    "    tpr_values.append(result[0])\n",
    "    ci_values.append([*result[1]])"
   ]
  },
  {
   "cell_type": "code",
   "execution_count": 22,
   "metadata": {
    "scrolled": true
   },
   "outputs": [
    {
     "data": {
      "image/png": "[encoded data removed]",
      "text/plain": [
       "<Figure size 1200x600 with 1 Axes>"
      ]
     },
     "metadata": {},
     "output_type": "display_data"
    }
   ],
   "source": [
    "plot_figure_with_ci(alphas, tpr_values, ci_values, vis=0.9)"
   ]
  },
  {
   "cell_type": "markdown",
   "metadata": {},
   "source": [
    "Тут опять же всё логично, чем больше уровень значимости, тем больше мощность."
   ]
  },
  {
   "cell_type": "markdown",
   "metadata": {
    "id": "45_mv16Fx2Ex"
   },
   "source": [
    "## Задача 4 (2 балла)\n",
    "\n",
    "### На зачет\n",
    "\n",
    "Петя скачал себе новую игру себе на телефон. Чтобы начать в нее играть, она должна загрузиться от 0% до 100%, где каждый процент игры загружается независимо ни от чего, и время загрузки каждого процента подчиняется экспоненциальному распределению со средним в 2 сек. Но вот незадача: через 3 минуты Пете надо бежать на автобус к бабушке в деревню, а в дороге Петя хочет уже поиграть( Но игра может скачаться только при подключенном домашнем WI-FI, то есть только только в течение этих 3 минут. С какой вероятностью игра успеет загрузиться и Петя сможет поиграть в дороге? В ответе можно использовать следующие функции распределения:\n",
    "\n",
    "- Экспоненциальное\n",
    "- Нормальное\n",
    "- Равномерное\n",
    "\n"
   ]
  },
  {
   "cell_type": "markdown",
   "metadata": {},
   "source": [
    "### Решение"
   ]
  },
  {
   "cell_type": "markdown",
   "metadata": {},
   "source": [
    "Каждый процент игры загружается независимо ни от чего, и время загрузки каждого процента подчиняется экспоненциальному распределению со средним в 2 сек =>\n",
    "\n",
    "$$\\mu = 1 / \\lambda = 2$$\n",
    "$$\\sigma = 1 / \\lambda^2 = 4$$\n",
    "\n",
    "А так как каждый процент загружается незивисимо => мы имеем дело с суммой 100 независимых величин, далее гофорим, что по ЦПТ (мы имеем ей право пользоваться так как имеем дело с достаточно большой последовательностью независимых одинаково распределенных случайных величин, имеющих конечное мат ожидание и дисперсию):\n",
    "\n",
    "$$\\sum_{i=1}^n \\sim Norm(n * \\mu, n * \\sigma^2)$$\n",
    "\n",
    "$$ n * \\mu = 100 \\cdot 2 = 200$$\n",
    "$$ n * \\sigma^2 = 100 \\cdot 4 = 400$$\n",
    "\n",
    "\n",
    "Далее применяем функцию cdf к norm(200, 400), указывая парметр - как время, которое нас интересует - 3 минуты = 180 секунд (так как все вычисления у нас в секундах). Не забыть, что в scipy.stats указывают не дисперсию, а стандартное отклонение."
   ]
  },
  {
   "cell_type": "code",
   "execution_count": 23,
   "metadata": {},
   "outputs": [
    {
     "name": "stdout",
     "output_type": "stream",
     "text": [
      "Вероятность равна: 15.9\n"
     ]
    }
   ],
   "source": [
    "from scipy.stats import norm\n",
    "\n",
    "def get_prob(n: int, mu_0: float, t: float):\n",
    "    \"\"\"\n",
    "    Параметры:\n",
    "    - n: количество необходимых для загрузки процентов\n",
    "    - mu_0: мат. ожидание загрузки одного процента\n",
    "    - t: время, вероятность загрузки за которое мы хотим найти\n",
    "        \n",
    "    Возвращает:\n",
    "    - вероятность: успеет ли игра загрузиться\n",
    "    \"\"\"\n",
    "    \n",
    "    distribution = norm(loc=n*mu_0, scale=np.sqrt(n)*mu_0)\n",
    "    return distribution.cdf(t)* 100\n",
    "\n",
    "print(f'Вероятность равна: {get_prob(100, 2, 180):.{3}}')"
   ]
  },
  {
   "cell_type": "markdown",
   "metadata": {
    "id": "dI18aIgVfjLR"
   },
   "source": [
    "## Задача 5 (3 балла)\n",
    "\n",
    "### На зачет\n",
    "\n",
    "Пусть есть равные группы A и B. По результатам теста выручка от одного пользователя в среднем в условиях A оценивается Стьдентом как 50 ± 3 руб, а в условиях B как 56 ± 4 руб. Аналитик, увидев такие результаты, говорит, что эффект составил 6 ± 7 руб, а значит результат AB-теста не стат. значим. Все ли корректно в этих рассуждениях? Любой ответ должен быть аргументирован. В случае, еcли в рассуждениях есть ошибка, то надо также посчитать корректно доверительный интервал.\n"
   ]
  },
  {
   "cell_type": "markdown",
   "metadata": {},
   "source": [
    "### Решение"
   ]
  },
  {
   "cell_type": "markdown",
   "metadata": {},
   "source": [
    "Что у нас имеется по условию:\n",
    "\n",
    "- Доверительный интервал для среднего в выборке А 50 ± 3\n",
    "- Доверительный интервал для среднего в выборке B 56 ± 4\n",
    "\n",
    "Мы хотим получить доверительный интервал для наблюдаемого эффекта. \n",
    "\n",
    "Что нам предлагается вычесть средние и сложить отклонения и получить следующий интервал: 6 ± 7\n",
    "\n",
    "С получившимся средним (6) согласиться ещё могу, но то, как рассчитан интервал - как будто наобум."
   ]
  },
  {
   "cell_type": "markdown",
   "metadata": {},
   "source": [
    "Воспользуемся теорией, которую нам давал Тимур Исмагилов в лекциях:\n",
    "\n",
    "Применим некий аналог T'-test для двувыборочного критерия (считаем, что выборки большие). Что мы получим:\n",
    "\n",
    "$$1/M \\cdot (B_1 + ... + B_M) - 1/N \\cdot (A_1 + ... + A_N) \\sim Norm(\\mu_B - \\mu_A, \\sigma^2_A/N + \\sigma^2_B/M)$$\n",
    "\n",
    "Из начальных данных:\n",
    "\n",
    "$$\\mu_B - \\mu_A = 56 - 50 = 6$$\n",
    "$$z_{1-\\alpha}^2*S^2_A/N = 3^2$$\n",
    "$$z_{1-\\alpha}^2*S^2_B/M = 4^2$$\n",
    "\n",
    "И то есть получим, что отклонение для наблюдаемого эффекта равно: $\\sqrt{3^2 + 4^ 2} = 5$, тогда мы получили следующий дверительный интервал для наблюдаемого эффекта: $6 \\pm 5$.\n",
    "\n",
    "И уже при таком расчете 0 не входит в доверительный интервал, значит можно говорить, что изменения статистически значимы."
   ]
  },
  {
   "cell_type": "markdown",
   "metadata": {
    "id": "tT77on75fBaX"
   },
   "source": [
    "## Задача 6\n",
    "\n",
    "### Пункт А. 1 балл: \n",
    "#### На зачет\n",
    "\n",
    "Какая связь между MDE и шириной доверительного интервала в t-test уровня значимости $\\alpha$? Точнее, между MDE и `CI length / 2` (шириной дов. интервала пополам).\n",
    "\n",
    "При каких параметрах ($\\alpha,\\ \\beta$) они будут равны?\n",
    "\n"
   ]
  },
  {
   "cell_type": "markdown",
   "metadata": {},
   "source": [
    "### Решение"
   ]
  },
  {
   "cell_type": "markdown",
   "metadata": {},
   "source": [
    "Так, что у нас вообще такое доверительный интервал для t-test:\n",
    "\n",
    "$$ \\overline{X} \\pm T^{n-1}_{1-\\alpha/2} \\cdot SEM(x)$$\n",
    "\n",
    "где SEM(x) - это стандартная ошибка среднего \n",
    "$$SEM(x) =  \\sqrt{S^2 / n}$$\n",
    "\n",
    "\n",
    "Тогда $CI_{length / 2}$ будет определяться как \n",
    "$$T^{n-1}_{1-\\alpha/2} \\cdot SEM(x)$$"
   ]
  },
  {
   "cell_type": "markdown",
   "metadata": {},
   "source": [
    "А теперь распишем что такое MDE для t-test:\n",
    "$$MDE = m - m_0 = SEM(x) \\cdot (Z_{1-\\alpha} + Z_{1-\\beta})$$\n",
    "\n",
    "где $Z_{1-\\alpha}, Z_{1-\\beta}$ - квантили стандартного нормального распределения"
   ]
  },
  {
   "cell_type": "markdown",
   "metadata": {},
   "source": [
    "На семинаре Дима Лунин говорил, что мы можем подобрать такой параметр $\\beta$, что $MDE = CI / 2$, поэтому буду немного отталкиваться от этой подсказки.\n",
    "\n",
    "Что получаем:\n",
    "\n",
    "$$T^{n-1}_{1-\\alpha/2} \\cdot SEM(x) = SEM(x) \\cdot (Z_{1-\\alpha} + Z_{1-\\beta})$$\n",
    "$$T^{n-1}_{1-\\alpha/2} = (Z_{1-\\alpha} + Z_{1-\\beta})$$\n",
    "\n",
    "Далее, если мы перейдем к двувыборочному критерию: \n",
    "\n",
    "$$T^{n-1}_{1-\\alpha/2} = (Z_{1-\\alpha/2} + Z_{1-\\beta})$$\n",
    "\n",
    "А далее говорим, что при больших выборках t-распределние и нормальное почти совпадает, тогда:\n",
    "\n",
    "$$Z_{1-\\alpha/2} = (Z_{1-\\alpha/2} + Z_{1-\\beta})$$\n",
    "\n",
    "Последнее можно было интерпертировать как \"применяем T'-test\"\n",
    "\n",
    "И в итоге получаем:\n",
    "\n",
    "$$0 = Z_{1-\\beta}$$"
   ]
  },
  {
   "cell_type": "code",
   "execution_count": 24,
   "metadata": {},
   "outputs": [
    {
     "data": {
      "text/plain": [
       "0.5"
      ]
     },
     "execution_count": 24,
     "metadata": {},
     "output_type": "execute_result"
    }
   ],
   "source": [
    "norm(loc=0, scale=1).cdf(0)"
   ]
  },
  {
   "cell_type": "markdown",
   "metadata": {},
   "source": [
    "Тогда получим при $\\\\beta=0.5 => CI_{length / 2} = MDE$\n",
    "\n",
    "Данный ответ мы получили для достаточно больших размеров выборок (когда t-распределение можно аппроксимировать нормальным) и для любых значений $\\alpha$"
   ]
  },
  {
   "cell_type": "markdown",
   "metadata": {},
   "source": [
    "# Home Work 3"
   ]
  },
  {
   "cell_type": "markdown",
   "metadata": {},
   "source": [
    "## Задача 1 (2 балла)\n",
    "\n",
    "### На зачет\n",
    "\n",
    "Мы проводили промо-акцию два раза.\n",
    "\n",
    "- В первый раз мы отправили 38 писем, из них 26 получателей перешли по ссылке.\n",
    "\n",
    "- Во второй раз мы отправили уже 98 писем, и из получателей по ссылке перешли 42.\n",
    "\n",
    "С помощью критерия хи-квадрат определить, насколько значимо изменение CTR между акциями. Можем ли мы делать вывод о том, что информирование во второй промо-акции хуже, чем информирование в первой? Почему?"
   ]
  },
  {
   "cell_type": "code",
   "execution_count": 25,
   "metadata": {},
   "outputs": [
    {
     "data": {
      "text/html": [
       "<div>\n",
       "<style scoped>\n",
       "    .dataframe tbody tr th:only-of-type {\n",
       "        vertical-align: middle;\n",
       "    }\n",
       "\n",
       "    .dataframe tbody tr th {\n",
       "        vertical-align: top;\n",
       "    }\n",
       "\n",
       "    .dataframe thead th {\n",
       "        text-align: right;\n",
       "    }\n",
       "</style>\n",
       "<table border=\"1\" class=\"dataframe\">\n",
       "  <thead>\n",
       "    <tr style=\"text-align: right;\">\n",
       "      <th></th>\n",
       "      <th>Не перешли</th>\n",
       "      <th>Перешли</th>\n",
       "      <th>Всего</th>\n",
       "    </tr>\n",
       "  </thead>\n",
       "  <tbody>\n",
       "    <tr>\n",
       "      <th>Первый раз</th>\n",
       "      <td>12</td>\n",
       "      <td>26</td>\n",
       "      <td>38</td>\n",
       "    </tr>\n",
       "    <tr>\n",
       "      <th>Второй раз</th>\n",
       "      <td>56</td>\n",
       "      <td>42</td>\n",
       "      <td>98</td>\n",
       "    </tr>\n",
       "    <tr>\n",
       "      <th>Всего</th>\n",
       "      <td>68</td>\n",
       "      <td>68</td>\n",
       "      <td>136</td>\n",
       "    </tr>\n",
       "  </tbody>\n",
       "</table>\n",
       "</div>"
      ],
      "text/plain": [
       "            Не перешли  Перешли  Всего\n",
       "Первый раз          12       26     38\n",
       "Второй раз          56       42     98\n",
       "Всего               68       68    136"
      ]
     },
     "execution_count": 25,
     "metadata": {},
     "output_type": "execute_result"
    }
   ],
   "source": [
    "import pandas as pd\n",
    "\n",
    "pd.DataFrame(\n",
    "    [[12, 26, 38], [56, 42, 98], [68, 68, 136]], \n",
    "     index=['Первый раз', 'Второй раз', 'Всего'], \n",
    "     columns=['Не перешли', 'Перешли', 'Всего'],\n",
    ")"
   ]
  },
  {
   "cell_type": "markdown",
   "metadata": {},
   "source": [
    "Объём выборки в первом и втором случае достаточно большой >=30, также частота каждой ячейки >=10, что дает нам возможность использовать критерий хи-квадрат без поправок."
   ]
  },
  {
   "cell_type": "markdown",
   "metadata": {},
   "source": [
    "Так как у нас распределение дискретное, и так как мы сравниваем два эмпирических распределения, тогда число степеней свободы будет равно (кол-во столбцов - 1)(кол-во строк - 1) = (2 - 1)(2 - 1) = 1"
   ]
  },
  {
   "cell_type": "markdown",
   "metadata": {},
   "source": [
    "При уровне значимости 0.05 проверим следующую гипотезу:\n",
    "\n",
    "$\\textbf{H_0:}$ сущеественных различий между первым и вторым разом проведения акции нет. CTR существенно не различается от раза проведения акции<br>\n",
    "$\\textbf{H_1:}$ различия есть"
   ]
  },
  {
   "cell_type": "markdown",
   "metadata": {},
   "source": [
    "Посторим таблицу с теоретическими частотами:"
   ]
  },
  {
   "cell_type": "code",
   "execution_count": 26,
   "metadata": {},
   "outputs": [
    {
     "data": {
      "text/html": [
       "<div>\n",
       "<style scoped>\n",
       "    .dataframe tbody tr th:only-of-type {\n",
       "        vertical-align: middle;\n",
       "    }\n",
       "\n",
       "    .dataframe tbody tr th {\n",
       "        vertical-align: top;\n",
       "    }\n",
       "\n",
       "    .dataframe thead th {\n",
       "        text-align: right;\n",
       "    }\n",
       "</style>\n",
       "<table border=\"1\" class=\"dataframe\">\n",
       "  <thead>\n",
       "    <tr style=\"text-align: right;\">\n",
       "      <th></th>\n",
       "      <th>Не перешли</th>\n",
       "      <th>Перешли</th>\n",
       "      <th>Всего</th>\n",
       "    </tr>\n",
       "  </thead>\n",
       "  <tbody>\n",
       "    <tr>\n",
       "      <th>Первый раз</th>\n",
       "      <td>19.0</td>\n",
       "      <td>19.0</td>\n",
       "      <td>38</td>\n",
       "    </tr>\n",
       "    <tr>\n",
       "      <th>Второй раз</th>\n",
       "      <td>49.0</td>\n",
       "      <td>49.0</td>\n",
       "      <td>98</td>\n",
       "    </tr>\n",
       "    <tr>\n",
       "      <th>Всего</th>\n",
       "      <td>68.0</td>\n",
       "      <td>68.0</td>\n",
       "      <td>136</td>\n",
       "    </tr>\n",
       "  </tbody>\n",
       "</table>\n",
       "</div>"
      ],
      "text/plain": [
       "            Не перешли  Перешли  Всего\n",
       "Первый раз        19.0     19.0     38\n",
       "Второй раз        49.0     49.0     98\n",
       "Всего             68.0     68.0    136"
      ]
     },
     "execution_count": 26,
     "metadata": {},
     "output_type": "execute_result"
    }
   ],
   "source": [
    "pd.DataFrame(\n",
    "    [[68*38/136, 68*38/136, 38], [68*98/136, 68*98/136, 98], [68, 68, 136]], \n",
    "     index=['Первый раз', 'Второй раз', 'Всего'], \n",
    "     columns=['Не перешли', 'Перешли', 'Всего'],\n",
    ")"
   ]
  },
  {
   "cell_type": "markdown",
   "metadata": {},
   "source": [
    "Далее мы можем рассчитать эмперическое значение критерия - $\\chi^2_{эмп} = \\sum^n_{i=1}(X_{1} - X_{2})^2 / X_{2}$"
   ]
  },
  {
   "cell_type": "code",
   "execution_count": 27,
   "metadata": {},
   "outputs": [
    {
     "name": "stdout",
     "output_type": "stream",
     "text": [
      "Эмпирическое значение критерия: 7.157894736842105\n",
      "Теоретическое значение критерия (критическое значение) при уровне значимости alpha = 0.05: 3.84\n"
     ]
    }
   ],
   "source": [
    "print('Эмпирическое значение критерия:', (12 - 19)**2/19 + (26 - 19)**2/19 + (56 - 49)**2/49 + (42 - 49)**2/49)\n",
    "print('Теоретическое значение критерия (критическое значение) при уровне значимости alpha = 0.05:', 3.84)"
   ]
  },
  {
   "cell_type": "markdown",
   "metadata": {},
   "source": [
    "Так как эмпирическое значение больше критического, следовательно, мы склоняемся в сторону альтернативной гипотезы: различия между проведениями акции есть. О выполнении гипотезы $H_0$ ничего сказать нельзя"
   ]
  },
  {
   "cell_type": "markdown",
   "metadata": {},
   "source": [
    "Решим тоже самое при помощи библиотеки **scipy**:"
   ]
  },
  {
   "cell_type": "code",
   "execution_count": 28,
   "metadata": {},
   "outputs": [
    {
     "data": {
      "text/plain": [
       "Chi2ContingencyResult(statistic=7.157894736842105, pvalue=0.007463474476521292, dof=1, expected_freq=array([[19., 19.],\n",
       "       [49., 49.]]))"
      ]
     },
     "execution_count": 28,
     "metadata": {},
     "output_type": "execute_result"
    }
   ],
   "source": [
    "from scipy import stats\n",
    "\n",
    "stats.chi2_contingency([[12, 26], [56, 42]], correction=False)"
   ]
  },
  {
   "cell_type": "code",
   "execution_count": 29,
   "metadata": {},
   "outputs": [
    {
     "data": {
      "text/plain": [
       "Chi2ContingencyResult(statistic=6.171858216971, pvalue=0.012979820360836461, dof=1, expected_freq=array([[19., 19.],\n",
       "       [49., 49.]]))"
      ]
     },
     "execution_count": 29,
     "metadata": {},
     "output_type": "execute_result"
    }
   ],
   "source": [
    "stats.chi2_contingency([[12, 26], [56, 42]], correction=True)"
   ]
  },
  {
   "cell_type": "markdown",
   "metadata": {},
   "source": [
    "Можно заметить, что таблица частот получилась абсолютно такой же.\n",
    "\n",
    "Значение статистики хи-квадрат такое же.\n",
    "\n",
    "pvalue = 0.012979820360836461"
   ]
  },
  {
   "cell_type": "markdown",
   "metadata": {},
   "source": [
    "Были поставлены следующие вопросы:<br>\n",
    "_С помощью критерия хи-квадрат определить, насколько значимо изменение CTR между акциями. Можем ли мы делать вывод о том, что информирование во второй промо-акции хуже, чем информирование в первой? Почему?_\n",
    "\n",
    "**Вывод:** С помощью критерия хи-квадрат мы определили, что есть существенные различия между акциями. \n",
    "\n",
    "Мы знаем, оценка максимального правдоподобия конверсии в случае correction=True больше, чем при correction=False. А значит 𝑝1 > 𝑝2."
   ]
  },
  {
   "cell_type": "markdown",
   "metadata": {},
   "source": [
    "P.S.\n",
    "При всём наш способ проверки не внушает доверие, так как сравниваемые частоты были не одного размера. А также из условия не очень понятно, если это были зависимые сопоставлемые группы, то такой тест не следовало бы проводить."
   ]
  },
  {
   "cell_type": "markdown",
   "metadata": {},
   "source": [
    "# Home Work 4"
   ]
  },
  {
   "cell_type": "markdown",
   "metadata": {},
   "source": [
    "## Задача 1 (3 балла)\n",
    "\n",
    "### На зачет\n",
    "\n",
    "\n",
    "Пусть дана выборка из непрерывной случайной величины $\\xi$.\n",
    "Разработать односторонний аналог критерия Манна-Уитни для проверки\n",
    "гипотезы:\n",
    "- $H_0$: медиана случайной величины $\\xi$ равна m0\n",
    "- $H_1$: медиана случайной величины $\\xi$ больше m0\n",
    "\n",
    "Критические области статистики этого критерия нужно определить с помощью формулы, Монте-Карло процесс для их нахождения не допускается."
   ]
  },
  {
   "cell_type": "markdown",
   "metadata": {},
   "source": [
    "Используемые библиотеки:\n",
    "\n",
    "```\n",
    "import numpy as np\n",
    "from collections import namedtuple\n",
    "from scipy.stats.binom import cdf\n",
    "from scipy.stats.norm import cdf\n",
    "from scipy.stats.t import cdf\n",
    "from scipy.stats.bernoulli import cdf\n",
    "```\n",
    "\n",
    "**При этом нельзя пользоваться функцией rvs!**"
   ]
  },
  {
   "cell_type": "code",
   "execution_count": 30,
   "metadata": {},
   "outputs": [],
   "source": [
    "import numpy as np\n",
    "from collections import namedtuple\n",
    "from scipy.stats import binom\n",
    "from scipy.stats import norm\n",
    "from scipy.stats import t\n",
    "from scipy.stats import bernoulli"
   ]
  },
  {
   "cell_type": "markdown",
   "metadata": {},
   "source": [
    "**Также, прежде чем приступить к написанию кода, распишите алгоритм и докажите корректность вашего критерия!**"
   ]
  },
  {
   "cell_type": "markdown",
   "metadata": {},
   "source": [
    "При разборе домашки Дима Лунин упомянул, что задачу можно свести к Бернуллевской, отсюда сразу вытекает решение:\n",
    "\n",
    "- Из каждой величины выборки мы вычтем преполагаемое значение медианы m0\n",
    "- А далее будем смотреть на знаки величин в выборке\n",
    "- Если это действительно медиана, то положительных величин около 50%, то есть веротность их обнаружить 0.5\n",
    "- Если истинная медиана меньше, то вероятность обнаружить меньше 0.5 и наоборот\n",
    "- Отсюда можем построить, например следующий критерий\n",
    "\n",
    "- $H_0$: p=0.5\n",
    "- $H_1$: p>0.5"
   ]
  },
  {
   "cell_type": "markdown",
   "metadata": {},
   "source": [
    "Теперь переходите к реализации критерия:"
   ]
  },
  {
   "cell_type": "code",
   "execution_count": 31,
   "metadata": {},
   "outputs": [],
   "source": [
    "#Автопроверка\n",
    "\n",
    "MyMedianTestResults = namedtuple('MyMedianTestResults', \n",
    "                                  ['is_rejected', 'pvalue'])\n",
    "\n",
    "def median_test(sample: list, mu_0: float, alpha: float = 0.05):\n",
    "    \"\"\"\n",
    "    Параметры:\n",
    "    - sample: текущая реализация выборки\n",
    "    - mu_0: медиана выборки при H_0\n",
    "    - alpha: уровень значимости критерия.\n",
    "        \n",
    "    Возвращает:\n",
    "    - MyMedianTestResults с полями:\n",
    "        - is_rejected: bool\n",
    "            - отверглась или нет гипотеза H_0 на уровне значимости alpha\n",
    "        - pvalue: float\n",
    "    \"\"\"\n",
    "\n",
    "    is_rejected = None\n",
    "    pvalue = None\n",
    "    \n",
    "    ber = np.sign(sample - mu_0)\n",
    "    N = len(ber)\n",
    "    \n",
    "    ber_stat = np.sum(np.where(ber == -1, 0, 1))\n",
    "    \n",
    "    p_value_one_sided = 1 - binom.cdf(ber_stat-1, n=N, p=0.5)\n",
    "        \n",
    "    pvalue = p_value_one_sided\n",
    "    is_rejected = True if pvalue <= alpha else False\n",
    "\n",
    "    return MyMedianTestResults(is_rejected, pvalue)"
   ]
  },
  {
   "cell_type": "markdown",
   "metadata": {},
   "source": [
    "Дополнительно: проверьте корректность вашего критерия) Здесь вы уже можете использовать любые библиотеки, какие вам нужны."
   ]
  },
  {
   "cell_type": "code",
   "execution_count": 32,
   "metadata": {},
   "outputs": [],
   "source": [
    "def check_criterion_FPR(test_dist, mu_0, sample_size, N_exps=10_000, alpha=0.05, to_print=True):\n",
    "    \n",
    "    \"\"\"\n",
    "    Функция для проверки одновыборочного критерия \n",
    "    Возвращает доверительный интервал для FPR, если флаг to_print = False. Иначе печатает результат.\n",
    "\n",
    "    Параметры:\n",
    "        - test_dist: распределение тестовой выборки в эксперименте\n",
    "        - mu: медиана при нулевой гипотезе\n",
    "        - sample_size: размер выборки теста\n",
    "        - N_exps: число экспериментов, по которым потом считается FPR\n",
    "        - alpha: рассматриваемый fpr\n",
    "        - to_print: печатать результат или нет. Если нет, то функция возвращает дов. интервал для FPR.\n",
    "    \"\"\"\n",
    "    \n",
    "    bad_cnt = 0\n",
    "    for i in range(N_exps):\n",
    "        \n",
    "        # Генерируем выборку\n",
    "        test = test_dist.rvs(sample_size)\n",
    "        \n",
    "        # Запускаем критерий\n",
    "        is_rejected = median_test(test, mu_0, alpha).is_rejected\n",
    "        \n",
    "        bad_cnt += is_rejected\n",
    "        \n",
    "        \n",
    "    if to_print:\n",
    "        print(f\"FPR: {round(bad_cnt / N_exps, 4)}\")\n",
    "        print(f\"CI={proportion_confint(count = bad_cnt, nobs = N_exps, alpha=0.05, method='wilson')}\")\n",
    "    else:\n",
    "        return proportion_confint(count = bad_cnt, nobs = N_exps, alpha=0.05, method='wilson')"
   ]
  },
  {
   "cell_type": "code",
   "execution_count": 33,
   "metadata": {},
   "outputs": [
    {
     "name": "stdout",
     "output_type": "stream",
     "text": [
      "FPR: 0.0421\n",
      "CI=(0.03833671543427698, 0.04621495027358863)\n"
     ]
    }
   ],
   "source": [
    "test_dist = norm(200, 200)\n",
    "check_criterion_FPR(test_dist, mu_0=200, sample_size = 1_000)"
   ]
  },
  {
   "cell_type": "markdown",
   "metadata": {},
   "source": [
    "Доверительный интервал содержит значение 0.05, что хорошо\n",
    "\n",
    "Но можно поиграться с параметром sample_size и увидеть, что при малых размерах выборок fpr занижается в несколько раз."
   ]
  },
  {
   "cell_type": "markdown",
   "metadata": {},
   "source": [
    "## Задача 3 (2 балла)\n",
    "\n",
    "### На зачет\n",
    "\n",
    "Пусть нам нужно оценить $\\mu$ — матожидание некой случайной величины, и у нас\n",
    "есть выборка из нее размером 1000. С помощью бутстрапа соберем 1000 бутстрап-выборок, для каждой посчитаем среднее, получим 1000 средних. Это выборка из\n",
    "1000 объектов, к ней можно применить критерий Стьюдента. Применим, построим\n",
    "доверительный интервал для 𝜇.\n",
    "\n",
    "Почему так делать нельзя?"
   ]
  },
  {
   "cell_type": "markdown",
   "metadata": {},
   "source": [
    "Звучит как какое-то шаманство, непонятно зачем.\n",
    "\n",
    "- Пусть у нас есть какая-то генеральная совокупность F(mu, sigma)\n",
    "- Из неё мы делаем выборку F'(mu', sigma')\n",
    "- Далее берем 1000 бс выборок, считаем средние -> получаем 1000 средних\n",
    "- Далее мы хотим применить t-test к выборке из 1000 средних\n",
    "\n",
    "Из нашей лекции/методички следует, что средние, которые были получены из бс будут распределены вокруг именно mu', а не mu. Поэтому скорее всего по этой примине такой критерий будет неверный. \n",
    "\n",
    "То есть критерий может ошибиться, если среднее по выборке не такое же, как среднее в генеральной совокупности, а отклонилось от него на некое недопустимое для данного критерия значение."
   ]
  },
  {
   "cell_type": "markdown",
   "metadata": {},
   "source": [
    "## Задача 5 (4 балла)\n",
    "\n",
    "### На зачет\n",
    "\n",
    "Пусть у вас выборка из неизвестного распределения (но все элементы больше 0) и вы хотите проверить гипотезу:\n",
    "$$\n",
    "\\begin{align}\n",
    "&H_0: E \\left[\\dfrac{median(X)}{\\overline{X}} \\right] = \\theta_0\\ vs.\\\\\n",
    "&H_1: E \\left[\\dfrac{median(X)}{\\overline{X}} \\right] \\neq \\theta_0\n",
    "\\end{align}\n",
    "$$\n",
    "* черточка означает среднее по выборке.\n",
    "\n",
    "С помощью бутстрапа постройте критерий уровня значимости $\\alpha$ для проверки этой гипотезы.\n",
    "\n",
    "Для этого вам надо:\n",
    "- Показать, в каких случаях вы отвергаете $H_0$\n",
    "- Как посчитать p-value.\n",
    "\n",
    "Для начала теоретически поясните ваш алгоритм действий."
   ]
  },
  {
   "cell_type": "markdown",
   "metadata": {},
   "source": [
    "Для этой задачи на разборе были большие подсказки) <br>\n",
    "Постараюсь воспроизвести то, про что Дима рассказывал)\n",
    "\n",
    "\n",
    "Вся задача сводится к тому, чтобы корректно определить $\\alpha$. Почему?:\n",
    "\n",
    "Что такое доверительный интервал?: это такое множество точек, что для каждой точки входящей в интервал критерий ещё не отвергает $H_0$\n",
    "\n",
    "- Если критерий не отвергся, то pvalue > alpha\n",
    "- Если криетрий отвергся, то pvalue <= alpha\n",
    "\n",
    "Тогда нам нужно найти такие alpha, что будут являтся границами доверительного интервала.\n",
    "\n",
    "Поэтому в нашей задаче нужно понять как находить alpha"
   ]
  },
  {
   "cell_type": "markdown",
   "metadata": {},
   "source": [
    "Способы, как можно находить alpha:\n",
    "\n",
    "- Перебрать различные alpha - запустить цикл с малым шагом и смотреть пока при нашем значении (theta_0) pvalue не будет равен примерно alpha.\n",
    "\n",
    "- Можно получить alpha из определения бутстрапа, так как нам сказано пользоваться процентильным ди, то мы смотрим на распределение theta_* и у него границы дов интервала - это кванитили alpha/2 и 1 - alpha/2, то есть значение theta_0 будет равно одному из этих значений."
   ]
  },
  {
   "cell_type": "markdown",
   "metadata": {},
   "source": [
    "Теперь перйдем к практике:\n",
    "\n",
    "Какими библиотеками вы можете пользоваться:\n",
    "```\n",
    "import numpy as np\n",
    "from collections import namedtuple\n",
    "from scipy.stats.binom\n",
    "from scipy.stats.norm\n",
    "from scipy.stats.t\n",
    "from scipy.stats.bernoulli\n",
    "```"
   ]
  },
  {
   "cell_type": "code",
   "execution_count": 34,
   "metadata": {},
   "outputs": [],
   "source": [
    "import numpy as np\n",
    "from collections import namedtuple\n",
    "from scipy.stats import binom\n",
    "from scipy.stats import norm\n",
    "from scipy.stats import t\n",
    "from scipy.stats import bernoulli\n",
    "\n",
    "import scipy.stats as sps"
   ]
  },
  {
   "cell_type": "code",
   "execution_count": 35,
   "metadata": {},
   "outputs": [],
   "source": [
    "#Автопроверка\n",
    "\n",
    "MyStrangeStatResults = namedtuple('MyStrangeStatResults', \n",
    "                                  ['is_rejected', 'pvalue'])\n",
    "\n",
    "\n",
    "def bootstrap_strange_stat_checker(sample: list, mu_0: float, alpha: float = 0.05):\n",
    "    \"\"\"\n",
    "    Параметры:\n",
    "    - sample: текущая реализация выборки\n",
    "    - mu_0: значение странной синусной статистики при H_0\n",
    "    - alpha: уровень значимости критерия.\n",
    "        \n",
    "    Возвращает:\n",
    "    - MyStrangeStatResults с полями:\n",
    "        - is_rejected: bool\n",
    "            - отверглась или нет гипотеза H_0 на уровне значимости alpha\n",
    "        - pvalue: float\n",
    "    \"\"\"\n",
    "    \n",
    "    theta_func = lambda x: np.median(x) / np.mean(x)\n",
    "    \n",
    "    boot_samples_size = 1000\n",
    "    is_rejected = None\n",
    "    pvalue = None\n",
    "    \n",
    "    n = len(sample)\n",
    "    bc_samples = np.random.choice(sample, size=(n, boot_samples_size), replace=True)\n",
    "    theta_samples = np.array([theta_func(sample) for sample in bc_samples])\n",
    "\n",
    "    pvalue = 2 * min(np.mean(theta_samples < mu_0), np.mean(theta_samples > mu_0))\n",
    "    is_rejected = True if pvalue <= alpha else False\n",
    "\n",
    "    return MyStrangeStatResults(is_rejected, pvalue)"
   ]
  },
  {
   "cell_type": "markdown",
   "metadata": {},
   "source": [
    "Теперь проверим на время ваш код"
   ]
  },
  {
   "cell_type": "code",
   "execution_count": 36,
   "metadata": {},
   "outputs": [],
   "source": [
    "import scipy.stats as sps\n",
    "from tqdm.notebook import tqdm"
   ]
  },
  {
   "cell_type": "code",
   "execution_count": 37,
   "metadata": {
    "scrolled": true
   },
   "outputs": [
    {
     "data": {
      "application/vnd.jupyter.widget-view+json": {
       "model_id": "b8e852a166f54273b0655eff3e7ecf64",
       "version_major": 2,
       "version_minor": 0
      },
      "text/plain": [
       "  0%|          | 0/1000 [00:00<?, ?it/s]"
      ]
     },
     "metadata": {},
     "output_type": "display_data"
    }
   ],
   "source": [
    "# Этот код на сервере академии должен выполняться не более 2 минут,\n",
    "# иначе он не пройдет проверку по времени\n",
    "for i in tqdm(range(1000)):\n",
    "    sample = sps.expon(loc=1, scale=1000).rvs(1000)\n",
    "    bootstrap_strange_stat_checker(sample, mu_0=10, alpha=0.05)"
   ]
  }
 ],
 "metadata": {
  "colab": {
   "provenance": []
  },
  "kernelspec": {
   "display_name": "Python 3 (ipykernel)",
   "language": "python",
   "name": "python3"
  },
  "language_info": {
   "codemirror_mode": {
    "name": "ipython",
    "version": 3
   },
   "file_extension": ".py",
   "mimetype": "text/x-python",
   "name": "python",
   "nbconvert_exporter": "python",
   "pygments_lexer": "ipython3",
   "version": "3.8.16"
  }
 },
 "nbformat": 4,
 "nbformat_minor": 1
}
