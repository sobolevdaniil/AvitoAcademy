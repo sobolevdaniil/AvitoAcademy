{
 "cells": [
  {
   "cell_type": "markdown",
   "metadata": {
    "toc": true
   },
   "source": [
    "<h1>Содержание<span class=\"tocSkip\"></span></h1>\n",
    "<div class=\"toc\"><ul class=\"toc-item\"><li><span><a href=\"#Прикладная-статистика.-ДЗ-4.\" data-toc-modified-id=\"Прикладная-статистика.-ДЗ-4.-1\"><span class=\"toc-item-num\">1&nbsp;&nbsp;</span>Прикладная статистика. ДЗ 4.</a></span></li><li><span><a href=\"#Академия-Аналитиков-Авито\" data-toc-modified-id=\"Академия-Аналитиков-Авито-2\"><span class=\"toc-item-num\">2&nbsp;&nbsp;</span>Академия Аналитиков Авито</a></span></li><li><span><a href=\"#1-часть\" data-toc-modified-id=\"1-часть-3\"><span class=\"toc-item-num\">3&nbsp;&nbsp;</span>1 часть</a></span><ul class=\"toc-item\"><li><span><a href=\"#Задача-1-(3-балла)\" data-toc-modified-id=\"Задача-1-(3-балла)-3.1\"><span class=\"toc-item-num\">3.1&nbsp;&nbsp;</span>Задача 1 (3 балла)</a></span><ul class=\"toc-item\"><li><span><a href=\"#На-зачет\" data-toc-modified-id=\"На-зачет-3.1.1\"><span class=\"toc-item-num\">3.1.1&nbsp;&nbsp;</span>На зачет</a></span></li></ul></li><li><span><a href=\"#Задача-2-(5-баллов)\" data-toc-modified-id=\"Задача-2-(5-баллов)-3.2\"><span class=\"toc-item-num\">3.2&nbsp;&nbsp;</span>Задача 2 (5 баллов)</a></span><ul class=\"toc-item\"><li><span><a href=\"#Первый-способ\" data-toc-modified-id=\"Первый-способ-3.2.1\"><span class=\"toc-item-num\">3.2.1&nbsp;&nbsp;</span>Первый способ</a></span></li><li><span><a href=\"#Второй-способ:\" data-toc-modified-id=\"Второй-способ:-3.2.2\"><span class=\"toc-item-num\">3.2.2&nbsp;&nbsp;</span>Второй способ:</a></span><ul class=\"toc-item\"><li><span><a href=\"#1-проверка\" data-toc-modified-id=\"1-проверка-3.2.2.1\"><span class=\"toc-item-num\">3.2.2.1&nbsp;&nbsp;</span>1 проверка</a></span></li><li><span><a href=\"#2-проверка\" data-toc-modified-id=\"2-проверка-3.2.2.2\"><span class=\"toc-item-num\">3.2.2.2&nbsp;&nbsp;</span>2 проверка</a></span></li></ul></li></ul></li></ul></li><li><span><a href=\"#Часть-2\" data-toc-modified-id=\"Часть-2-4\"><span class=\"toc-item-num\">4&nbsp;&nbsp;</span>Часть 2</a></span><ul class=\"toc-item\"><li><span><a href=\"#Задача-3-(2-балла)\" data-toc-modified-id=\"Задача-3-(2-балла)-4.1\"><span class=\"toc-item-num\">4.1&nbsp;&nbsp;</span>Задача 3 (2 балла)</a></span><ul class=\"toc-item\"><li><span><a href=\"#На-зачет\" data-toc-modified-id=\"На-зачет-4.1.1\"><span class=\"toc-item-num\">4.1.1&nbsp;&nbsp;</span>На зачет</a></span></li></ul></li><li><span><a href=\"#Задача-4-(3-балла)\" data-toc-modified-id=\"Задача-4-(3-балла)-4.2\"><span class=\"toc-item-num\">4.2&nbsp;&nbsp;</span>Задача 4 (3 балла)</a></span><ul class=\"toc-item\"><li><span><a href=\"#Первый-пункт\" data-toc-modified-id=\"Первый-пункт-4.2.1\"><span class=\"toc-item-num\">4.2.1&nbsp;&nbsp;</span>Первый пункт</a></span></li><li><span><a href=\"#Второй-пункт\" data-toc-modified-id=\"Второй-пункт-4.2.2\"><span class=\"toc-item-num\">4.2.2&nbsp;&nbsp;</span>Второй пункт</a></span></li></ul></li><li><span><a href=\"#Задача-5-(4-балла)\" data-toc-modified-id=\"Задача-5-(4-балла)-4.3\"><span class=\"toc-item-num\">4.3&nbsp;&nbsp;</span>Задача 5 (4 балла)</a></span><ul class=\"toc-item\"><li><span><a href=\"#На-зачет\" data-toc-modified-id=\"На-зачет-4.3.1\"><span class=\"toc-item-num\">4.3.1&nbsp;&nbsp;</span>На зачет</a></span></li></ul></li><li><span><a href=\"#Задача-6-(2-балла)\" data-toc-modified-id=\"Задача-6-(2-балла)-4.4\"><span class=\"toc-item-num\">4.4&nbsp;&nbsp;</span>Задача 6 (2 балла)</a></span></li></ul></li></ul></div>"
   ]
  },
  {
   "cell_type": "markdown",
   "metadata": {
    "id": "0gvMpOBFJil4"
   },
   "source": [
    "# Прикладная статистика. ДЗ 4.\n",
    "# Академия Аналитиков Авито\n",
    "\n",
    "\n",
    "__Правила:__\n",
    "- Жесткий дедлайн: **2022-03-27 17:59:59**. \n",
    "- Ответ и обсуждение решения — в телеграме.\n",
    "\n",
    "- Выполненную работу нужно отправить\n",
    "    - в чатик HW4-<ваше имя> через бота @AAA_stats23_bot\n",
    "- В качестве решения нужно отправить файл ipynb. Ссылка на интернет-ресурсы не принимается. Не публикуйте решения в открытом доступе!\n",
    "- Для выполнения задания используйте этот ноутбук в качествие основы, ничего не удаляя из него. **При этом можно добавлять новые ячейки!**\n",
    "- в ячейках с комменарием `#Автопроверка` нужно заполнить содержимое функций и классов (если есть), которые будут уже объявлены в этой ячейке. При этом:\n",
    "    - Нельзя убрирать или переставять `#Автопроверка` в ячейке. \n",
    "    - Нельзя менять сигнатуру и возвращаемое значение функций. То есть добавлять любой код можно, но удалять, что уже написано - нельзя.\n",
    "    - Нельзя ничего импортировать в таких ячейках. Все доступные для использования библиотеки будут указаны заранее. Такие слова, как `import`, `globals`, `locals`, `eval`, `exec` также нельзя использовать внутри ячеек.\n",
    "    - Нельзя использовать библиотеки, кроме тех, что указаны в задании. Ваш код должен работать именно с эти набором библиотек без любого дополнительного импорта!\n",
    "    - Нельзя использовать код из других ячеек ноутбука (кроме ячейки с импортом, в которой указаны все доступные библиотеки). Единственное исключение - если вы проставите в начало такой ячейки слово `#Автопроверка`. Тогда вы можете использовать код из этой ячейки.\n",
    "    - В случае нарушения этого правила автопроверка будет провалена и вы не получите часть баллов за задачу. \n",
    "    - В случае, если есть несколько ячеек автопроверки, то в каждой такой ячейке можно использовать созданные вами функции (или классы) из других ячеек автопроверки."
   ]
  },
  {
   "cell_type": "markdown",
   "metadata": {
    "id": "xResAbODLSDZ"
   },
   "source": [
    "# 1 часть"
   ]
  },
  {
   "cell_type": "markdown",
   "metadata": {
    "id": "Zg0yqPWUJydC"
   },
   "source": [
    "## Задача 1 (3 балла)\n",
    "\n",
    "### На зачет\n",
    "\n",
    "\n",
    "Пусть дана выборка из непрерывной случайной величины $\\xi$.\n",
    "Разработать односторонний аналог критерия Манна-Уитни для проверки\n",
    "гипотезы:\n",
    "- $H_0$: медиана случайной величины $\\xi$ равна m0\n",
    "- $H_1$: медиана случайной величины $\\xi$ больше m0\n",
    "\n",
    "Критические области статистики этого критерия нужно определить с помощью формулы, Монте-Карло процесс для их нахождения не допускается.\n"
   ]
  },
  {
   "cell_type": "markdown",
   "metadata": {
    "id": "fcYSjZ70KZoe"
   },
   "source": [
    "Используемые библиотеки:\n",
    "\n",
    "```\n",
    "import numpy as np\n",
    "from collections import namedtuple\n",
    "from scipy.stats.binom import cdf\n",
    "from scipy.stats.norm import cdf\n",
    "from scipy.stats.t import cdf\n",
    "from scipy.stats.bernoulli import cdf\n",
    "```\n",
    "\n",
    "**При этом нельзя пользоваться функцией rvs!**"
   ]
  },
  {
   "cell_type": "code",
   "execution_count": null,
   "metadata": {
    "id": "gmczXn_fJZOt"
   },
   "outputs": [],
   "source": [
    "import numpy as np\n",
    "from collections import namedtuple\n",
    "from scipy.stats import binom\n",
    "from scipy.stats import norm\n",
    "from scipy.stats import t\n",
    "from scipy.stats import bernoulli"
   ]
  },
  {
   "cell_type": "markdown",
   "metadata": {
    "id": "nAqhrMCuKjmS"
   },
   "source": [
    "**Также, прежде чем приступить к написанию кода, распишите алгоритм и докажите корректность вашего критерия!**"
   ]
  },
  {
   "cell_type": "markdown",
   "metadata": {
    "id": "uRkyITZZKmNv"
   },
   "source": []
  },
  {
   "cell_type": "markdown",
   "metadata": {
    "id": "R6cCbipbKmiT"
   },
   "source": [
    "Теперь переходите к реализации критерия:"
   ]
  },
  {
   "cell_type": "code",
   "execution_count": null,
   "metadata": {
    "id": "2SXpwK0WKhjC"
   },
   "outputs": [],
   "source": [
    "#Автопроверка\n",
    "\n",
    "MyMedianTestResults = namedtuple('MyMedianTestResults', \n",
    "                                  ['is_rejected', 'pvalue'])\n",
    "\n",
    "def median_test(sample: list, mu_0: float, alpha: float = 0.05):\n",
    "    \"\"\"\n",
    "    Параметры:\n",
    "    - sample: текущая реализация выборки\n",
    "    - mu_0: медиана выборки при H_0\n",
    "    - alpha: уровень значимости критерия.\n",
    "        \n",
    "    Возвращает:\n",
    "    - MyMedianTestResults с полями:\n",
    "        - is_rejected: bool\n",
    "            - отверглась или нет гипотеза H_0 на уровне значимости alpha\n",
    "        - pvalue: float\n",
    "    \"\"\"\n",
    "\n",
    "    is_rejected = None\n",
    "    pvalue = None\n",
    "\n",
    "    #<Ваш код>\n",
    "\n",
    "    return MyMedianTestResults(is_rejected, pvalue)"
   ]
  },
  {
   "cell_type": "markdown",
   "metadata": {
    "id": "0S3ADU8xJ6dk"
   },
   "source": [
    "Дополнительно: проверьте корректность вашего критерия) Здесь вы уже можете использовать любые библиотеки, какие вам нужны."
   ]
  },
  {
   "cell_type": "code",
   "execution_count": null,
   "metadata": {
    "id": "xJoCUnzsJ_C-"
   },
   "outputs": [],
   "source": []
  },
  {
   "cell_type": "markdown",
   "metadata": {
    "id": "CD3elLjyJ_hi"
   },
   "source": [
    "## Задача 2 (5 баллов)\n",
    "\n",
    "На занятии мы обсуждали, что криетрий Манна-Уитни (или логарифмирование метрики) часто применяют, чтобы не учитывать вклад от выбросов, которые портят результаты. Но мы также узнали, что это не лучший способ убирания выбросов, оба этих варианта легко ведут к неверным результатам.\n",
    "\n",
    "Но это не все методы, как справляются с выбросами в A/B-тесте. Иногда просто наиболее крупных пользователей просто выкидывают из теста. В этой задаче мы посмотрим на 2 таких метода.\n",
    "\n",
    "\n",
    "Для начала, давайте смоделируем искусственную задачу, на которой мы будем проверять критерии.\n",
    "\n",
    "- Представим, что ваша метрика в тесте и в контроле взята из экспоненциального распределения (например - выручка). `scale` - любой.\n",
    "- Пользователй в тесте и в контроле будет по 1000 человек.\n",
    "\n",
    "Далее полученные тестовые и контрольные выборки будут обозначаться как `test`, `control`.\n",
    "\n",
    "----\n",
    "**1 задача:** проверить, что для таких выборок можно использовать t-test."
   ]
  },
  {
   "cell_type": "code",
   "execution_count": null,
   "metadata": {
    "id": "J26MZGqyKF4T"
   },
   "outputs": [],
   "source": [
    "# Напишите код проверки в этой ячейке"
   ]
  },
  {
   "cell_type": "markdown",
   "metadata": {
    "id": "6Kt4BadKKwQw"
   },
   "source": [
    "Теперь давайте перейдем к предлагаемым способам борьбы с выбросами. Для этого мы предлагаем следующие варианты: \n",
    "\n",
    "### Первый способ\n",
    "\n",
    "Подобрать квантиль для отсечения топ пользователей в тесте и в контроле, причем в каждом случае подобран свой порог. \n",
    "\n",
    "То есть, новый критерий состоит из 2 этапов:    \n",
    "1. Подобрать квантиль для отсечения в тесте и квантиль для отсечения в контроле.\n",
    "    - Например: \n",
    "    ```\n",
    "    outlier_control_filter = np.quantile(control, 0.99)\n",
    "    outlier_test_filter = np.quantile(test, 0.99)\n",
    "    \n",
    "    control = control[control < outlier_control_filter]\n",
    "    test    = test[test < outlier_test_filter]\n",
    "    ```\n",
    "2. Запустить на новых выборках t-test.\n",
    "\n",
    "Проверьте, корректный ли в таком случае будет критерий? Поясните полученный результат.\n"
   ]
  },
  {
   "cell_type": "code",
   "execution_count": null,
   "metadata": {
    "id": "TNApVdUOKzk1"
   },
   "outputs": [],
   "source": [
    "# Напишите код проверки в этой ячейке"
   ]
  },
  {
   "cell_type": "markdown",
   "metadata": {
    "id": "O8gudSEpK5KE"
   },
   "source": [
    "### Второй способ:\n",
    "\n",
    "1. Подобрать одну общую квантиль для отсечения в тесте и в контроле.\n",
    "    - Например: \n",
    "    ```\n",
    "    outlier_filter = np.quantile(np.concatenate([control, test]), 0.99)\n",
    "    \n",
    "    control = control[control < outlier_filter]\n",
    "    test    = test[test < outlier_filter]\n",
    "    ```\n",
    "2. Запустить на новых выборках t-test.\n",
    "\n",
    "#### 1 проверка\n",
    "\n",
    "Проверьте, корректный ли в таком случае будет критерий? Поясните полученный результат.\n"
   ]
  },
  {
   "cell_type": "code",
   "execution_count": null,
   "metadata": {
    "id": "Cn6RMDcSK7DW"
   },
   "outputs": [],
   "source": []
  },
  {
   "cell_type": "markdown",
   "metadata": {
    "id": "vCX_cMphK8qi"
   },
   "source": [
    "#### 2 проверка\n",
    "\n",
    "Но и это еще не все. Теперь проверьте ваш критерий на симулированном A/B-тесте c эффектом, равным параметру `scale` в вашем распределении и проверьте гипотезу \n",
    "\n",
    "- $H_0: EA = EB$ + scale\n",
    "- $H_1: EA \\neq EB$ + scale\n",
    "\n",
    "Для этого добавьте к каждому элементу в выборке test параметр scale: \n",
    "```\n",
    "test = test + scale\n",
    "```\n",
    "\n",
    "1. Проверьте, что вы умеете с помощью ttest проверять заданную гипотезу. А точнее посмотрите, попадает ли в 95% процентах случаев в доверительный интервал истинный эффект `scale`?\n",
    "\n",
    "2. Работает ли в таком случае предложенный критерий убирания выбросов?\n",
    "\n",
    "3. Отличаются ли результаты у первой и у второй проверок? \n",
    "4. Сделайте вывод, можно ли использовать этот метод для убирания выбросов с точки зрения:\n",
    "    - Теории.\n",
    "    - Практики. Стали бы вы использовать в работе такой способ убирания выбросов?"
   ]
  },
  {
   "cell_type": "code",
   "execution_count": null,
   "metadata": {
    "id": "-H_uiF9EK-pG"
   },
   "outputs": [],
   "source": []
  },
  {
   "cell_type": "markdown",
   "metadata": {
    "id": "jrv-xfgBLb4E"
   },
   "source": [
    "# Часть 2"
   ]
  },
  {
   "cell_type": "markdown",
   "metadata": {
    "id": "klpN-iSkLeTj"
   },
   "source": [
    "## Задача 3 (2 балла)\n",
    "\n",
    "### На зачет\n",
    "\n",
    "Пусть нам нужно оценить $\\mu$ — матожидание некой случайной величины, и у нас\n",
    "есть выборка из нее размером 1000. С помощью бутстрапа соберем 1000 бутстрап-выборок, для каждой посчитаем среднее, получим 1000 средних. Это выборка из\n",
    "1000 объектов, к ней можно применить критерий Стьюдента. Применим, построим\n",
    "доверительный интервал для 𝜇.\n",
    "\n",
    "Почему так делать нельзя?"
   ]
  },
  {
   "cell_type": "code",
   "execution_count": null,
   "metadata": {
    "id": "wvC8tud1LA44"
   },
   "outputs": [],
   "source": []
  },
  {
   "cell_type": "markdown",
   "metadata": {
    "id": "CpRHZecLLqNl"
   },
   "source": [
    "## Задача 4 (3 балла)\n",
    "\n",
    "\n",
    "Пусть $X_1,\\ \\cdots, X_n$ &mdash; некоторая выборка и $X_1^*,\\ \\cdots, X_n^*$ &mdash; построенная по ней бутстрап-выборка.\n",
    "\n",
    "- С какой вероятностью элемент $X_i$ попадет в бутстрап-выборку?\n",
    "- Посчитайте среднее число уникальных элементов в бутстрап-выборке, если в исходной выборке все элементы различны."
   ]
  },
  {
   "cell_type": "markdown",
   "metadata": {
    "id": "FZh-O_0ANDgz"
   },
   "source": [
    "### Первый пункт"
   ]
  },
  {
   "cell_type": "markdown",
   "metadata": {},
   "source": [
    "Нужно посчитать с какой вероятностью элемент $X_i$ попадет в выборку: нам нужно сложить все вероятности, когда элемент $X_i$ один и он мог оказаться на одном из n мест, элементов $X_i$ два и все различные перестановки и так далее до случая, когда все элементы равны $X_i$.\n",
    "\n",
    "Проще решить задачу так - посчитать вероятность, когда элементы $X_i$ вообще нет в выборке и затем вычесть данную величину из еденицы - так мы и получим исходную вероятность. \n",
    "\n",
    "На первое место в бутстрап-выборке мы можем поставить (n-1) элемент из n, на второе тоже (n-1) из n и так далее.\n",
    "\n",
    "$P' = \\frac{n-1}{n} * \\frac{n-1}{n} * ... *\\frac{n-1}{n} = (\\frac{n-1}{n})^n$\n",
    "\n",
    "Тогда ответ к задаче:\n",
    "\n",
    "$P = 1 - (\\frac{n-1}{n})^n$\n",
    "\n",
    "Можем также посмотреть, что будет при n -> inf:\n",
    "\n",
    "$P_{n->inf} = 1 - e^{-1}$"
   ]
  },
  {
   "cell_type": "markdown",
   "metadata": {},
   "source": [
    "### Второй пункт"
   ]
  },
  {
   "cell_type": "markdown",
   "metadata": {},
   "source": [
    "Для того, чтобы ответить на вопрос задачи, для начала посчитаем с какой вероятностью элемент $X_i$ будет уникальным в бутстрап выборке. То есть вероятность того, что он есть в выборке и при этом только один, без повторений.\n",
    "\n",
    "На одно из n мест мы расположим наш элемент $X_i$, а на остальные (n-1) мы расположим (n-1) элемент с повторением. Количество таких вариантов: $n*(n-1)^{n-1}$, а всего варинатов расположить элементы с $n^n$, тогда\n",
    "\n",
    "$P = \\frac AB = \\frac {n*(n-1)^{n-1}}{n^n} = (\\frac {n-1}n)^{n-1} = (1 - \\frac 1n)^{n-1}$\n",
    "\n",
    "Далее делаем стандартный ход при решение задач на мат ожидание: \n",
    "\n",
    "Введём индиктор события уникальности:\n",
    "\n",
    "$\\alpha(i) = \\begin{cases}\n",
    "  1,  & \\mbox{если } X_i \\mbox{ уникальный} \\\\\n",
    "  0, & \\mbox{иначе}\n",
    "\\end{cases}$\n",
    "\n",
    "Понтяно, что число уникальныйх элементов равно сумме индикаторов $\\alpha(i)$. Мы хотим найти мат ожидание уникальных элементов, оно будет равно мат ожиданию величины $\\alpha$ или же сумме мат ожиданий $\\alpha(i)$. Тогда просто напросто получим ответ: количество величин умножить на вероятность того, что величина уникальная:\n",
    "\n",
    "$\\mu = n * (1 - \\frac 1n)^{n-1}$ \n",
    "\n",
    "Также можно посмотреть, а что будет при n -> inf:\n",
    "\n",
    "$\\mu_{n->inf} = n * e^{-1} = \\frac ne$ "
   ]
  },
  {
   "cell_type": "markdown",
   "metadata": {
    "id": "xLYkRd5cNEII"
   },
   "source": [
    "## Задача 5 (4 балла)\n",
    "\n",
    "### На зачет\n",
    "\n",
    "Пусть у вас выборка из неизвестного распределения (но все элементы больше 0) и вы хотите проверить гипотезу:\n",
    "$$\n",
    "\\begin{align}\n",
    "&H_0: E \\left[\\dfrac{median(X)}{\\overline{X}} \\right] = \\theta_0\\ vs.\\\\\n",
    "&H_1: E \\left[\\dfrac{median(X)}{\\overline{X}} \\right] \\neq \\theta_0\n",
    "\\end{align}\n",
    "$$\n",
    "* черточка означает среднее по выборке.\n",
    "\n",
    "С помощью бутстрапа постройте критерий уровня значимости $\\alpha$ для проверки этой гипотезы.\n",
    "\n",
    "Для этого вам надо:\n",
    "- Показать, в каких случаях вы отвергаете $H_0$\n",
    "- Как посчитать p-value.\n",
    "\n",
    "Для начала теоретически поясните ваш алгоритм действий."
   ]
  },
  {
   "cell_type": "code",
   "execution_count": null,
   "metadata": {
    "id": "CX7XhxSpNYdR"
   },
   "outputs": [],
   "source": []
  },
  {
   "cell_type": "markdown",
   "metadata": {
    "id": "5Bu9cofHNbsP"
   },
   "source": [
    "Теперь перйдем к практике:\n",
    "\n",
    "Какими библиотеками вы можете пользоваться:\n",
    "```\n",
    "import numpy as np\n",
    "from collections import namedtuple\n",
    "from scipy.stats.binom\n",
    "from scipy.stats.norm\n",
    "from scipy.stats.t\n",
    "from scipy.stats.bernoulli\n",
    "```"
   ]
  },
  {
   "cell_type": "code",
   "execution_count": null,
   "metadata": {
    "id": "EwwCG-MBNb7c"
   },
   "outputs": [],
   "source": [
    "import numpy as np\n",
    "from collections import namedtuple\n",
    "from scipy.stats import binom\n",
    "from scipy.stats import norm\n",
    "from scipy.stats import t\n",
    "from scipy.stats import bernoulli"
   ]
  },
  {
   "cell_type": "markdown",
   "metadata": {
    "id": "DpmsxdMLNpDz"
   },
   "source": [
    "**Чтобы код прошел автопроверку, используйте процентильный доверительный интервал!**"
   ]
  },
  {
   "cell_type": "code",
   "execution_count": null,
   "metadata": {
    "id": "29uBzveyNdiT"
   },
   "outputs": [],
   "source": [
    "#Автопроверка\n",
    "\n",
    "MyStrangeStatResults = namedtuple('MyStrangeStatResults', \n",
    "                                  ['is_rejected', 'pvalue'])\n",
    "\n",
    "\n",
    "def bootstrap_strange_stat_checker(sample: list, mu_0: float, alpha: float = 0.05):\n",
    "    \"\"\"\n",
    "    Параметры:\n",
    "    - sample: текущая реализация выборки\n",
    "    - mu_0: значение странной синусной статистики при H_0\n",
    "    - alpha: уровень значимости критерия.\n",
    "        \n",
    "    Возвращает:\n",
    "    - MyStrangeStatResults с полями:\n",
    "        - is_rejected: bool\n",
    "            - отверглась или нет гипотеза H_0 на уровне значимости alpha\n",
    "        - pvalue: float\n",
    "    \"\"\"\n",
    "    boot_samples_size = 1000\n",
    "    is_rejected = None\n",
    "    pvalue = None\n",
    "\n",
    "    #<Ваш код>\n",
    "    #Используйте процентильный доверительный интервал!\n",
    "\n",
    "    return MyStrangeStatResults(is_rejected, pvalue)"
   ]
  },
  {
   "cell_type": "markdown",
   "metadata": {
    "id": "_D_o0zihN3PL"
   },
   "source": [
    "Теперь проверим на время ваш код"
   ]
  },
  {
   "cell_type": "code",
   "execution_count": null,
   "metadata": {
    "id": "UvuP0iMdN3gr"
   },
   "outputs": [],
   "source": [
    "import scipy.stats as sps\n",
    "from tqdm.notebook import tqdm"
   ]
  },
  {
   "cell_type": "code",
   "execution_count": null,
   "metadata": {
    "id": "6gDmjN0zN5P0"
   },
   "outputs": [],
   "source": [
    "# Этот код на сервере академии должен выполняться не более 2 минут,\n",
    "# иначе он не пройдет проверку по времени\n",
    "for i in tqdm(range(1000)):\n",
    "    sample = sps.expon(loc=1, scale=1000).rvs(1000)\n",
    "    bootstrap_strange_stat_checker(sample, mu_0=10, alpha=0.05)"
   ]
  },
  {
   "cell_type": "markdown",
   "metadata": {
    "id": "lBrR5UDvN7DN"
   },
   "source": [
    "## Задача 6 (2 балла)\n",
    "\n",
    "Эту задачу стоит решать только после второй задачи из домашки.\n",
    "\n",
    "Пусть мы подозреваем, что в AB-тесте в тестовой группе увеличилась дисперсия по сравнению с контрольной группой. Сформулировать это предположение на языке статистики и\n",
    "реализовать его проверку с помощью бутстрапа.\n",
    "\n",
    "**Ваши теоретические выкладки**\n"
   ]
  },
  {
   "cell_type": "code",
   "execution_count": null,
   "metadata": {
    "id": "YC-aMUfNN_71"
   },
   "outputs": [],
   "source": []
  },
  {
   "cell_type": "markdown",
   "metadata": {
    "id": "j5Hz-FkHODEw"
   },
   "source": [
    "Теперь перйдем к практике:\n",
    "\n",
    "Какими библиотеками вы можете пользоваться:\n",
    "```\n",
    "import numpy as np\n",
    "from collections import namedtuple\n",
    "from scipy.stats.binom\n",
    "from scipy.stats.norm\n",
    "from scipy.stats.t\n",
    "from scipy.stats.bernoulli\n",
    "```"
   ]
  },
  {
   "cell_type": "code",
   "execution_count": null,
   "metadata": {
    "id": "iwYnOxcsODSS"
   },
   "outputs": [],
   "source": [
    "import numpy as np\n",
    "from collections import namedtuple\n",
    "from scipy.stats import binom\n",
    "from scipy.stats import norm\n",
    "from scipy.stats import t\n",
    "from scipy.stats import bernoulli"
   ]
  },
  {
   "cell_type": "code",
   "execution_count": null,
   "metadata": {
    "id": "wExgylYkOFJE"
   },
   "outputs": [],
   "source": [
    "#Автопроверка\n",
    "\n",
    "CompareVarianceResults = namedtuple('CompareVarianceResults', \n",
    "                                  ['is_rejected', 'pvalue'])\n",
    "\n",
    "\n",
    "def variance_ab_checker(control: list, test: list, alpha: float = 0.05):\n",
    "    \"\"\"\n",
    "    Параметры:\n",
    "    - control: контрольная группа\n",
    "    - test: тестовая группа\n",
    "    - alpha: уровень значимости критерия.\n",
    "        \n",
    "    Возвращает:\n",
    "    - CompareVarianceResults с полями:\n",
    "        - is_rejected: bool\n",
    "            - отверглась или нет гипотеза H_0 на уровне значимости alpha\n",
    "        - pvalue: float\n",
    "    \"\"\"\n",
    "    boot_samples_size = 1000\n",
    "    is_rejected = None\n",
    "    pvalue = None\n",
    "    left_bound = None\n",
    "    right_bound = None\n",
    "\n",
    "    #<Ваш код>\n",
    "\n",
    "    return CompareVarianceResults(is_rejected, pvalue)"
   ]
  },
  {
   "cell_type": "code",
   "execution_count": null,
   "metadata": {
    "id": "dp7apAUoONCL"
   },
   "outputs": [],
   "source": [
    "import scipy.stats as sps\n",
    "from tqdm.notebook import tqdm"
   ]
  },
  {
   "cell_type": "code",
   "execution_count": null,
   "metadata": {
    "id": "LPviyX2vONa5"
   },
   "outputs": [],
   "source": [
    "# Этот код на сервере академии должен выполняться не более 10 минут,\n",
    "# иначе он не пройдет проверку по времени\n",
    "for i in tqdm(range(1000)):\n",
    "    test = sps.expon(loc=1, scale=1000).rvs(1000)\n",
    "    control = sps.expon(loc=1, scale=1000).rvs(1000)\n",
    "    variance_ab_checker(test, control, alpha=0.05)"
   ]
  }
 ],
 "metadata": {
  "colab": {
   "provenance": []
  },
  "kernelspec": {
   "display_name": "Python 3 (ipykernel)",
   "language": "python",
   "name": "python3"
  },
  "language_info": {
   "codemirror_mode": {
    "name": "ipython",
    "version": 3
   },
   "file_extension": ".py",
   "mimetype": "text/x-python",
   "name": "python",
   "nbconvert_exporter": "python",
   "pygments_lexer": "ipython3",
   "version": "3.9.7"
  },
  "toc": {
   "base_numbering": 1,
   "nav_menu": {},
   "number_sections": true,
   "sideBar": true,
   "skip_h1_title": false,
   "title_cell": "Содержание",
   "title_sidebar": "Содержание",
   "toc_cell": true,
   "toc_position": {
    "height": "calc(100% - 180px)",
    "left": "10px",
    "top": "150px",
    "width": "245.4595489501953px"
   },
   "toc_section_display": true,
   "toc_window_display": true
  }
 },
 "nbformat": 4,
 "nbformat_minor": 1
}
