{
 "cells": [
  {
   "cell_type": "markdown",
   "metadata": {
    "id": "ix5mg3lvmi-0"
   },
   "source": [
    "# Прикладная статистика. ДЗ 1.\n",
    "# Академия Аналитиков Авито"
   ]
  },
  {
   "cell_type": "markdown",
   "metadata": {
    "id": "Ia8PT-uBmoxo"
   },
   "source": [
    "__Правила:__\n",
    "- Финальный дедлайн: **2022-11-30 23:59**. \n",
    "- После того как ваше решение проверят и ответят, вам дается неделя на исправление тех задач, о которых скажет проверяющий. Ответ и обсуждение решения — в телеграме.\n",
    "\n",
    "- Выполненную работу нужно отправить\n",
    "    - в чатик HW1-<ваше имя> через бота @AAA_stats23_bot\n",
    "    - или в личные сообщения боту.\n",
    "- В качестве решения нужно отправить файл ipynb. Ссылка на интернет-ресурсы не принимается. Не публикуйте решения в открытом доступе!\n",
    "- Для выполнения задания используйте этот ноутбук в качествие основы, ничего не удаляя из него. **При этом можно добавлять новые ячейки!**\n",
    "- в ячейках с комменарием `#Автопроверка` нужно заполнить содержимое функций и классов (если есть), которые будут уже объявлены в этой ячейке. При этом:\n",
    "    - Нельзя убрирать или переставять `#Автопроверка` в ячейке. \n",
    "    - Нельзя менять сигнатуру и возвращаемое значение функций. То есть добавлять любой код можно, но удалять, что уже написано - нельзя.\n",
    "    - Нельзя ничего импортировать в таких ячейках. Все доступные для использования библиотеки будут указаны заранее. Такие слова, как `import`, `globals`, `locals`, `eval`, `exec` также нельзя использовать внутри ячеек.\n",
    "    - Нельзя использовать библиотеки, кроме тех, что указаны в задании. Ваш код должен работать именно с эти набором библиотек без любого дополнительного импорта!\n",
    "    - Нельзя использовать код из других ячеек ноутбука (кроме ячейки с импортом, в которой указаны все доступные библиотеки). Единственное исключение - если вы проставите в начало такой ячейки слово `#Автопроверка`. Тогда вы можете использовать код из этой ячейки.\n",
    "    - В случае нарушения этого правила автопроверка будет провалена и вы не получите часть баллов за задачу. \n",
    "    - В случае, если есть несколько ячеек автопроверки, то в каждой такой ячейке можно использовать созданные вами функции (или классы) из других ячеек автопроверки."
   ]
  },
  {
   "cell_type": "code",
   "execution_count": 1,
   "metadata": {
    "id": "dKDxSJ9WS_tk"
   },
   "outputs": [],
   "source": [
    "from collections import namedtuple\n",
    "from scipy.stats import binom\n",
    "import math\n",
    "import numpy as np\n",
    "import pandas as pd"
   ]
  },
  {
   "cell_type": "markdown",
   "metadata": {
    "id": "PJ-OUCn7atBd"
   },
   "source": [
    "# Общие замечания по задачам с автопроверкой\n",
    "\n",
    "Во всех задачах далее, где потребуется автопроверка, можно использовать только следующие библиотеки:\n",
    "\n",
    "```\n",
    "from collections import namedtuple\n",
    "from scipy.stats import binom\n",
    "import math\n",
    "import numpy as np\n",
    "```\n",
    "\n",
    "Еще раз обращаем внимание, что в ячейках автопроверки __не__ должны быть импортированы какие-либо библиотеки. В других ячейках импортировать библиотеки можно, но при проверке использованы будут только указанные."
   ]
  },
  {
   "cell_type": "markdown",
   "metadata": {
    "id": "ZCxtcEm9TK0j"
   },
   "source": [
    "## Задача 1. 3 балла\n",
    "\n",
    "[Осьминог Пауль](https://www.championat.com/football/article-3238881-samye-izvestnye-zhivotnye-predskazateli.html) 14 раз пробовал угадать победителя футбольного матча.\n",
    "12 раз он угадал правильно, 2 раза — ошибся. Мы хотим проверить гипотезу:\n",
    "\n",
    " - $H_0$: осьминог угадывает победителя матча с вероятностью 0.5\n",
    " - $H_1$: осьминог выбирает победителя  матча с вероятностью $\\neq$ 0.5\n",
    "\n",
    "#### Пункт А. 1 балл: \n",
    "\n",
    "### На зачет\n",
    "\n",
    "Вам нужно разработать статистический критерий для проверки этой гипотезы, а также посчитать p-value."
   ]
  },
  {
   "cell_type": "markdown",
   "metadata": {},
   "source": [
    "## Решение"
   ]
  },
  {
   "cell_type": "markdown",
   "metadata": {},
   "source": [
    "Назовем конверсией отношение числа угаданных Паулем результатов матчей, к общему числу.<br>\n",
    "Тогда необходимо на основании наблюдеемой конверсии определить истинную.<br>\n",
    "Или же абстрактный вопрос задачи заключается в том, что достаточно ли на самом деле данных, чтобы утверждать, что конверсия больше 0.5."
   ]
  },
  {
   "cell_type": "markdown",
   "metadata": {},
   "source": [
    "Не обладая аппаратом мат статистики, мы бы сказали, что раз 12/14 больше 0.5, то осьминог угадывает победителя с вероятностью больше, чем 0.5. Но раз мы им обладаем (не очень), то мы сделаем всё по-хорошему и получим ответ на этот вопрос."
   ]
  },
  {
   "cell_type": "markdown",
   "metadata": {},
   "source": [
    "Гипотезы сформулированны так:\n",
    "\n",
    " - $H_0$: осьминог угадывает победителя матча с вероятностью 0.5\n",
    " - $H_1$: осьминог выбирает победителя  матча с вероятностью $\\neq$ 0.5"
   ]
  },
  {
   "cell_type": "markdown",
   "metadata": {},
   "source": [
    "Введем случауную величину: $X_i$ <br>\n",
    "Пусть она равне 1, если Пауль сделал верный прогноз, 0 - иначе\n",
    "\n",
    "$X_i$ будет распределена по закону Бернулли с параметром $\\mu$, <br>\n",
    "$\\mu$ - вероятность успешного угадывания (это истинная вероятность, она нам неизвестна)."
   ]
  },
  {
   "cell_type": "markdown",
   "metadata": {},
   "source": [
    " - Рассмотрим статистику  $T(X^n) = \\underset{i=1}{\\overset{n}{\\sum}} X_i$, Если ${H_0}$ верна, то $\\ T \\overset{H_0}{\\sim} \\text{Binom} (\\mu)$"
   ]
  },
  {
   "cell_type": "markdown",
   "metadata": {},
   "source": [
    "Пусть нас устраивает ошбика первого рода в 7%, то есть $\\alpha = 0.07$ "
   ]
  },
  {
   "cell_type": "markdown",
   "metadata": {},
   "source": [
    "Посмотрим на наше распределение:"
   ]
  },
  {
   "cell_type": "code",
   "execution_count": 2,
   "metadata": {},
   "outputs": [],
   "source": [
    "from matplotlib import pyplot\n",
    "pyplot.style.use('dark_background')"
   ]
  },
  {
   "cell_type": "code",
   "execution_count": 3,
   "metadata": {},
   "outputs": [],
   "source": [
    "N = 14\n",
    "mu0 = 0.5\n",
    "\n",
    "x = np.arange(start=0, stop=N+1)\n",
    "y = binom.pmf(x, N, mu0)"
   ]
  },
  {
   "cell_type": "code",
   "execution_count": 4,
   "metadata": {},
   "outputs": [
    {
     "data": {
      "text/plain": [
       "<function matplotlib.pyplot.show(close=None, block=None)>"
      ]
     },
     "execution_count": 4,
     "metadata": {},
     "output_type": "execute_result"
    },
    {
     "data": {
      "image/png": "[encoded data removed]",
      "text/plain": [
       "<Figure size 1152x576 with 1 Axes>"
      ]
     },
     "metadata": {},
     "output_type": "display_data"
    }
   ],
   "source": [
    "pyplot.figure(figsize=(16, 8))\n",
    "\n",
    "pyplot.vlines(x, 0, y, colors='w', linestyles='-', linewidth=45.0, label='pmf, $\\mu = 0.5$')\n",
    "\n",
    "pyplot.title('Binomial distribution', fontsize=20)\n",
    "pyplot.legend(loc='best', frameon= False, prop={'size': 15})\n",
    "pyplot.xticks(fontsize=15)\n",
    "pyplot.yticks(fontsize=15)\n",
    "pyplot.show"
   ]
  },
  {
   "cell_type": "code",
   "execution_count": 5,
   "metadata": {},
   "outputs": [],
   "source": [
    "alpha_max = 0.07"
   ]
  },
  {
   "cell_type": "code",
   "execution_count": 6,
   "metadata": {},
   "outputs": [
    {
     "name": "stdout",
     "output_type": "stream",
     "text": [
      "if k <= 3.0 or k >= 11.0 then reject H0\n"
     ]
    }
   ],
   "source": [
    "critical_right = binom.ppf(1-alpha_max/2, n=14, p=0.5) + 1\n",
    "critical_left = binom.ppf(alpha_max/2, n=14, p=0.5) - 1\n",
    "\n",
    "print(f'if k <= {critical_left} or k >= {critical_right} then reject H0')"
   ]
  },
  {
   "cell_type": "markdown",
   "metadata": {},
   "source": [
    "Альфа 0.5 это максимальное значение, а истинная альфа будет равно:"
   ]
  },
  {
   "cell_type": "code",
   "execution_count": 7,
   "metadata": {},
   "outputs": [
    {
     "data": {
      "text/plain": [
       "0.057373046875"
      ]
     },
     "execution_count": 7,
     "metadata": {},
     "output_type": "execute_result"
    }
   ],
   "source": [
    "alpha = (\n",
    "    1 - binom.cdf(critical_right - 1, n=14, p=0.5)\n",
    "    + binom.cdf(critical_left, n=14, p=0.5)\n",
    ")\n",
    "alpha"
   ]
  },
  {
   "cell_type": "markdown",
   "metadata": {},
   "source": [
    "Истинное значение альфа получилось не сильно меньше максимального, что ок"
   ]
  },
  {
   "cell_type": "markdown",
   "metadata": {},
   "source": [
    "Теперь значение получилось более близким к 0.05. Если мы добавим ещё один столбец справа или слева, то уже получим значение больше 0.05, поэтому остановимся на этом."
   ]
  },
  {
   "cell_type": "markdown",
   "metadata": {},
   "source": [
    "Найдем значение p_value. <br>\n",
    "pvalue - это вероятность того, чтобы при уловии верной H0 мы получили 12 + правильных угадываний."
   ]
  },
  {
   "cell_type": "code",
   "execution_count": 8,
   "metadata": {},
   "outputs": [
    {
     "data": {
      "text/plain": [
       "0.012939453125"
      ]
     },
     "execution_count": 8,
     "metadata": {},
     "output_type": "execute_result"
    }
   ],
   "source": [
    "k = 12\n",
    "N = 14\n",
    "mu0 = 0.5\n",
    "\n",
    "p_value_one_side = 1 - binom.cdf(k-1, n=N, p = mu0)\n",
    "\n",
    "if p_value_one_side > 0.5:\n",
    "    p_value_one_side = binom.cdf(k, n=N, p = mu0)\n",
    "\n",
    "\n",
    "p_value_two_sides = p_value_one_side * 2\n",
    "\n",
    "if p_value_two_sides > 1:\n",
    "    p_value_two_sides = 1\n",
    "\n",
    "p_value_two_sides"
   ]
  },
  {
   "cell_type": "code",
   "execution_count": 9,
   "metadata": {},
   "outputs": [
    {
     "name": "stdout",
     "output_type": "stream",
     "text": [
      "reject H0\n"
     ]
    }
   ],
   "source": [
    "if p_value_two_sides <= alpha_max:\n",
    "    print('reject H0')\n",
    "else:\n",
    "    print('do not reject H0')"
   ]
  },
  {
   "cell_type": "markdown",
   "metadata": {},
   "source": [
    "То есть такое значение (12+) очень плохо объясняется нулевой гипотезой. Поэтому мы сколняемся к альтернативной."
   ]
  },
  {
   "cell_type": "markdown",
   "metadata": {
    "executionInfo": {
     "elapsed": 4,
     "status": "ok",
     "timestamp": 1665948902721,
     "user": {
      "displayName": "Dmitriy Lunin",
      "userId": "12580797963137539995"
     },
     "user_tz": -180
    },
    "id": "XiS5n6kXSobS"
   },
   "source": [
    "Реализуем это в виде функции:"
   ]
  },
  {
   "cell_type": "markdown",
   "metadata": {
    "id": "TA2pOET1UA19"
   },
   "source": [
    "Реализуйте критерий `check_paul_criterion(n, k, alpha)`, где \n",
    "- `n` &mdash; количество матчей;\n",
    "- `k` &mdash; количество верных предсказаний от осьминога;\n",
    "- `alpha` &mdash; уровень значимости критерия.\n",
    "\n",
    "Функция должна вернуть `PaulCheckResults` с полями\n",
    "- is_rejected: отверглась или нет гипотеза H_0 на уровне значимости alpha\n",
    "- pvalue\n"
   ]
  },
  {
   "cell_type": "code",
   "execution_count": 10,
   "metadata": {
    "id": "LwmVcAYhUAI1"
   },
   "outputs": [],
   "source": [
    "# Автопроверка\n",
    "\n",
    "PaulCheckResults = namedtuple('PaulCheckResults', ['is_rejected', 'pvalue'])\n",
    "\n",
    "def check_paul_criterion(n: int, k: int, alpha: float = 0.05):\n",
    "    \"\"\"\n",
    "    Параметры:\n",
    "    - n: количество матчей\n",
    "    - k: количество верных предсказаний от осьминога\n",
    "    - alpha: уровень значимости критерия.\n",
    "        \n",
    "    Возвращает:\n",
    "    - PaulCheckResults с полями:\n",
    "        - is_rejected: bool\n",
    "            - отверглась или нет гипотеза H_0 \n",
    "                       на уровне значимости alpha\n",
    "        - pvalue: float\n",
    "    \"\"\"\n",
    "\n",
    "    is_rejected = None\n",
    "    pvalue = None\n",
    "\n",
    "    p_value_one_side = 1 - binom.cdf(k-1, n=N, p = mu0)\n",
    "\n",
    "    if p_value_one_side > 0.5:\n",
    "        p_value_one_side = binom.cdf(k, n=N, p = mu0)\n",
    "\n",
    "\n",
    "    p_value_two_sides = p_value_one_side * 2\n",
    "\n",
    "    if p_value_two_sides > 1:\n",
    "        p_value_two_sides = 1\n",
    "    \n",
    "    pvalue = p_value_two_sides\n",
    "    \n",
    "    if p_value_two_sides <= alpha_max:\n",
    "        is_rejected = True\n",
    "    else:\n",
    "        is_rejected = False\n",
    "    \n",
    "    \n",
    "\n",
    "    return PaulCheckResults(is_rejected, pvalue)\n"
   ]
  },
  {
   "cell_type": "code",
   "execution_count": 11,
   "metadata": {},
   "outputs": [
    {
     "data": {
      "text/plain": [
       "PaulCheckResults(is_rejected=True, pvalue=0.012939453125)"
      ]
     },
     "execution_count": 11,
     "metadata": {},
     "output_type": "execute_result"
    }
   ],
   "source": [
    "check_paul_criterion(14, 12, 0.07)"
   ]
  },
  {
   "cell_type": "markdown",
   "metadata": {
    "id": "M86GBVKbSYR6"
   },
   "source": [
    "#### Пункт B. 2 балла: \n",
    "\n",
    "Какие выводы можно сделать из полученного результата?"
   ]
  },
  {
   "cell_type": "markdown",
   "metadata": {},
   "source": [
    "## Вывод"
   ]
  },
  {
   "cell_type": "markdown",
   "metadata": {
    "id": "bmvrxyMlT_mq"
   },
   "source": [
    "С одной стороны, мы можем сделать вывод о том, что раз мы отвергли нулевую гипотезу, значит осьминог угодывает команду победителя с вероятностью не равной 0.5, то есть неслучайно. Значит можно пожалеть о том, что осьминог Пауль (Ванга) умер, ведь теперь нельзя заработать на ставках.\n",
    "\n",
    "Но с другой стороны, pvalue(=0.012939453125) - это вероятность получить такие или более экстремальные значения при условии справедливости нулевой гипотезы. Это вероятность мала. НО!!! И маловероятные события тоже происходят. И именно маловерятные события получают большую огласку, например как это и другие описанные в этой [статье.](https://www.championat.com/football/article-3238881-samye-izvestnye-zhivotnye-predskazateli.html)"
   ]
  },
  {
   "cell_type": "markdown",
   "metadata": {},
   "source": [
    "<div class=\"alert alert-info\">  Update:<br>\n",
    "\n",
    "Если бы мы сначала поставили гипотезу, а потом провели эксперимент, то могли бы говорить, что Пауль угадывает неслучайно на уроввне значимости 7%.<br>\n",
    "\n",
    "Но наша ошибка была в том, что мы переобучились под результат, так как поставили гипотезу после эксперимента, по-хорошему нужно было поставить гипотезу, а затем провести повторный эксперимент и на новых данных проверить возможности Пауля. </div>"
   ]
  },
  {
   "cell_type": "markdown",
   "metadata": {
    "id": "ukkQeXMzadSw"
   },
   "source": [
    "## Задача 2. 3 балла\n",
    "\n",
    "### На зачет\n",
    "\n",
    "Мы разработали новый дизайн нашего продукта. Вероятность, что он понравится случайному человеку — $p$, и она нам неизвестна. Мы хотим\n",
    "проверить $H_0: p = 1$ с помощью статистического критерия c уровнем значимости $\\alpha$. Предложить критерий для решения этой задачи."
   ]
  },
  {
   "cell_type": "markdown",
   "metadata": {},
   "source": [
    "## Решение"
   ]
  },
  {
   "cell_type": "markdown",
   "metadata": {
    "id": "oZx--5Giam5G"
   },
   "source": [
    "Сформулируем гипотезы:\n",
    "\n",
    " - $H_0: p = 1$\n",
    " - $H_1: p < 1$"
   ]
  },
  {
   "cell_type": "markdown",
   "metadata": {},
   "source": [
    "Введем случауную величину: $X_i$ <br>\n",
    "Пусть она равне 1, если человеку понравился запрос, 0 - иначе\n",
    "\n",
    "$X_i$ будет распределена по закону Бернулли с параметром $p$, <br>\n",
    "$p$ - вероятность, что новый дизайн понравится случайному человеку (она нам неизвестна)"
   ]
  },
  {
   "cell_type": "markdown",
   "metadata": {},
   "source": [
    " - Рассмотрим статистику  $T(X^n) = \\underset{i=1}{\\overset{n}{\\sum}} X_i$"
   ]
  },
  {
   "cell_type": "markdown",
   "metadata": {},
   "source": [
    "- alpha - вероятность ошибки первого рода. Бизнесово зададим равной 0.05"
   ]
  },
  {
   "cell_type": "markdown",
   "metadata": {},
   "source": [
    "<div class=\"alert alert-info\">  \n",
    "\n",
    "P.S. получается, что при таких гипотезах и таком критерии и полагаясь на данную формулу $P_{H_0}(\\sum_{i=1}^N X_i <= critvalue) = \\alpha_0 <= \\alpha$ получим, что истинная альфа равна 0. Так как critvalue = N-1, а p при $H_0$ равно 1.  Это норм?</div> "
   ]
  },
  {
   "cell_type": "markdown",
   "metadata": {},
   "source": [
    "- beta - вероятность ошибки второго рода, другими словами, вероятность ошибочно принять H0, то есть принять H0, если она неверна. Она будет равна $p^N$, где p - вероятность того, что дизайн понравился при верной $H_1$, N - количество юзеров. (То есть она равна вероятности того, что при p<1 все сконвертируются)"
   ]
  },
  {
   "cell_type": "markdown",
   "metadata": {},
   "source": [
    "Мощность критерия равна 1 - $\\beta$, то есть равна $1 - p^N$"
   ]
  },
  {
   "cell_type": "markdown",
   "metadata": {
    "id": "rcJ8DpM6anBh"
   },
   "source": [
    "Напишите функцию `calculate_number_of_users(alpha, beta, p)` — скольки людям нужно показать этот дизайн, чтобы добиться мощности `1 - beta` при заданном `p` и уровне значимости `alpha`.\n",
    "\n",
    "P.S. Утверждается, что на наших тестах ответ не будет превосходить 1000 человек."
   ]
  },
  {
   "cell_type": "code",
   "execution_count": 12,
   "metadata": {
    "id": "6MNoFCQTbCgy"
   },
   "outputs": [],
   "source": [
    "#Автопроверка\n",
    "\n",
    "def calculate_number_of_users(alpha: float, beta: float, p: float):\n",
    "    \"\"\"\n",
    "    Параметры:\n",
    "    - alpha: уровень значимости\n",
    "    - beta: инвертированная мощность критерия. мощность = 1 - beta.\n",
    "    - p: истинная вероятность того, что пользователю понравится дизайн.\n",
    "    Возвращает:\n",
    "    - number_of_users: int\n",
    "        - количество людей, которым надо показать дизайн.\n",
    "    \"\"\"\n",
    "    number_of_users = None\n",
    "    \n",
    "    for n in range(1, 1001):\n",
    "    \n",
    "        true_beta = p ** n\n",
    "        \n",
    "        power = 1 - true_beta\n",
    "        \n",
    "        if power >= 1 - beta:\n",
    "            number_of_users = n\n",
    "            break\n",
    "\n",
    "\n",
    "    return number_of_users"
   ]
  },
  {
   "cell_type": "code",
   "execution_count": 13,
   "metadata": {},
   "outputs": [
    {
     "data": {
      "text/plain": [
       "161"
      ]
     },
     "execution_count": 13,
     "metadata": {},
     "output_type": "execute_result"
    }
   ],
   "source": [
    "calculate_number_of_users(0.05, 0.2, 0.99)"
   ]
  },
  {
   "cell_type": "markdown",
   "metadata": {
    "id": "Gf5XkemMeYTe"
   },
   "source": [
    "## Задача 3."
   ]
  },
  {
   "cell_type": "markdown",
   "metadata": {
    "id": "T-BANkgVegpD"
   },
   "source": [
    "По недостоверной информации (вероятность, что она верна, считаем за 1%), в новой версии нашего сайта есть сложнодетектируемый баг. Мы могли бы попросить разработку его отыскать и починить, но на это уйдет много ресурсов.\n",
    "\n",
    "К счастью, у нас есть старый AB тест (новая версия сайта vs старая), который мы можем проанализировать и с некоторой вероятностью обнаружить наличие бага просто сравнением выборок. У нас есть три критерия для проверки гипотезы \"$H_0$: бага нет, $H_1$: баг есть\":\n",
    "- критерий `A`: $\\alpha = 0.02, 1-\\beta = 0.50$\n",
    "- критерий `B`: $\\alpha = 0.05, 1-\\beta = 0.60$\n",
    "- критерий `C`: $\\alpha = 0.10, 1-\\beta = 0.70$\n",
    "\n",
    "Если критерий находит баг, мы просим разработчиков потратить силы и починить. На это у них уйдет усилий на 1 М ₽ независимо от того, найдут они баг или нет.\n",
    "Если критерий не найдет баг, затраты разработчиков будут нулевыми, но из-за бага мы потеряем в конечном итоге 50 М ₽.\n",
    "\n",
    "#### Пункт А. 2 балла: \n",
    "\n",
    "Какой критерий стоит выбрать?"
   ]
  },
  {
   "cell_type": "markdown",
   "metadata": {},
   "source": [
    "## Решение"
   ]
  },
  {
   "cell_type": "markdown",
   "metadata": {},
   "source": [
    "Нам известны расходы в каждом случае, выведем их в виде таблицы:"
   ]
  },
  {
   "cell_type": "code",
   "execution_count": 14,
   "metadata": {
    "scrolled": true
   },
   "outputs": [
    {
     "data": {
      "text/html": [
       "<div>\n",
       "<style scoped>\n",
       "    .dataframe tbody tr th:only-of-type {\n",
       "        vertical-align: middle;\n",
       "    }\n",
       "\n",
       "    .dataframe tbody tr th {\n",
       "        vertical-align: top;\n",
       "    }\n",
       "\n",
       "    .dataframe thead th {\n",
       "        text-align: right;\n",
       "    }\n",
       "</style>\n",
       "<table border=\"1\" class=\"dataframe\">\n",
       "  <thead>\n",
       "    <tr style=\"text-align: right;\">\n",
       "      <th></th>\n",
       "      <th>Критерий нашел баг</th>\n",
       "      <th>Критерий не нашел бага</th>\n",
       "    </tr>\n",
       "  </thead>\n",
       "  <tbody>\n",
       "    <tr>\n",
       "      <th>Баг есть</th>\n",
       "      <td>1 млн</td>\n",
       "      <td>50 млн</td>\n",
       "    </tr>\n",
       "    <tr>\n",
       "      <th>Бага нет</th>\n",
       "      <td>1 млн</td>\n",
       "      <td>0 млн</td>\n",
       "    </tr>\n",
       "  </tbody>\n",
       "</table>\n",
       "</div>"
      ],
      "text/plain": [
       "         Критерий нашел баг Критерий не нашел бага\n",
       "Баг есть              1 млн                 50 млн\n",
       "Бага нет              1 млн                  0 млн"
      ]
     },
     "metadata": {},
     "output_type": "display_data"
    }
   ],
   "source": [
    "colNames = [\"Критерий нашел баг\", \"Критерий не нашел бага\"]\n",
    "dictTwo = {\n",
    "    \"Баг есть\":['1 млн', '50 млн'],\n",
    "    \"Бага нет\":['1 млн', '0 млн'],\n",
    "}\n",
    "df = pd.DataFrame.from_dict(dictTwo, orient='index', columns=colNames)\n",
    "display(df)"
   ]
  },
  {
   "cell_type": "markdown",
   "metadata": {},
   "source": [
    "Также нам известны параметры $\\alpha$ и $\\beta$ для каждого критерия.\n",
    "\n",
    "Но по их определению мы знаем, что \n",
    "- $\\alpha$ - вероятность отвергнуть нулевую гипотезу, если она верна (Критерий нашел баг, хотя бага нет)\n",
    "- $\\beta$ - вероятность принять нулевую гипотезу, если она неверна (Критерий не нашел баг, хотя баг есть)\n",
    "- $power$ - вероятность отклонить нулевую, если она неверна (Критерий нашел баг и баг есть)"
   ]
  },
  {
   "cell_type": "code",
   "execution_count": 15,
   "metadata": {
    "scrolled": true
   },
   "outputs": [
    {
     "data": {
      "text/html": [
       "<div>\n",
       "<style scoped>\n",
       "    .dataframe tbody tr th:only-of-type {\n",
       "        vertical-align: middle;\n",
       "    }\n",
       "\n",
       "    .dataframe tbody tr th {\n",
       "        vertical-align: top;\n",
       "    }\n",
       "\n",
       "    .dataframe thead th {\n",
       "        text-align: right;\n",
       "    }\n",
       "</style>\n",
       "<table border=\"1\" class=\"dataframe\">\n",
       "  <thead>\n",
       "    <tr style=\"text-align: right;\">\n",
       "      <th></th>\n",
       "      <th>Критерий нашел баг</th>\n",
       "      <th>Критерий не нашел бага</th>\n",
       "    </tr>\n",
       "  </thead>\n",
       "  <tbody>\n",
       "    <tr>\n",
       "      <th>Баг есть</th>\n",
       "      <td>$power$</td>\n",
       "      <td>$beta$</td>\n",
       "    </tr>\n",
       "    <tr>\n",
       "      <th>Бага нет</th>\n",
       "      <td>$alpha$</td>\n",
       "      <td>--</td>\n",
       "    </tr>\n",
       "  </tbody>\n",
       "</table>\n",
       "</div>"
      ],
      "text/plain": [
       "         Критерий нашел баг Критерий не нашел бага\n",
       "Баг есть            $power$                 $beta$\n",
       "Бага нет            $alpha$                     --"
      ]
     },
     "metadata": {},
     "output_type": "display_data"
    }
   ],
   "source": [
    "colNames = [\"Критерий нашел баг\", \"Критерий не нашел бага\"]\n",
    "dictTwo = {\n",
    "    \"Баг есть\":['$power$', '$beta$'],\n",
    "    \"Бага нет\":['$alpha$', '--'],\n",
    "}\n",
    "df = pd.DataFrame.from_dict(dictTwo, orient='index', columns=colNames)\n",
    "display(df)"
   ]
  },
  {
   "cell_type": "markdown",
   "metadata": {},
   "source": [
    "Чтобы определить какой критерий нужен, мы можем посчитать мат ожидание в каждом случае:\n",
    "\n",
    "- Первый случай. Мы игнорировали информацию о том, что у нас есть баг, наши потенциальные расходы: \n",
    "    - Баг есть: 0.01*50\n",
    "    - Бага нет: 0\n",
    "- Второй случай. Мы приняли во внимание информацию, наши потенциальные расходы: \n",
    "    - Баг есть: $0.99*\\alpha$\n",
    "    - Бага нет: $0.01*(power + 50 * \\beta)$"
   ]
  },
  {
   "cell_type": "markdown",
   "metadata": {},
   "source": [
    "Напишем функцию, которая подсчитает мат ожидание, учитывая, что $power = 1 - \\beta$:"
   ]
  },
  {
   "cell_type": "code",
   "execution_count": 16,
   "metadata": {},
   "outputs": [],
   "source": [
    "def cost(alpha, power):\n",
    "    return 0.01*50 + 0.99*alpha + 0.01*(power + (1-power)*50) "
   ]
  },
  {
   "cell_type": "code",
   "execution_count": 17,
   "metadata": {},
   "outputs": [
    {
     "name": "stdout",
     "output_type": "stream",
     "text": [
      "Критерий А: 0.7748\n",
      "Критерий Б: 0.7555000000000001\n",
      "Критерий С: 0.756\n"
     ]
    }
   ],
   "source": [
    "print(f'Критерий А: {cost(0.02, 0.50)}')\n",
    "print(f'Критерий Б: {cost(0.05, 0.60)}')\n",
    "print(f'Критерий С: {cost(0.1, 0.70)}')"
   ]
  },
  {
   "cell_type": "markdown",
   "metadata": {},
   "source": [
    "Наименьшее мат ожидание расходов показывает критерий Б: $\\alpha = 0.05, power = 0.60$"
   ]
  },
  {
   "cell_type": "markdown",
   "metadata": {
    "id": "OA9UO8ZHgPbi"
   },
   "source": [
    "#### Пункт B. 2 балла: \n",
    "Предложите оптимальную стратегию, если потери от ненайденного бага составят вместо 50М:\n",
    "- 20М рублей;\n",
    "- 3М рублей;\n",
    "- 300М рублей."
   ]
  },
  {
   "cell_type": "code",
   "execution_count": 18,
   "metadata": {},
   "outputs": [],
   "source": [
    "def cost(alpha, power, exp):\n",
    "    return 0.01*exp + 0.99*alpha + 0.01*(power + (1-power)*exp) "
   ]
  },
  {
   "cell_type": "markdown",
   "metadata": {},
   "source": [
    "#### Если расходы составляют 20М рублей"
   ]
  },
  {
   "cell_type": "code",
   "execution_count": 19,
   "metadata": {
    "scrolled": true
   },
   "outputs": [
    {
     "name": "stdout",
     "output_type": "stream",
     "text": [
      "Критерий А: 0.32480000000000003\n",
      "Критерий Б: 0.3355\n",
      "Критерий С: 0.36600000000000005\n"
     ]
    }
   ],
   "source": [
    "print(f'Критерий А: {cost(0.02, 0.50, 20)}')\n",
    "print(f'Критерий Б: {cost(0.05, 0.60, 20)}')\n",
    "print(f'Критерий С: {cost(0.1, 0.70, 20)}')"
   ]
  },
  {
   "cell_type": "markdown",
   "metadata": {},
   "source": [
    "Тогда наилучший критерий А: $\\alpha = 0.02, power = 0.50$"
   ]
  },
  {
   "cell_type": "markdown",
   "metadata": {},
   "source": [
    "#### Если расходы составляют 3М рублей"
   ]
  },
  {
   "cell_type": "code",
   "execution_count": 20,
   "metadata": {
    "scrolled": false
   },
   "outputs": [
    {
     "name": "stdout",
     "output_type": "stream",
     "text": [
      "Критерий А: 0.0698\n",
      "Критерий Б: 0.0975\n",
      "Критерий С: 0.14500000000000002\n"
     ]
    }
   ],
   "source": [
    "print(f'Критерий А: {cost(0.02, 0.50, 3)}')\n",
    "print(f'Критерий Б: {cost(0.05, 0.60, 3)}')\n",
    "print(f'Критерий С: {cost(0.1, 0.70, 3)}')"
   ]
  },
  {
   "cell_type": "markdown",
   "metadata": {},
   "source": [
    "Тогда наилучший критерий А: $\\alpha = 0.02, power = 0.5$"
   ]
  },
  {
   "cell_type": "markdown",
   "metadata": {},
   "source": [
    "#### Если расходы составляют 300М рублей"
   ]
  },
  {
   "cell_type": "code",
   "execution_count": 21,
   "metadata": {},
   "outputs": [
    {
     "name": "stdout",
     "output_type": "stream",
     "text": [
      "Критерий А: 4.5248\n",
      "Критерий Б: 4.2555\n",
      "Критерий С: 4.006\n"
     ]
    }
   ],
   "source": [
    "print(f'Критерий А: {cost(0.02, 0.50, 300)}')\n",
    "print(f'Критерий Б: {cost(0.05, 0.60, 300)}')\n",
    "print(f'Критерий С: {cost(0.1, 0.70, 300)}')"
   ]
  },
  {
   "cell_type": "markdown",
   "metadata": {},
   "source": [
    "Тогда наилучший критерий C: $\\alpha = 0.1, power = 0.7$"
   ]
  },
  {
   "cell_type": "markdown",
   "metadata": {},
   "source": [
    "#### Небольшой вывод:"
   ]
  },
  {
   "cell_type": "markdown",
   "metadata": {},
   "source": [
    "Чем больше сумма расходов при необнаружении бага, тем большую мощность критерия мы хотим потребовать."
   ]
  }
 ],
 "metadata": {
  "colab": {
   "collapsed_sections": [],
   "provenance": []
  },
  "kernelspec": {
   "display_name": "Python 3 (ipykernel)",
   "language": "python",
   "name": "python3"
  },
  "language_info": {
   "codemirror_mode": {
    "name": "ipython",
    "version": 3
   },
   "file_extension": ".py",
   "mimetype": "text/x-python",
   "name": "python",
   "nbconvert_exporter": "python",
   "pygments_lexer": "ipython3",
   "version": "3.9.7"
  }
 },
 "nbformat": 4,
 "nbformat_minor": 1
}
