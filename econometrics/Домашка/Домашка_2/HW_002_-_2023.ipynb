{
 "cells": [
  {
   "cell_type": "markdown",
   "metadata": {},
   "source": [
    "# Академия Аналитиков Авито"
   ]
  },
  {
   "cell_type": "markdown",
   "metadata": {},
   "source": [
    "# Эконометрика"
   ]
  },
  {
   "cell_type": "markdown",
   "metadata": {},
   "source": [
    "# Домашняя работа №2"
   ]
  },
  {
   "cell_type": "markdown",
   "metadata": {},
   "source": [
    "## №1 (20 баллов)"
   ]
  },
  {
   "cell_type": "markdown",
   "metadata": {},
   "source": [
    "- Допустим, у нас есть подобная регрессия (допустим, что мы центрировали переменные):\n",
    "$\n",
    "y = \\beta_1 \\cdot X_1 + \\beta_2 \\cdot X_2 + u\n",
    "$\n",
    "- Однако, наш $X_2$ абсолютно линейно зависит от $X_1$:\n",
    "$\n",
    "X_2 = \\mu \\cdot X_1\n",
    "$\n",
    "\n",
    "- Выразите через $X_1$:  \n",
    "    - $\n",
    "\\sum{X_2^2} = \\sum{\\mu^2X_1^2} = \\mu^2\\sum{X_1^2}\n",
    "$\n",
    "    - $\n",
    "\\sum{(X_2 \\cdot y)} = \\mu \\sum{(X_1 \\cdot y)}\n",
    "$\n",
    "    - $\n",
    "\\sum{(X_1 \\cdot X_2)} = \\mu\\sum{X_1^2}\n",
    "$\n",
    "\n",
    "- А теперь выразите $\\beta_2$, зная формулу для нее в случае регрессии с двумя переменными, через $X_1$\n",
    "$$\n",
    "\\beta_1 = \\frac{\\sum{X_1 \\cdot y} \\cdot \\sum{X_2^2} - \\sum{X_2 \\cdot y} \\cdot \\sum{X_1 \\cdot X_2}}{\\sum{X_1^2} \\cdot \\sum{X_2^2} - (\\sum{X_1 \\cdot X_2})^2} = \\frac{\\sum{X_1 \\cdot y} \\cdot \\mu^2\\sum{X_1^2} - \\mu\\sum{X_1 \\cdot y} \\cdot \\mu\\sum{X_1 \\cdot X_1}}{\\sum{X_1^2} \\cdot \\mu^2\\sum{X_1^2} - \\mu^2(\\sum{X_1 \\cdot X_1})^2} = \\frac00\n",
    "$$\n",
    "\n",
    "- Что вы можете сказать? Что произошло с коэффициентом?\n",
    "\n",
    "У нас возникла неопределенность вида 0/0, это говорит нам о том, что нельза определенно сказать чему будет равен коэффициент, что для нас плохо."
   ]
  },
  {
   "cell_type": "markdown",
   "metadata": {},
   "source": [
    "## №2 (20 баллов)"
   ]
  },
  {
   "cell_type": "markdown",
   "metadata": {},
   "source": [
    "- Давайте разберем такой замечательный пример из статьи [Stambaugh (1999)](https://repository.upenn.edu/fnce_papers/367/)\n",
    "- Суть достаточно простая. Когда мы пытаемся предсказать доходности ценных бумаг (например, акций) с помощью регрессоров, которые весьма постоянны во времени (например, дивидендная доходность, которая редко меняется, т.к. компании редко сильно меняют свою дивидендную политику, чтобы не отпугнуть инвесторов), то мы получаем смещение наших оценок коэффициентов для регрессии доходности\n",
    "- У нас есть:\n",
    "$$\n",
    "r_t = \\alpha + x_{t-1} \\cdot \\beta + \\varepsilon_t \\\\ \n",
    "x_t = \\theta + x_{t-1} \\cdot \\gamma + u_t \\\\ \n",
    "\\varepsilon_t = \\phi \\cdot u_t + w_t\n",
    "$$\n",
    "Где, $w_t$ независим от $u_t$ и $x_t$, $\\gamma \\in (0, 1)$\n",
    "- Нам с вами надо посмотреть, что будет с $\\hat{\\beta}$\n",
    "- Для этого надо сначала посчитать:\n",
    "    - $\n",
    "\\hat{\\gamma} \n",
    "$  \n",
    "    - $\n",
    "\\hat{\\gamma} - \\gamma\n",
    "$  \n",
    "    - $\n",
    "\\hat{\\beta} \n",
    "$\n",
    "    - $\n",
    "\\hat{\\beta} - \\beta\n",
    "$  \n",
    "- Какой вывод можно сделать? Какие предпосылки вы использовали?"
   ]
  },
  {
   "cell_type": "markdown",
   "metadata": {},
   "source": [
    "## №3 (60 баллов)"
   ]
  },
  {
   "cell_type": "markdown",
   "metadata": {},
   "source": [
    "### Импорт библиотек"
   ]
  },
  {
   "cell_type": "code",
   "execution_count": 1,
   "metadata": {
    "ExecuteTime": {
     "end_time": "2022-09-13T17:05:20.317057Z",
     "start_time": "2022-09-13T17:05:18.406051Z"
    }
   },
   "outputs": [],
   "source": [
    "import pandas as pd\n",
    "import numpy as np\n",
    "\n",
    "import seaborn as sns\n",
    "import matplotlib.pyplot as plt\n",
    "\n",
    "import statsmodels.api as sm\n",
    "import statsmodels.formula.api as smf"
   ]
  },
  {
   "cell_type": "markdown",
   "metadata": {},
   "source": [
    "### Первичный осмотр"
   ]
  },
  {
   "cell_type": "markdown",
   "metadata": {},
   "source": [
    "- У нас есть следующий датасет\n",
    "- Нам хочется понять от чего зависит цена на машину\n",
    "- Сам датасет составлен из стоимости автомобилей и их характеристик в 1978 г.\n",
    "    - \"make\" - марка и модель автомобиля\n",
    "    - \"price\" - цена\n",
    "    - \"mpg\" - пробег\n",
    "    - \"rep78\" - кол-во записей о ремонте к 1978 г.\n",
    "    - \"headroom\" - габаритная высота\n",
    "    - \"trunk\" - размер багажника\n",
    "    - \"weight\" - вес\n",
    "    - \"length\" - длина\n",
    "    - \"turn\" - радиус разворота\n",
    "    - \"displacement\" - объем двигателя\n",
    "    - \"gear_ratio\" - передаточное число\n",
    "    - \"foreing\" - происхождение автомобиля"
   ]
  },
  {
   "cell_type": "code",
   "execution_count": 2,
   "metadata": {
    "ExecuteTime": {
     "end_time": "2022-09-13T17:05:20.365067Z",
     "start_time": "2022-09-13T17:05:20.322058Z"
    }
   },
   "outputs": [],
   "source": [
    "df = pd.read_csv('/Users/daniilsobolev/Desktop/Аналитика/Эконометрика/дз_2/HW_002_001.csv')"
   ]
  },
  {
   "cell_type": "code",
   "execution_count": 3,
   "metadata": {
    "ExecuteTime": {
     "end_time": "2022-09-13T17:05:20.439064Z",
     "start_time": "2022-09-13T17:05:20.372061Z"
    },
    "scrolled": false
   },
   "outputs": [
    {
     "data": {
      "text/html": [
       "<div>\n",
       "<style scoped>\n",
       "    .dataframe tbody tr th:only-of-type {\n",
       "        vertical-align: middle;\n",
       "    }\n",
       "\n",
       "    .dataframe tbody tr th {\n",
       "        vertical-align: top;\n",
       "    }\n",
       "\n",
       "    .dataframe thead th {\n",
       "        text-align: right;\n",
       "    }\n",
       "</style>\n",
       "<table border=\"1\" class=\"dataframe\">\n",
       "  <thead>\n",
       "    <tr style=\"text-align: right;\">\n",
       "      <th></th>\n",
       "      <th>make</th>\n",
       "      <th>price</th>\n",
       "      <th>mpg</th>\n",
       "      <th>rep78</th>\n",
       "      <th>headroom</th>\n",
       "      <th>trunk</th>\n",
       "      <th>weight</th>\n",
       "      <th>length</th>\n",
       "      <th>turn</th>\n",
       "      <th>displacement</th>\n",
       "      <th>gear_ratio</th>\n",
       "      <th>foreign</th>\n",
       "    </tr>\n",
       "  </thead>\n",
       "  <tbody>\n",
       "    <tr>\n",
       "      <th>41</th>\n",
       "      <td>Plym. Arrow</td>\n",
       "      <td>4647</td>\n",
       "      <td>28</td>\n",
       "      <td>3.0</td>\n",
       "      <td>2.0</td>\n",
       "      <td>11</td>\n",
       "      <td>3260</td>\n",
       "      <td>170</td>\n",
       "      <td>37</td>\n",
       "      <td>156</td>\n",
       "      <td>3.05</td>\n",
       "      <td>Domestic</td>\n",
       "    </tr>\n",
       "    <tr>\n",
       "      <th>10</th>\n",
       "      <td>Cad. Deville</td>\n",
       "      <td>11385</td>\n",
       "      <td>14</td>\n",
       "      <td>3.0</td>\n",
       "      <td>4.0</td>\n",
       "      <td>20</td>\n",
       "      <td>4330</td>\n",
       "      <td>221</td>\n",
       "      <td>44</td>\n",
       "      <td>425</td>\n",
       "      <td>2.28</td>\n",
       "      <td>Domestic</td>\n",
       "    </tr>\n",
       "    <tr>\n",
       "      <th>46</th>\n",
       "      <td>Pont. Catalina</td>\n",
       "      <td>5798</td>\n",
       "      <td>18</td>\n",
       "      <td>4.0</td>\n",
       "      <td>4.0</td>\n",
       "      <td>20</td>\n",
       "      <td>3700</td>\n",
       "      <td>214</td>\n",
       "      <td>42</td>\n",
       "      <td>231</td>\n",
       "      <td>2.73</td>\n",
       "      <td>Domestic</td>\n",
       "    </tr>\n",
       "    <tr>\n",
       "      <th>57</th>\n",
       "      <td>Datsun 510</td>\n",
       "      <td>5079</td>\n",
       "      <td>24</td>\n",
       "      <td>4.0</td>\n",
       "      <td>2.5</td>\n",
       "      <td>8</td>\n",
       "      <td>2280</td>\n",
       "      <td>170</td>\n",
       "      <td>34</td>\n",
       "      <td>119</td>\n",
       "      <td>3.54</td>\n",
       "      <td>Foreign</td>\n",
       "    </tr>\n",
       "    <tr>\n",
       "      <th>37</th>\n",
       "      <td>Olds Delta 88</td>\n",
       "      <td>4890</td>\n",
       "      <td>18</td>\n",
       "      <td>4.0</td>\n",
       "      <td>4.0</td>\n",
       "      <td>20</td>\n",
       "      <td>3690</td>\n",
       "      <td>218</td>\n",
       "      <td>42</td>\n",
       "      <td>231</td>\n",
       "      <td>2.73</td>\n",
       "      <td>Domestic</td>\n",
       "    </tr>\n",
       "  </tbody>\n",
       "</table>\n",
       "</div>"
      ],
      "text/plain": [
       "              make  price  mpg  rep78  headroom  trunk  weight  length  turn  \\\n",
       "41     Plym. Arrow   4647   28    3.0       2.0     11    3260     170    37   \n",
       "10    Cad. Deville  11385   14    3.0       4.0     20    4330     221    44   \n",
       "46  Pont. Catalina   5798   18    4.0       4.0     20    3700     214    42   \n",
       "57      Datsun 510   5079   24    4.0       2.5      8    2280     170    34   \n",
       "37   Olds Delta 88   4890   18    4.0       4.0     20    3690     218    42   \n",
       "\n",
       "    displacement  gear_ratio   foreign  \n",
       "41           156        3.05  Domestic  \n",
       "10           425        2.28  Domestic  \n",
       "46           231        2.73  Domestic  \n",
       "57           119        3.54   Foreign  \n",
       "37           231        2.73  Domestic  "
      ]
     },
     "execution_count": 3,
     "metadata": {},
     "output_type": "execute_result"
    }
   ],
   "source": [
    "df.sample(5)"
   ]
  },
  {
   "cell_type": "code",
   "execution_count": 4,
   "metadata": {},
   "outputs": [
    {
     "data": {
      "text/html": [
       "<div>\n",
       "<style scoped>\n",
       "    .dataframe tbody tr th:only-of-type {\n",
       "        vertical-align: middle;\n",
       "    }\n",
       "\n",
       "    .dataframe tbody tr th {\n",
       "        vertical-align: top;\n",
       "    }\n",
       "\n",
       "    .dataframe thead th {\n",
       "        text-align: right;\n",
       "    }\n",
       "</style>\n",
       "<table border=\"1\" class=\"dataframe\">\n",
       "  <thead>\n",
       "    <tr style=\"text-align: right;\">\n",
       "      <th></th>\n",
       "      <th>count</th>\n",
       "      <th>mean</th>\n",
       "      <th>std</th>\n",
       "      <th>min</th>\n",
       "      <th>25%</th>\n",
       "      <th>50%</th>\n",
       "      <th>75%</th>\n",
       "      <th>max</th>\n",
       "    </tr>\n",
       "  </thead>\n",
       "  <tbody>\n",
       "    <tr>\n",
       "      <th>price</th>\n",
       "      <td>74.0</td>\n",
       "      <td>6165.256757</td>\n",
       "      <td>2949.495885</td>\n",
       "      <td>3291.00</td>\n",
       "      <td>4220.25</td>\n",
       "      <td>5006.500</td>\n",
       "      <td>6332.2500</td>\n",
       "      <td>15906.00</td>\n",
       "    </tr>\n",
       "    <tr>\n",
       "      <th>mpg</th>\n",
       "      <td>74.0</td>\n",
       "      <td>21.297297</td>\n",
       "      <td>5.785503</td>\n",
       "      <td>12.00</td>\n",
       "      <td>18.00</td>\n",
       "      <td>20.000</td>\n",
       "      <td>24.7500</td>\n",
       "      <td>41.00</td>\n",
       "    </tr>\n",
       "    <tr>\n",
       "      <th>rep78</th>\n",
       "      <td>69.0</td>\n",
       "      <td>3.405797</td>\n",
       "      <td>0.989932</td>\n",
       "      <td>1.00</td>\n",
       "      <td>3.00</td>\n",
       "      <td>3.000</td>\n",
       "      <td>4.0000</td>\n",
       "      <td>5.00</td>\n",
       "    </tr>\n",
       "    <tr>\n",
       "      <th>headroom</th>\n",
       "      <td>74.0</td>\n",
       "      <td>2.993243</td>\n",
       "      <td>0.845995</td>\n",
       "      <td>1.50</td>\n",
       "      <td>2.50</td>\n",
       "      <td>3.000</td>\n",
       "      <td>3.5000</td>\n",
       "      <td>5.00</td>\n",
       "    </tr>\n",
       "    <tr>\n",
       "      <th>trunk</th>\n",
       "      <td>74.0</td>\n",
       "      <td>13.756757</td>\n",
       "      <td>4.277404</td>\n",
       "      <td>5.00</td>\n",
       "      <td>10.25</td>\n",
       "      <td>14.000</td>\n",
       "      <td>16.7500</td>\n",
       "      <td>23.00</td>\n",
       "    </tr>\n",
       "    <tr>\n",
       "      <th>weight</th>\n",
       "      <td>74.0</td>\n",
       "      <td>3019.459459</td>\n",
       "      <td>777.193567</td>\n",
       "      <td>1760.00</td>\n",
       "      <td>2250.00</td>\n",
       "      <td>3190.000</td>\n",
       "      <td>3600.0000</td>\n",
       "      <td>4840.00</td>\n",
       "    </tr>\n",
       "    <tr>\n",
       "      <th>length</th>\n",
       "      <td>74.0</td>\n",
       "      <td>187.932432</td>\n",
       "      <td>22.266340</td>\n",
       "      <td>142.00</td>\n",
       "      <td>170.00</td>\n",
       "      <td>192.500</td>\n",
       "      <td>203.7500</td>\n",
       "      <td>233.00</td>\n",
       "    </tr>\n",
       "    <tr>\n",
       "      <th>turn</th>\n",
       "      <td>74.0</td>\n",
       "      <td>39.648649</td>\n",
       "      <td>4.399354</td>\n",
       "      <td>31.00</td>\n",
       "      <td>36.00</td>\n",
       "      <td>40.000</td>\n",
       "      <td>43.0000</td>\n",
       "      <td>51.00</td>\n",
       "    </tr>\n",
       "    <tr>\n",
       "      <th>displacement</th>\n",
       "      <td>74.0</td>\n",
       "      <td>197.297297</td>\n",
       "      <td>91.837219</td>\n",
       "      <td>79.00</td>\n",
       "      <td>119.00</td>\n",
       "      <td>196.000</td>\n",
       "      <td>245.2500</td>\n",
       "      <td>425.00</td>\n",
       "    </tr>\n",
       "    <tr>\n",
       "      <th>gear_ratio</th>\n",
       "      <td>74.0</td>\n",
       "      <td>3.014865</td>\n",
       "      <td>0.456287</td>\n",
       "      <td>2.19</td>\n",
       "      <td>2.73</td>\n",
       "      <td>2.955</td>\n",
       "      <td>3.3525</td>\n",
       "      <td>3.89</td>\n",
       "    </tr>\n",
       "  </tbody>\n",
       "</table>\n",
       "</div>"
      ],
      "text/plain": [
       "              count         mean          std      min      25%       50%  \\\n",
       "price          74.0  6165.256757  2949.495885  3291.00  4220.25  5006.500   \n",
       "mpg            74.0    21.297297     5.785503    12.00    18.00    20.000   \n",
       "rep78          69.0     3.405797     0.989932     1.00     3.00     3.000   \n",
       "headroom       74.0     2.993243     0.845995     1.50     2.50     3.000   \n",
       "trunk          74.0    13.756757     4.277404     5.00    10.25    14.000   \n",
       "weight         74.0  3019.459459   777.193567  1760.00  2250.00  3190.000   \n",
       "length         74.0   187.932432    22.266340   142.00   170.00   192.500   \n",
       "turn           74.0    39.648649     4.399354    31.00    36.00    40.000   \n",
       "displacement   74.0   197.297297    91.837219    79.00   119.00   196.000   \n",
       "gear_ratio     74.0     3.014865     0.456287     2.19     2.73     2.955   \n",
       "\n",
       "                    75%       max  \n",
       "price         6332.2500  15906.00  \n",
       "mpg             24.7500     41.00  \n",
       "rep78            4.0000      5.00  \n",
       "headroom         3.5000      5.00  \n",
       "trunk           16.7500     23.00  \n",
       "weight        3600.0000   4840.00  \n",
       "length         203.7500    233.00  \n",
       "turn            43.0000     51.00  \n",
       "displacement   245.2500    425.00  \n",
       "gear_ratio       3.3525      3.89  "
      ]
     },
     "execution_count": 4,
     "metadata": {},
     "output_type": "execute_result"
    }
   ],
   "source": [
    "df.describe().T"
   ]
  },
  {
   "cell_type": "code",
   "execution_count": 5,
   "metadata": {},
   "outputs": [
    {
     "name": "stdout",
     "output_type": "stream",
     "text": [
      "<class 'pandas.core.frame.DataFrame'>\n",
      "RangeIndex: 74 entries, 0 to 73\n",
      "Data columns (total 12 columns):\n",
      " #   Column        Non-Null Count  Dtype  \n",
      "---  ------        --------------  -----  \n",
      " 0   make          74 non-null     object \n",
      " 1   price         74 non-null     int64  \n",
      " 2   mpg           74 non-null     int64  \n",
      " 3   rep78         69 non-null     float64\n",
      " 4   headroom      74 non-null     float64\n",
      " 5   trunk         74 non-null     int64  \n",
      " 6   weight        74 non-null     int64  \n",
      " 7   length        74 non-null     int64  \n",
      " 8   turn          74 non-null     int64  \n",
      " 9   displacement  74 non-null     int64  \n",
      " 10  gear_ratio    74 non-null     float64\n",
      " 11  foreign       74 non-null     object \n",
      "dtypes: float64(3), int64(7), object(2)\n",
      "memory usage: 7.1+ KB\n"
     ]
    }
   ],
   "source": [
    "df.info()"
   ]
  },
  {
   "cell_type": "markdown",
   "metadata": {},
   "source": [
    "**Вывод:** В табличке 74 строки, 12 признаков, есть небольшие проблемы с пропусками. Также видим, что у признаков среднее и медиана отличаются, где-то сильно отличаются. Большинство из признаков - количественные. "
   ]
  },
  {
   "cell_type": "markdown",
   "metadata": {},
   "source": [
    "### Предобработка"
   ]
  },
  {
   "cell_type": "markdown",
   "metadata": {},
   "source": [
    "Мы хотим что-то сделать с пропусками, а также посмотреть на категориальные переменные."
   ]
  },
  {
   "cell_type": "markdown",
   "metadata": {},
   "source": [
    "Посмотрим на признак make - марка и модель автомобиля"
   ]
  },
  {
   "cell_type": "code",
   "execution_count": 6,
   "metadata": {
    "scrolled": true
   },
   "outputs": [
    {
     "name": "stdout",
     "output_type": "stream",
     "text": [
      "Количество уникальных значений: 74\n"
     ]
    }
   ],
   "source": [
    "print(f\"Количество уникальных значений: {len(df['make'].unique())}\")"
   ]
  },
  {
   "cell_type": "markdown",
   "metadata": {},
   "source": [
    "То есть все значения в столбце уникальные, посмотрим на них:"
   ]
  },
  {
   "cell_type": "code",
   "execution_count": 7,
   "metadata": {
    "scrolled": true
   },
   "outputs": [
    {
     "data": {
      "text/plain": [
       "array(['AMC Concord', 'AMC Pacer', 'AMC Spirit', 'Buick Century',\n",
       "       'Buick Electra', 'Buick LeSabre', 'Buick Opel', 'Buick Regal',\n",
       "       'Buick Riviera', 'Buick Skylark', 'Cad. Deville', 'Cad. Eldorado',\n",
       "       'Cad. Seville', 'Chev. Chevette', 'Chev. Impala', 'Chev. Malibu',\n",
       "       'Chev. Monte Carlo', 'Chev. Monza', 'Chev. Nova', 'Dodge Colt',\n",
       "       'Dodge Diplomat', 'Dodge Magnum', 'Dodge St. Regis', 'Ford Fiesta',\n",
       "       'Ford Mustang', 'Linc. Continental', 'Linc. Mark V',\n",
       "       'Linc. Versailles', 'Merc. Bobcat', 'Merc. Cougar',\n",
       "       'Merc. Marquis', 'Merc. Monarch', 'Merc. XR-7', 'Merc. Zephyr',\n",
       "       'Olds 98', 'Olds Cutl Supr', 'Olds Cutlass', 'Olds Delta 88',\n",
       "       'Olds Omega', 'Olds Starfire', 'Olds Toronado', 'Plym. Arrow',\n",
       "       'Plym. Champ', 'Plym. Horizon', 'Plym. Sapporo', 'Plym. Volare',\n",
       "       'Pont. Catalina', 'Pont. Firebird', 'Pont. Grand Prix',\n",
       "       'Pont. Le Mans', 'Pont. Phoenix', 'Pont. Sunbird', 'Audi 5000',\n",
       "       'Audi Fox', 'BMW 320i', 'Datsun 200', 'Datsun 210', 'Datsun 510',\n",
       "       'Datsun 810', 'Fiat Strada', 'Honda Accord', 'Honda Civic',\n",
       "       'Mazda GLC', 'Peugeot 604', 'Renault Le Car', 'Subaru',\n",
       "       'Toyota Celica', 'Toyota Corolla', 'Toyota Corona', 'VW Dasher',\n",
       "       'VW Diesel', 'VW Rabbit', 'VW Scirocco', 'Volvo 260'], dtype=object)"
      ]
     },
     "execution_count": 7,
     "metadata": {},
     "output_type": "execute_result"
    }
   ],
   "source": [
    "df['make'].unique()"
   ]
  },
  {
   "cell_type": "markdown",
   "metadata": {},
   "source": [
    "Видно, что можно разбить по марке автомобиля, сделаем это:"
   ]
  },
  {
   "cell_type": "code",
   "execution_count": 8,
   "metadata": {},
   "outputs": [],
   "source": [
    "def lemma_purpose(purpose):\n",
    "    if 'AMC' in purpose:\n",
    "        return 'AMC'\n",
    "    if 'Buick' in purpose:\n",
    "        return 'Buick'\n",
    "    if 'Cad.' in purpose:\n",
    "        return 'Cad.'\n",
    "    if 'Chev.' in purpose:\n",
    "        return 'Chev.'\n",
    "    if 'Dodge' in purpose:\n",
    "        return 'Dodge'\n",
    "    if 'Ford' in purpose:\n",
    "        return 'Ford'\n",
    "    if 'Linc.' in purpose:\n",
    "        return 'Linc.'\n",
    "    if 'Merc.' in purpose:\n",
    "        return 'Merc.'\n",
    "    if 'Olds' in purpose:\n",
    "        return 'Olds'\n",
    "    if 'Plym.' in purpose:\n",
    "        return 'Plym.'\n",
    "    if 'Pont.' in purpose:\n",
    "        return 'Pont.'\n",
    "    if 'Audi' in purpose:\n",
    "        return 'Audi'\n",
    "    if 'BMW' in purpose:\n",
    "        return 'BMW'\n",
    "    if 'Datsun' in purpose:\n",
    "        return 'Datsun'\n",
    "    if 'Fiat' in purpose:\n",
    "        return 'Fiat'\n",
    "    if 'Honda' in purpose:\n",
    "        return 'Honda'\n",
    "    if 'Mazda' in purpose:\n",
    "        return 'Mazda'\n",
    "    if 'Peugeot' in purpose:\n",
    "        return 'Peugeot'\n",
    "    if 'Renault' in purpose:\n",
    "        return 'Renault'\n",
    "    if 'Subaru' in purpose:\n",
    "        return 'Subaru'\n",
    "    if 'Toyota' in purpose:\n",
    "        return 'Toyota'\n",
    "    if 'VW' in purpose:\n",
    "        return 'VW'\n",
    "    if 'Volvo' in purpose:\n",
    "        return 'Volvo'\n",
    "    return '0'\n",
    "\n",
    "df['make'] = df['make'].apply(lemma_purpose)"
   ]
  },
  {
   "cell_type": "markdown",
   "metadata": {},
   "source": [
    "Далее посмотрим на признак foreign - происхождение автомобиля"
   ]
  },
  {
   "cell_type": "code",
   "execution_count": 9,
   "metadata": {},
   "outputs": [
    {
     "data": {
      "text/plain": [
       "array(['Domestic', 'Foreign'], dtype=object)"
      ]
     },
     "execution_count": 9,
     "metadata": {},
     "output_type": "execute_result"
    }
   ],
   "source": [
    "df['foreign'].unique()"
   ]
  },
  {
   "cell_type": "markdown",
   "metadata": {},
   "source": [
    "Значений всего два - в будущем просто категоризуем."
   ]
  },
  {
   "cell_type": "markdown",
   "metadata": {},
   "source": [
    "Признак rep78 -  кол-во записей о ремонте к 1978 г. <br>\n",
    "Есть очень большая вероятность того, что пропуск означает, что либо машина не ромнтировалась, либо записи нет. \n",
    "Пропуски заменим на 0."
   ]
  },
  {
   "cell_type": "code",
   "execution_count": 10,
   "metadata": {},
   "outputs": [],
   "source": [
    "df['rep78'] = df['rep78'].fillna(0)"
   ]
  },
  {
   "cell_type": "code",
   "execution_count": 11,
   "metadata": {},
   "outputs": [
    {
     "name": "stdout",
     "output_type": "stream",
     "text": [
      "<class 'pandas.core.frame.DataFrame'>\n",
      "RangeIndex: 74 entries, 0 to 73\n",
      "Data columns (total 12 columns):\n",
      " #   Column        Non-Null Count  Dtype  \n",
      "---  ------        --------------  -----  \n",
      " 0   make          74 non-null     object \n",
      " 1   price         74 non-null     int64  \n",
      " 2   mpg           74 non-null     int64  \n",
      " 3   rep78         74 non-null     float64\n",
      " 4   headroom      74 non-null     float64\n",
      " 5   trunk         74 non-null     int64  \n",
      " 6   weight        74 non-null     int64  \n",
      " 7   length        74 non-null     int64  \n",
      " 8   turn          74 non-null     int64  \n",
      " 9   displacement  74 non-null     int64  \n",
      " 10  gear_ratio    74 non-null     float64\n",
      " 11  foreign       74 non-null     object \n",
      "dtypes: float64(3), int64(7), object(2)\n",
      "memory usage: 7.1+ KB\n"
     ]
    }
   ],
   "source": [
    "df.info()"
   ]
  },
  {
   "cell_type": "markdown",
   "metadata": {},
   "source": [
    "**Вывод:** мы подготовили данные, заполнили пропуски, некоторые признаки разбили на страты."
   ]
  },
  {
   "cell_type": "markdown",
   "metadata": {},
   "source": [
    "### EDA"
   ]
  },
  {
   "cell_type": "code",
   "execution_count": 12,
   "metadata": {},
   "outputs": [
    {
     "data": {
      "image/png": "[encoded data removed]",
      "text/plain": [
       "<Figure size 432x288 with 1 Axes>"
      ]
     },
     "metadata": {
      "needs_background": "light"
     },
     "output_type": "display_data"
    },
    {
     "data": {
      "image/png": "[encoded data removed]",
      "text/plain": [
       "<Figure size 432x288 with 1 Axes>"
      ]
     },
     "metadata": {
      "needs_background": "light"
     },
     "output_type": "display_data"
    },
    {
     "data": {
      "image/png": "[encoded data removed]",
      "text/plain": [
       "<Figure size 432x288 with 1 Axes>"
      ]
     },
     "metadata": {
      "needs_background": "light"
     },
     "output_type": "display_data"
    },
    {
     "data": {
      "image/png": "[encoded data removed]",
      "text/plain": [
       "<Figure size 432x288 with 1 Axes>"
      ]
     },
     "metadata": {
      "needs_background": "light"
     },
     "output_type": "display_data"
    },
    {
     "data": {
      "image/png": "[encoded data removed]",
      "text/plain": [
       "<Figure size 432x288 with 1 Axes>"
      ]
     },
     "metadata": {
      "needs_background": "light"
     },
     "output_type": "display_data"
    },
    {
     "data": {
      "image/png": "[encoded data removed]",
      "text/plain": [
       "<Figure size 432x288 with 1 Axes>"
      ]
     },
     "metadata": {
      "needs_background": "light"
     },
     "output_type": "display_data"
    },
    {
     "data": {
      "image/png": "[encoded data removed]",
      "text/plain": [
       "<Figure size 432x288 with 1 Axes>"
      ]
     },
     "metadata": {
      "needs_background": "light"
     },
     "output_type": "display_data"
    },
    {
     "data": {
      "image/png": "[encoded data removed]",
      "text/plain": [
       "<Figure size 432x288 with 1 Axes>"
      ]
     },
     "metadata": {
      "needs_background": "light"
     },
     "output_type": "display_data"
    },
    {
     "data": {
      "image/png": "[encoded data removed]",
      "text/plain": [
       "<Figure size 432x288 with 1 Axes>"
      ]
     },
     "metadata": {
      "needs_background": "light"
     },
     "output_type": "display_data"
    },
    {
     "data": {
      "image/png": "[encoded data removed]",
      "text/plain": [
       "<Figure size 432x288 with 1 Axes>"
      ]
     },
     "metadata": {
      "needs_background": "light"
     },
     "output_type": "display_data"
    }
   ],
   "source": [
    "for clmn_name in df.columns:\n",
    "    if clmn_name not in ['make', 'price']:\n",
    "        df.plot.scatter(x = clmn_name, y = 'price')        \n",
    "        plt.show()"
   ]
  },
  {
   "cell_type": "markdown",
   "metadata": {},
   "source": [
    "Исходя из графиков, можно выдвинуть следующие гипотезы:\n",
    "\n",
    "- Чем больше пробег, тем меньше цена\n",
    "- Чем больше размер багажника, тем больше цена\n",
    "- Чем больше вес, тем больше цена автомобиля\n",
    "- Вес и размер багажника коррелируют\n",
    "- Чем больше длина, тем больше цена\n",
    "- Вес и длина коррелируют\n",
    "- Радиус разворота коррелирует с ценой только из-за того, что чем больше машина (больше вес) тем он больший.\n",
    "- Чем больше объём двигателя, тем больше цена\n",
    "- Чем больше предаточное число, тем меньше цена \n",
    "- Цена иностранных(привезенных) автомобилей меньше"
   ]
  },
  {
   "cell_type": "markdown",
   "metadata": {},
   "source": [
    "Также можно сделать предположение о том, что цена зависит отмарки автомобиля (make), но анализировать по группам будет некорректно, так как частота очень мала."
   ]
  },
  {
   "cell_type": "code",
   "execution_count": 13,
   "metadata": {},
   "outputs": [
    {
     "data": {
      "image/png": "[encoded data removed]",
      "text/plain": [
       "<Figure size 1080x864 with 2 Axes>"
      ]
     },
     "metadata": {
      "needs_background": "light"
     },
     "output_type": "display_data"
    }
   ],
   "source": [
    "plt.figure(figsize=(15, 12))\n",
    "sns.heatmap(df.corr(), annot=True)\n",
    "plt.show()"
   ]
  },
  {
   "cell_type": "markdown",
   "metadata": {},
   "source": [
    "Есть подтверждение нашим гипотезам."
   ]
  },
  {
   "cell_type": "markdown",
   "metadata": {},
   "source": [
    "### Первая версия модели"
   ]
  },
  {
   "cell_type": "markdown",
   "metadata": {},
   "source": [
    "Попробуем засунуть всё как есть в модель: (без категоризации)"
   ]
  },
  {
   "cell_type": "code",
   "execution_count": 14,
   "metadata": {},
   "outputs": [
    {
     "data": {
      "text/html": [
       "<table class=\"simpletable\">\n",
       "<caption>OLS Regression Results</caption>\n",
       "<tr>\n",
       "  <th>Dep. Variable:</th>          <td>price</td>      <th>  R-squared:         </th> <td>   0.497</td>\n",
       "</tr>\n",
       "<tr>\n",
       "  <th>Model:</th>                   <td>OLS</td>       <th>  Adj. R-squared:    </th> <td>   0.427</td>\n",
       "</tr>\n",
       "<tr>\n",
       "  <th>Method:</th>             <td>Least Squares</td>  <th>  F-statistic:       </th> <td>   7.033</td>\n",
       "</tr>\n",
       "<tr>\n",
       "  <th>Date:</th>             <td>Tue, 21 Mar 2023</td> <th>  Prob (F-statistic):</th> <td>5.42e-07</td>\n",
       "</tr>\n",
       "<tr>\n",
       "  <th>Time:</th>                 <td>23:55:17</td>     <th>  Log-Likelihood:    </th> <td> -670.27</td>\n",
       "</tr>\n",
       "<tr>\n",
       "  <th>No. Observations:</th>      <td>    74</td>      <th>  AIC:               </th> <td>   1361.</td>\n",
       "</tr>\n",
       "<tr>\n",
       "  <th>Df Residuals:</th>          <td>    64</td>      <th>  BIC:               </th> <td>   1384.</td>\n",
       "</tr>\n",
       "<tr>\n",
       "  <th>Df Model:</th>              <td>     9</td>      <th>                     </th>     <td> </td>   \n",
       "</tr>\n",
       "<tr>\n",
       "  <th>Covariance Type:</th>      <td>nonrobust</td>    <th>                     </th>     <td> </td>   \n",
       "</tr>\n",
       "</table>\n",
       "<table class=\"simpletable\">\n",
       "<tr>\n",
       "    <td></td>       <th>coef</th>     <th>std err</th>      <th>t</th>      <th>P>|t|</th>  <th>[0.025</th>    <th>0.975]</th>  \n",
       "</tr>\n",
       "<tr>\n",
       "  <th>const</th> <td> 1.142e+04</td> <td> 7037.872</td> <td>    1.622</td> <td> 0.110</td> <td>-2640.835</td> <td> 2.55e+04</td>\n",
       "</tr>\n",
       "<tr>\n",
       "  <th>x1</th>    <td> -127.9877</td> <td>   79.277</td> <td>   -1.614</td> <td> 0.111</td> <td> -286.361</td> <td>   30.386</td>\n",
       "</tr>\n",
       "<tr>\n",
       "  <th>x2</th>    <td>  337.6756</td> <td>  223.516</td> <td>    1.511</td> <td> 0.136</td> <td> -108.850</td> <td>  784.201</td>\n",
       "</tr>\n",
       "<tr>\n",
       "  <th>x3</th>    <td> -745.8565</td> <td>  417.580</td> <td>   -1.786</td> <td> 0.079</td> <td>-1580.068</td> <td>   88.355</td>\n",
       "</tr>\n",
       "<tr>\n",
       "  <th>x4</th>    <td>   68.7739</td> <td>  105.182</td> <td>    0.654</td> <td> 0.516</td> <td> -141.351</td> <td>  278.899</td>\n",
       "</tr>\n",
       "<tr>\n",
       "  <th>x5</th>    <td>    4.7661</td> <td>    1.351</td> <td>    3.527</td> <td> 0.001</td> <td>    2.066</td> <td>    7.466</td>\n",
       "</tr>\n",
       "<tr>\n",
       "  <th>x6</th>    <td>  -81.9878</td> <td>   42.088</td> <td>   -1.948</td> <td> 0.056</td> <td> -166.069</td> <td>    2.093</td>\n",
       "</tr>\n",
       "<tr>\n",
       "  <th>x7</th>    <td> -284.9762</td> <td>  123.986</td> <td>   -2.298</td> <td> 0.025</td> <td> -532.666</td> <td>  -37.287</td>\n",
       "</tr>\n",
       "<tr>\n",
       "  <th>x8</th>    <td>   13.8765</td> <td>    7.603</td> <td>    1.825</td> <td> 0.073</td> <td>   -1.313</td> <td>   29.066</td>\n",
       "</tr>\n",
       "<tr>\n",
       "  <th>x9</th>    <td> 2409.5624</td> <td> 1038.176</td> <td>    2.321</td> <td> 0.023</td> <td>  335.567</td> <td> 4483.558</td>\n",
       "</tr>\n",
       "</table>\n",
       "<table class=\"simpletable\">\n",
       "<tr>\n",
       "  <th>Omnibus:</th>       <td> 9.052</td> <th>  Durbin-Watson:     </th> <td>   1.526</td>\n",
       "</tr>\n",
       "<tr>\n",
       "  <th>Prob(Omnibus):</th> <td> 0.011</td> <th>  Jarque-Bera (JB):  </th> <td>   8.697</td>\n",
       "</tr>\n",
       "<tr>\n",
       "  <th>Skew:</th>          <td> 0.732</td> <th>  Prob(JB):          </th> <td>  0.0129</td>\n",
       "</tr>\n",
       "<tr>\n",
       "  <th>Kurtosis:</th>      <td> 3.824</td> <th>  Cond. No.          </th> <td>8.51e+04</td>\n",
       "</tr>\n",
       "</table><br/><br/>Notes:<br/>[1] Standard Errors assume that the covariance matrix of the errors is correctly specified.<br/>[2] The condition number is large, 8.51e+04. This might indicate that there are<br/>strong multicollinearity or other numerical problems."
      ],
      "text/plain": [
       "<class 'statsmodels.iolib.summary.Summary'>\n",
       "\"\"\"\n",
       "                            OLS Regression Results                            \n",
       "==============================================================================\n",
       "Dep. Variable:                  price   R-squared:                       0.497\n",
       "Model:                            OLS   Adj. R-squared:                  0.427\n",
       "Method:                 Least Squares   F-statistic:                     7.033\n",
       "Date:                Tue, 21 Mar 2023   Prob (F-statistic):           5.42e-07\n",
       "Time:                        23:55:17   Log-Likelihood:                -670.27\n",
       "No. Observations:                  74   AIC:                             1361.\n",
       "Df Residuals:                      64   BIC:                             1384.\n",
       "Df Model:                           9                                         \n",
       "Covariance Type:            nonrobust                                         \n",
       "==============================================================================\n",
       "                 coef    std err          t      P>|t|      [0.025      0.975]\n",
       "------------------------------------------------------------------------------\n",
       "const       1.142e+04   7037.872      1.622      0.110   -2640.835    2.55e+04\n",
       "x1          -127.9877     79.277     -1.614      0.111    -286.361      30.386\n",
       "x2           337.6756    223.516      1.511      0.136    -108.850     784.201\n",
       "x3          -745.8565    417.580     -1.786      0.079   -1580.068      88.355\n",
       "x4            68.7739    105.182      0.654      0.516    -141.351     278.899\n",
       "x5             4.7661      1.351      3.527      0.001       2.066       7.466\n",
       "x6           -81.9878     42.088     -1.948      0.056    -166.069       2.093\n",
       "x7          -284.9762    123.986     -2.298      0.025    -532.666     -37.287\n",
       "x8            13.8765      7.603      1.825      0.073      -1.313      29.066\n",
       "x9          2409.5624   1038.176      2.321      0.023     335.567    4483.558\n",
       "==============================================================================\n",
       "Omnibus:                        9.052   Durbin-Watson:                   1.526\n",
       "Prob(Omnibus):                  0.011   Jarque-Bera (JB):                8.697\n",
       "Skew:                           0.732   Prob(JB):                       0.0129\n",
       "Kurtosis:                       3.824   Cond. No.                     8.51e+04\n",
       "==============================================================================\n",
       "\n",
       "Notes:\n",
       "[1] Standard Errors assume that the covariance matrix of the errors is correctly specified.\n",
       "[2] The condition number is large, 8.51e+04. This might indicate that there are\n",
       "strong multicollinearity or other numerical problems.\n",
       "\"\"\""
      ]
     },
     "execution_count": 14,
     "metadata": {},
     "output_type": "execute_result"
    }
   ],
   "source": [
    "y = df['price']\n",
    "x = np.hstack((np.ones((y.shape[0], 1)), df.drop(['price', 'make', 'foreign'], axis=1)))\n",
    "\n",
    "model_first = sm.OLS(endog=y, exog=x).fit()\n",
    "model_first.summary()"
   ]
  },
  {
   "cell_type": "markdown",
   "metadata": {},
   "source": [
    "Видно, что некоторые переменные незначимы. Adj R_sq около 4,3."
   ]
  },
  {
   "cell_type": "markdown",
   "metadata": {},
   "source": [
    "### Вторая версия модели"
   ]
  },
  {
   "cell_type": "markdown",
   "metadata": {},
   "source": [
    "Тут некоторые выводы взятые с занятия"
   ]
  },
  {
   "cell_type": "code",
   "execution_count": 15,
   "metadata": {},
   "outputs": [],
   "source": [
    "df_for_model = pd.DataFrame()\n",
    "\n",
    "df_for_model['price'] = np.log(df['price']) # в таком случае большая точность\n",
    "df_for_model['mpg'] = 1/df['mpg'] # так как зависимость обратная\n",
    "df_for_model = pd.concat([df_for_model, pd.get_dummies(df['rep78'].astype('Int64'), drop_first=True, prefix = 'rep')], axis = 1)\n",
    "df_for_model['headroom'] = df['headroom']\n",
    "df_for_model['trunk'] = df['trunk']\n",
    "df_for_model['weight'] = df['weight']\n",
    "df_for_model['length'] = df['length']\n",
    "df_for_model['turn'] = df['turn']\n",
    "df_for_model['displacement'] = df['displacement']\n",
    "df_for_model['gear_ratio'] = df['gear_ratio']\n",
    "df_for_model['gear_ratio_sqr'] = df['gear_ratio']**2 # хотим дополнительно посмотреть на данный признак\n",
    "df_for_model = pd.concat([df_for_model, pd.get_dummies(df['foreign'], drop_first=True)], axis = 1) # чтобы преобразовать в количественный\n",
    "\n",
    "model_cars = smf.ols(\n",
    "    'price ~ mpg+rep_1+rep_2+rep_3+rep_4+rep_5+headroom+trunk+weight+length+turn+displacement+gear_ratio+gear_ratio_sqr+Foreign ', \n",
    "    data = df_for_model\n",
    ")"
   ]
  },
  {
   "cell_type": "code",
   "execution_count": 16,
   "metadata": {},
   "outputs": [
    {
     "data": {
      "text/html": [
       "<table class=\"simpletable\">\n",
       "<caption>OLS Regression Results</caption>\n",
       "<tr>\n",
       "  <th>Dep. Variable:</th>          <td>price</td>      <th>  R-squared:         </th> <td>   0.681</td>\n",
       "</tr>\n",
       "<tr>\n",
       "  <th>Model:</th>                   <td>OLS</td>       <th>  Adj. R-squared:    </th> <td>   0.599</td>\n",
       "</tr>\n",
       "<tr>\n",
       "  <th>Method:</th>             <td>Least Squares</td>  <th>  F-statistic:       </th> <td>   8.268</td>\n",
       "</tr>\n",
       "<tr>\n",
       "  <th>Date:</th>             <td>Tue, 21 Mar 2023</td> <th>  Prob (F-statistic):</th> <td>1.35e-09</td>\n",
       "</tr>\n",
       "<tr>\n",
       "  <th>Time:</th>                 <td>23:55:17</td>     <th>  Log-Likelihood:    </th> <td>  7.0986</td>\n",
       "</tr>\n",
       "<tr>\n",
       "  <th>No. Observations:</th>      <td>    74</td>      <th>  AIC:               </th> <td>   17.80</td>\n",
       "</tr>\n",
       "<tr>\n",
       "  <th>Df Residuals:</th>          <td>    58</td>      <th>  BIC:               </th> <td>   54.67</td>\n",
       "</tr>\n",
       "<tr>\n",
       "  <th>Df Model:</th>              <td>    15</td>      <th>                     </th>     <td> </td>   \n",
       "</tr>\n",
       "<tr>\n",
       "  <th>Covariance Type:</th>      <td>nonrobust</td>    <th>                     </th>     <td> </td>   \n",
       "</tr>\n",
       "</table>\n",
       "<table class=\"simpletable\">\n",
       "<tr>\n",
       "         <td></td>           <th>coef</th>     <th>std err</th>      <th>t</th>      <th>P>|t|</th>  <th>[0.025</th>    <th>0.975]</th>  \n",
       "</tr>\n",
       "<tr>\n",
       "  <th>Intercept</th>      <td>   12.4348</td> <td>    1.835</td> <td>    6.777</td> <td> 0.000</td> <td>    8.762</td> <td>   16.108</td>\n",
       "</tr>\n",
       "<tr>\n",
       "  <th>mpg</th>            <td>    8.8785</td> <td>    5.173</td> <td>    1.716</td> <td> 0.091</td> <td>   -1.477</td> <td>   19.234</td>\n",
       "</tr>\n",
       "<tr>\n",
       "  <th>rep_1</th>          <td>   -0.2575</td> <td>    0.223</td> <td>   -1.155</td> <td> 0.253</td> <td>   -0.704</td> <td>    0.189</td>\n",
       "</tr>\n",
       "<tr>\n",
       "  <th>rep_2</th>          <td>   -0.1305</td> <td>    0.165</td> <td>   -0.789</td> <td> 0.434</td> <td>   -0.462</td> <td>    0.201</td>\n",
       "</tr>\n",
       "<tr>\n",
       "  <th>rep_3</th>          <td>   -0.1546</td> <td>    0.132</td> <td>   -1.168</td> <td> 0.248</td> <td>   -0.420</td> <td>    0.110</td>\n",
       "</tr>\n",
       "<tr>\n",
       "  <th>rep_4</th>          <td>   -0.1349</td> <td>    0.139</td> <td>   -0.970</td> <td> 0.336</td> <td>   -0.413</td> <td>    0.144</td>\n",
       "</tr>\n",
       "<tr>\n",
       "  <th>rep_5</th>          <td>   -0.0402</td> <td>    0.163</td> <td>   -0.246</td> <td> 0.806</td> <td>   -0.367</td> <td>    0.286</td>\n",
       "</tr>\n",
       "<tr>\n",
       "  <th>headroom</th>       <td>   -0.1070</td> <td>    0.048</td> <td>   -2.208</td> <td> 0.031</td> <td>   -0.204</td> <td>   -0.010</td>\n",
       "</tr>\n",
       "<tr>\n",
       "  <th>trunk</th>          <td>    0.0079</td> <td>    0.013</td> <td>    0.627</td> <td> 0.533</td> <td>   -0.017</td> <td>    0.033</td>\n",
       "</tr>\n",
       "<tr>\n",
       "  <th>weight</th>         <td>    0.0005</td> <td>    0.000</td> <td>    2.890</td> <td> 0.005</td> <td>    0.000</td> <td>    0.001</td>\n",
       "</tr>\n",
       "<tr>\n",
       "  <th>length</th>         <td>   -0.0026</td> <td>    0.005</td> <td>   -0.510</td> <td> 0.612</td> <td>   -0.013</td> <td>    0.008</td>\n",
       "</tr>\n",
       "<tr>\n",
       "  <th>turn</th>           <td>   -0.0271</td> <td>    0.016</td> <td>   -1.718</td> <td> 0.091</td> <td>   -0.059</td> <td>    0.004</td>\n",
       "</tr>\n",
       "<tr>\n",
       "  <th>displacement</th>   <td>    0.0003</td> <td>    0.001</td> <td>    0.258</td> <td> 0.797</td> <td>   -0.002</td> <td>    0.002</td>\n",
       "</tr>\n",
       "<tr>\n",
       "  <th>gear_ratio</th>     <td>   -2.6077</td> <td>    1.175</td> <td>   -2.220</td> <td> 0.030</td> <td>   -4.959</td> <td>   -0.257</td>\n",
       "</tr>\n",
       "<tr>\n",
       "  <th>gear_ratio_sqr</th> <td>    0.4258</td> <td>    0.185</td> <td>    2.296</td> <td> 0.025</td> <td>    0.055</td> <td>    0.797</td>\n",
       "</tr>\n",
       "<tr>\n",
       "  <th>Foreign</th>        <td>    0.3107</td> <td>    0.133</td> <td>    2.339</td> <td> 0.023</td> <td>    0.045</td> <td>    0.577</td>\n",
       "</tr>\n",
       "</table>\n",
       "<table class=\"simpletable\">\n",
       "<tr>\n",
       "  <th>Omnibus:</th>       <td> 3.072</td> <th>  Durbin-Watson:     </th> <td>   1.422</td>\n",
       "</tr>\n",
       "<tr>\n",
       "  <th>Prob(Omnibus):</th> <td> 0.215</td> <th>  Jarque-Bera (JB):  </th> <td>   2.712</td>\n",
       "</tr>\n",
       "<tr>\n",
       "  <th>Skew:</th>          <td> 0.373</td> <th>  Prob(JB):          </th> <td>   0.258</td>\n",
       "</tr>\n",
       "<tr>\n",
       "  <th>Kurtosis:</th>      <td> 2.431</td> <th>  Cond. No.          </th> <td>5.63e+05</td>\n",
       "</tr>\n",
       "</table><br/><br/>Notes:<br/>[1] Standard Errors assume that the covariance matrix of the errors is correctly specified.<br/>[2] The condition number is large, 5.63e+05. This might indicate that there are<br/>strong multicollinearity or other numerical problems."
      ],
      "text/plain": [
       "<class 'statsmodels.iolib.summary.Summary'>\n",
       "\"\"\"\n",
       "                            OLS Regression Results                            \n",
       "==============================================================================\n",
       "Dep. Variable:                  price   R-squared:                       0.681\n",
       "Model:                            OLS   Adj. R-squared:                  0.599\n",
       "Method:                 Least Squares   F-statistic:                     8.268\n",
       "Date:                Tue, 21 Mar 2023   Prob (F-statistic):           1.35e-09\n",
       "Time:                        23:55:17   Log-Likelihood:                 7.0986\n",
       "No. Observations:                  74   AIC:                             17.80\n",
       "Df Residuals:                      58   BIC:                             54.67\n",
       "Df Model:                          15                                         \n",
       "Covariance Type:            nonrobust                                         \n",
       "==================================================================================\n",
       "                     coef    std err          t      P>|t|      [0.025      0.975]\n",
       "----------------------------------------------------------------------------------\n",
       "Intercept         12.4348      1.835      6.777      0.000       8.762      16.108\n",
       "mpg                8.8785      5.173      1.716      0.091      -1.477      19.234\n",
       "rep_1             -0.2575      0.223     -1.155      0.253      -0.704       0.189\n",
       "rep_2             -0.1305      0.165     -0.789      0.434      -0.462       0.201\n",
       "rep_3             -0.1546      0.132     -1.168      0.248      -0.420       0.110\n",
       "rep_4             -0.1349      0.139     -0.970      0.336      -0.413       0.144\n",
       "rep_5             -0.0402      0.163     -0.246      0.806      -0.367       0.286\n",
       "headroom          -0.1070      0.048     -2.208      0.031      -0.204      -0.010\n",
       "trunk              0.0079      0.013      0.627      0.533      -0.017       0.033\n",
       "weight             0.0005      0.000      2.890      0.005       0.000       0.001\n",
       "length            -0.0026      0.005     -0.510      0.612      -0.013       0.008\n",
       "turn              -0.0271      0.016     -1.718      0.091      -0.059       0.004\n",
       "displacement       0.0003      0.001      0.258      0.797      -0.002       0.002\n",
       "gear_ratio        -2.6077      1.175     -2.220      0.030      -4.959      -0.257\n",
       "gear_ratio_sqr     0.4258      0.185      2.296      0.025       0.055       0.797\n",
       "Foreign            0.3107      0.133      2.339      0.023       0.045       0.577\n",
       "==============================================================================\n",
       "Omnibus:                        3.072   Durbin-Watson:                   1.422\n",
       "Prob(Omnibus):                  0.215   Jarque-Bera (JB):                2.712\n",
       "Skew:                           0.373   Prob(JB):                        0.258\n",
       "Kurtosis:                       2.431   Cond. No.                     5.63e+05\n",
       "==============================================================================\n",
       "\n",
       "Notes:\n",
       "[1] Standard Errors assume that the covariance matrix of the errors is correctly specified.\n",
       "[2] The condition number is large, 5.63e+05. This might indicate that there are\n",
       "strong multicollinearity or other numerical problems.\n",
       "\"\"\""
      ]
     },
     "execution_count": 16,
     "metadata": {},
     "output_type": "execute_result"
    }
   ],
   "source": [
    "model_cars = model_cars.fit()\n",
    "model_cars.summary()"
   ]
  },
  {
   "cell_type": "markdown",
   "metadata": {},
   "source": [
    "Тут мы пронаблюдали некоторые заисимости и попробовали преобразовать некоторые переменные, далее на всех данных, кроме столбца make обучили модель.\n",
    "\n",
    "Получили лучшее значение метрик, но также остались незначимые признаки."
   ]
  },
  {
   "cell_type": "code",
   "execution_count": 17,
   "metadata": {},
   "outputs": [
    {
     "data": {
      "text/html": [
       "<table class=\"simpletable\">\n",
       "<caption>OLS Regression Results</caption>\n",
       "<tr>\n",
       "  <th>Dep. Variable:</th>          <td>price</td>      <th>  R-squared:         </th> <td>   0.663</td>\n",
       "</tr>\n",
       "<tr>\n",
       "  <th>Model:</th>                   <td>OLS</td>       <th>  Adj. R-squared:    </th> <td>   0.628</td>\n",
       "</tr>\n",
       "<tr>\n",
       "  <th>Method:</th>             <td>Least Squares</td>  <th>  F-statistic:       </th> <td>   18.58</td>\n",
       "</tr>\n",
       "<tr>\n",
       "  <th>Date:</th>             <td>Tue, 21 Mar 2023</td> <th>  Prob (F-statistic):</th> <td>1.97e-13</td>\n",
       "</tr>\n",
       "<tr>\n",
       "  <th>Time:</th>                 <td>23:55:18</td>     <th>  Log-Likelihood:    </th> <td>  5.0723</td>\n",
       "</tr>\n",
       "<tr>\n",
       "  <th>No. Observations:</th>      <td>    74</td>      <th>  AIC:               </th> <td>   5.855</td>\n",
       "</tr>\n",
       "<tr>\n",
       "  <th>Df Residuals:</th>          <td>    66</td>      <th>  BIC:               </th> <td>   24.29</td>\n",
       "</tr>\n",
       "<tr>\n",
       "  <th>Df Model:</th>              <td>     7</td>      <th>                     </th>     <td> </td>   \n",
       "</tr>\n",
       "<tr>\n",
       "  <th>Covariance Type:</th>      <td>nonrobust</td>    <th>                     </th>     <td> </td>   \n",
       "</tr>\n",
       "</table>\n",
       "<table class=\"simpletable\">\n",
       "<tr>\n",
       "         <td></td>           <th>coef</th>     <th>std err</th>      <th>t</th>      <th>P>|t|</th>  <th>[0.025</th>    <th>0.975]</th>  \n",
       "</tr>\n",
       "<tr>\n",
       "  <th>Intercept</th>      <td>   12.4286</td> <td>    1.460</td> <td>    8.512</td> <td> 0.000</td> <td>    9.513</td> <td>   15.344</td>\n",
       "</tr>\n",
       "<tr>\n",
       "  <th>mpg</th>            <td>    9.6115</td> <td>    4.687</td> <td>    2.051</td> <td> 0.044</td> <td>    0.254</td> <td>   18.969</td>\n",
       "</tr>\n",
       "<tr>\n",
       "  <th>headroom</th>       <td>   -0.0875</td> <td>    0.038</td> <td>   -2.311</td> <td> 0.024</td> <td>   -0.163</td> <td>   -0.012</td>\n",
       "</tr>\n",
       "<tr>\n",
       "  <th>weight</th>         <td>    0.0004</td> <td>    0.000</td> <td>    4.196</td> <td> 0.000</td> <td>    0.000</td> <td>    0.001</td>\n",
       "</tr>\n",
       "<tr>\n",
       "  <th>turn</th>           <td>   -0.0325</td> <td>    0.013</td> <td>   -2.444</td> <td> 0.017</td> <td>   -0.059</td> <td>   -0.006</td>\n",
       "</tr>\n",
       "<tr>\n",
       "  <th>gear_ratio</th>     <td>   -2.7272</td> <td>    0.883</td> <td>   -3.087</td> <td> 0.003</td> <td>   -4.491</td> <td>   -0.963</td>\n",
       "</tr>\n",
       "<tr>\n",
       "  <th>gear_ratio_sqr</th> <td>    0.4406</td> <td>    0.144</td> <td>    3.051</td> <td> 0.003</td> <td>    0.152</td> <td>    0.729</td>\n",
       "</tr>\n",
       "<tr>\n",
       "  <th>Foreign</th>        <td>    0.3346</td> <td>    0.106</td> <td>    3.150</td> <td> 0.002</td> <td>    0.122</td> <td>    0.547</td>\n",
       "</tr>\n",
       "</table>\n",
       "<table class=\"simpletable\">\n",
       "<tr>\n",
       "  <th>Omnibus:</th>       <td> 3.370</td> <th>  Durbin-Watson:     </th> <td>   1.499</td>\n",
       "</tr>\n",
       "<tr>\n",
       "  <th>Prob(Omnibus):</th> <td> 0.185</td> <th>  Jarque-Bera (JB):  </th> <td>   3.154</td>\n",
       "</tr>\n",
       "<tr>\n",
       "  <th>Skew:</th>          <td> 0.436</td> <th>  Prob(JB):          </th> <td>   0.207</td>\n",
       "</tr>\n",
       "<tr>\n",
       "  <th>Kurtosis:</th>      <td> 2.488</td> <th>  Cond. No.          </th> <td>5.26e+05</td>\n",
       "</tr>\n",
       "</table><br/><br/>Notes:<br/>[1] Standard Errors assume that the covariance matrix of the errors is correctly specified.<br/>[2] The condition number is large, 5.26e+05. This might indicate that there are<br/>strong multicollinearity or other numerical problems."
      ],
      "text/plain": [
       "<class 'statsmodels.iolib.summary.Summary'>\n",
       "\"\"\"\n",
       "                            OLS Regression Results                            \n",
       "==============================================================================\n",
       "Dep. Variable:                  price   R-squared:                       0.663\n",
       "Model:                            OLS   Adj. R-squared:                  0.628\n",
       "Method:                 Least Squares   F-statistic:                     18.58\n",
       "Date:                Tue, 21 Mar 2023   Prob (F-statistic):           1.97e-13\n",
       "Time:                        23:55:18   Log-Likelihood:                 5.0723\n",
       "No. Observations:                  74   AIC:                             5.855\n",
       "Df Residuals:                      66   BIC:                             24.29\n",
       "Df Model:                           7                                         \n",
       "Covariance Type:            nonrobust                                         \n",
       "==================================================================================\n",
       "                     coef    std err          t      P>|t|      [0.025      0.975]\n",
       "----------------------------------------------------------------------------------\n",
       "Intercept         12.4286      1.460      8.512      0.000       9.513      15.344\n",
       "mpg                9.6115      4.687      2.051      0.044       0.254      18.969\n",
       "headroom          -0.0875      0.038     -2.311      0.024      -0.163      -0.012\n",
       "weight             0.0004      0.000      4.196      0.000       0.000       0.001\n",
       "turn              -0.0325      0.013     -2.444      0.017      -0.059      -0.006\n",
       "gear_ratio        -2.7272      0.883     -3.087      0.003      -4.491      -0.963\n",
       "gear_ratio_sqr     0.4406      0.144      3.051      0.003       0.152       0.729\n",
       "Foreign            0.3346      0.106      3.150      0.002       0.122       0.547\n",
       "==============================================================================\n",
       "Omnibus:                        3.370   Durbin-Watson:                   1.499\n",
       "Prob(Omnibus):                  0.185   Jarque-Bera (JB):                3.154\n",
       "Skew:                           0.436   Prob(JB):                        0.207\n",
       "Kurtosis:                       2.488   Cond. No.                     5.26e+05\n",
       "==============================================================================\n",
       "\n",
       "Notes:\n",
       "[1] Standard Errors assume that the covariance matrix of the errors is correctly specified.\n",
       "[2] The condition number is large, 5.26e+05. This might indicate that there are\n",
       "strong multicollinearity or other numerical problems.\n",
       "\"\"\""
      ]
     },
     "execution_count": 17,
     "metadata": {},
     "output_type": "execute_result"
    }
   ],
   "source": [
    "model_cars_pruned = smf.ols(\n",
    "    'price ~ mpg+headroom+weight+turn+gear_ratio+gear_ratio_sqr+Foreign ', \n",
    "    data = df_for_model\n",
    ").fit()\n",
    "model_cars_pruned.summary()"
   ]
  },
  {
   "cell_type": "markdown",
   "metadata": {},
   "source": [
    "Все признаки значимые при alpha = 5%, регрессия в целом тоже значимая, значение метрик лучше, чем в предыдущих моделях.\n",
    "\n",
    "Мы взяли и почему:\n",
    "- mpg (пробег) очень логично, что пробег влияет на цену\n",
    "- headroom (габаритная высота), gear_ratio_sqr (предаточное число), foreing (происхождения автомобиля) заметили корреляцию на этапе EDA\n",
    "- weight (вес) взяли потому что косвенно показывает нам габариты машины\n",
    "- gear_ratio (предаточное число), turn (радиус разворота) берем потому что появвляется проблема с эндогенностью (не берем то, что нужно)\n",
    "\n",
    "Коэффициенты у переменных получились примерно такими как и ожидались, только у признака Foreign ожидался коэффициент отрицательный. Также и у признака headroom, но в другую сторону. \n",
    "\n",
    "До этого ожидалось, что коэффициент у weight будет больше, но он получился малым так как я не подумал о том, что есть более новые машины, которые облегчают вес (думал про грузовики и легковые до этого), а также малым он оказался потому что мы не масштабировали признаки и сами значения в этом столбце велики.\n",
    "\n",
    "Совсем непонтен коэффициент у turn. До этого предполагалось, что данный признак не нужен, так как он сильно коррелирует с weight, возможно модель завышает коэф у weight и знаижает у turn."
   ]
  },
  {
   "cell_type": "markdown",
   "metadata": {},
   "source": [
    "Мы прошли некоторые прдпосылки теоремы Г.М., какие могут быть нарушения:\n",
    "- Мультиколлинеарность\n",
    "- Гетероскедастичность\n",
    "- Модель может быть нелинейна \n",
    "- Пропуск существенного регрессора\n",
    "- Неоднородность исследуемых объектов\n",
    "- и другие\n",
    "\n",
    "В подсказках к модели пишется, что мы столкнулись с мультколлинеарностью, также неисключено, что есть гетерскедастичность. С линейностью/не линейностью мы всяко столкнулись, потому что присутствуют, например, как gear_ratio так и gear_ratio_sqr. Есть очень большая вероятность, что мы пропустили регрессоры."
   ]
  },
  {
   "cell_type": "markdown",
   "metadata": {},
   "source": [
    "По опыту прошлого задания, я думаю, что если мы будем сильно зациклены на препослыках, тогда мы получим очень малое количество признаков в модели, также значение метрик будет сильно меньше, поэтому, наверное, гнаться за всеми препослыками не стоит."
   ]
  }
 ],
 "metadata": {
  "kernelspec": {
   "display_name": "Python 3 (ipykernel)",
   "language": "python",
   "name": "python3"
  },
  "language_info": {
   "codemirror_mode": {
    "name": "ipython",
    "version": 3
   },
   "file_extension": ".py",
   "mimetype": "text/x-python",
   "name": "python",
   "nbconvert_exporter": "python",
   "pygments_lexer": "ipython3",
   "version": "3.9.7"
  },
  "toc": {
   "base_numbering": 1,
   "nav_menu": {},
   "number_sections": true,
   "sideBar": true,
   "skip_h1_title": true,
   "title_cell": "Table of Contents",
   "title_sidebar": "Contents",
   "toc_cell": false,
   "toc_position": {
    "height": "calc(100% - 180px)",
    "left": "10px",
    "top": "150px",
    "width": "181.4705810546875px"
   },
   "toc_section_display": true,
   "toc_window_display": true
  },
  "varInspector": {
   "cols": {
    "lenName": 16,
    "lenType": 16,
    "lenVar": 40
   },
   "kernels_config": {
    "python": {
     "delete_cmd_postfix": "",
     "delete_cmd_prefix": "del ",
     "library": "var_list.py",
     "varRefreshCmd": "print(var_dic_list())"
    },
    "r": {
     "delete_cmd_postfix": ") ",
     "delete_cmd_prefix": "rm(",
     "library": "var_list.r",
     "varRefreshCmd": "cat(var_dic_list()) "
    }
   },
   "types_to_exclude": [
    "module",
    "function",
    "builtin_function_or_method",
    "instance",
    "_Feature"
   ],
   "window_display": false
  }
 },
 "nbformat": 4,
 "nbformat_minor": 4
}
