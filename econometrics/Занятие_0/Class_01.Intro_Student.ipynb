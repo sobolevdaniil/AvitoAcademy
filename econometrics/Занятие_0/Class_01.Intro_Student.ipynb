{
 "cells": [
  {
   "cell_type": "markdown",
   "metadata": {},
   "source": [
    "# Академия Аналитиков Авито"
   ]
  },
  {
   "cell_type": "markdown",
   "metadata": {},
   "source": [
    "# Эконометрика"
   ]
  },
  {
   "cell_type": "markdown",
   "metadata": {},
   "source": [
    "- Про эконометрику как науку.\n",
    "    - \"Основная задача эконометрики - наполнить эмпирическим содержанием априорные экономические рассуждения\" (Клейн Л.).\n",
    "    - \"Цель эконометрики - эмпирический вывод экономических законов. Эконометрика дополняет теорию, используя реальные данные для проверки и уточнения постулируемых отношений\" (Маленво Э.).\n",
    "    - В целом, эконометрика - это некий набор инструментов, благодаря которым исследователь может проверить свои гипотезы и/или теории.\n",
    "    - У нее много различных сфер применения: начиная от исследования социологических (и не только) опросов и заканчивая высокочастотной торговлей"
   ]
  },
  {
   "cell_type": "markdown",
   "metadata": {},
   "source": [
    "Литеатура и полезные ссылки:\n",
    "- https://www.coursera.org/learn/ekonometrika\n",
    "- Я. Магнус, П. Катышев, А. Пересецкий. Эконометрика. Начальный курс (8-е издание). М.: Дело, 2007\n",
    "- Вербик М. Путеводитель по современной эконометрике. М., «Научная книга», 2008\n",
    "- Доугерти К. Введение в эконометрику (издание 3). М., ИНФРА-М, 2010\n",
    "- D. Gujarati. Basic econometrics (4-th edition). McGraw-Hill, 2003\n",
    "- Angrist, Joshua D., and Jörn-Steffen Pischke. Mostly harmless econometrics: An empiricist's companion. Princeton university press, 2009.\n",
    "- https://mlcourse.ai/"
   ]
  },
  {
   "cell_type": "markdown",
   "metadata": {},
   "source": [
    "# Занятие №1"
   ]
  },
  {
   "cell_type": "markdown",
   "metadata": {},
   "source": [
    "## План\n",
    "- Повторение теории вероятности и математической статистики\n",
    "- Операции с матрицами\n",
    "- Пакеты *NumPy*, *SciPy* и *MatPlotLib*"
   ]
  },
  {
   "cell_type": "markdown",
   "metadata": {},
   "source": [
    "## Повторение теории вероятности и математической статистики"
   ]
  },
  {
   "cell_type": "markdown",
   "metadata": {},
   "source": [
    "#### Теоретические и эмпирические моменты"
   ]
  },
  {
   "cell_type": "markdown",
   "metadata": {},
   "source": [
    "- Нас с вами в рамках данного курса будут интересовать два типа моментов: начальный и центральный момент\n",
    "- Определение:\n",
    "    - Если дана некая случайня величина (с.в.) $Х$ (определенная на некотором вероятностном пространстве), то \n",
    "        - k-м **начальным** моментом этой с.в., где $k \\in N$ называется величина: $E[X^{k}]$\n",
    "        - k-м **центральным** моментом этой с.в., где $k \\in N$ называется величина: $E[(X - E[X])^{k}]$"
   ]
  },
  {
   "cell_type": "markdown",
   "metadata": {},
   "source": [
    "- Думаю, очевидно, что математическое ожидание является первым начальным моментом, а дисперсия - вторым центральным моментом."
   ]
  },
  {
   "cell_type": "markdown",
   "metadata": {},
   "source": [
    "- Однако, то, что мы с вами определили выше, это теоретические моменты.\n",
    "- Естественно, когда у вас есть реальные данные, те моменты, которые вы считаются не теоретическими, а **выборочными (эмпирическими)**\n",
    "- Другими словами, аналогом для математического ожидания является простое среднее: $\\bar{X} = \\frac{1}{N} \\cdot \\sum_{i=1}^{N}X_{i} $\n",
    "- Для дисперсии же: $\\sigma^{2} = \\frac{1}{N} \\cdot \\sum_{i=1}^{N} (X_{i} - \\bar{X})^{2}$ (не забывайте, что это смещенная оценка дисперсии, которая все же иногда используется. **А как будет выглядеть несмещенная оценка дисперсии?**)"
   ]
  },
  {
   "cell_type": "markdown",
   "metadata": {},
   "source": [
    "- Нам с вами это пригодится, чтобы:\n",
    "    - Понимать, может ли наша модель потенциально быть \"хорошей\" с увеличением числа наблюдений \n",
    "    - Как мы можем посчитать на фактических данных то, что у нас получилось в теории\n",
    "- Про связь теоретических и выборочных моментов можете почитать здесь: [Закон Больших Чисел (ЗБЧ)](https://ru.wikipedia.org/wiki/%D0%97%D0%B0%D0%BA%D0%BE%D0%BD_%D0%B1%D0%BE%D0%BB%D1%8C%D1%88%D0%B8%D1%85_%D1%87%D0%B8%D1%81%D0%B5%D0%BB)\n",
    "P.S. На самом деле [ЗБЧ все не ограничивается](https://nsu.ru/mmf/tvims/chernova/ms/lec/node6.html), но не будем об этом"
   ]
  },
  {
   "cell_type": "markdown",
   "metadata": {},
   "source": [
    "#### Основные свойства математического ожидания и дисперсии"
   ]
  },
  {
   "cell_type": "markdown",
   "metadata": {},
   "source": [
    "1. $E[X] = \\sum_{i=1}^{N} p_{i}\\cdot X_{i}$, где $p_{i}$ - вероятность того, что $X = X_{i}$\n",
    "2. $var(X) = E[(X - E[X])^2]$\n",
    "3. $E[aX \\pm bY \\pm c] = aE[X] \\pm bE[Y] \\pm c$\n",
    "4. $var[aX \\pm bY \\pm c] = a^{2}var(X) + b^{2}var(Y) \\pm 2ab \\cdot cov(X, Y)$"
   ]
  },
  {
   "cell_type": "markdown",
   "metadata": {},
   "source": [
    "- Мы с вами не разобрали, что такое $cov(X, Y)$\n",
    "- То, что мы обсудили ранее, является характеристикой одной с.в., но, очевидно, что с.в. может быть несколько. Более того, одна с.в. может иметь взаимосвязь с другой\n",
    "- Для того, чтобы это как-то описать количественно и используется ковариация\n",
    "$$ cov(X, Y) = E[(X-E[X])(Y-E[Y])] $$\n",
    "- Свойства ковариации:\n",
    "$$cov(aX \\pm c, bY \\pm d) = ab\\cdot cov(X, Y)$$\n",
    "- Корреляция и ковариация:\n",
    "$$corr(X, Y) = \\frac{cov(X, Y)}{\\sigma_{X} \\cdot \\sigma_{Y}}$$"
   ]
  },
  {
   "cell_type": "markdown",
   "metadata": {},
   "source": [
    "#### Пример"
   ]
  },
  {
   "cell_type": "markdown",
   "metadata": {},
   "source": [
    "- Пример, связанный с Центральной Предельной Теоремой [ЦПТ](https://ru.wikipedia.org/wiki/%D0%A6%D0%B5%D0%BD%D1%82%D1%80%D0%B0%D0%BB%D1%8C%D0%BD%D0%B0%D1%8F_%D0%BF%D1%80%D0%B5%D0%B4%D0%B5%D0%BB%D1%8C%D0%BD%D0%B0%D1%8F_%D1%82%D0%B5%D0%BE%D1%80%D0%B5%D0%BC%D0%B0)\n",
    "- Допустим, у нас есть с.в. $X \\sim N(\\mu, \\sigma^{2})$\n",
    "- Как мы с вами знаем, если из с.в. вычести математическое ожидание и поделить на корень из дисперсии (стандартное отклонение), то у нас получится стандартная нормальная с.в., т.е. с нулевым математическим ожиданием и единичной дисперсией (конечно, если будут выполняться предпосылки ЦПТ)\n",
    "- Давайте предположим, что предпосылки ЦПТ выполняются, и докажем, что если из с.в. **Х**, определенной выше, вычесть математическое ожидание и поделить на стандартное отклонение, то мы получим новую с.в. **Z** (в будущем, я всегда буду обозначать в качестве **Z** стандартную нормальную с.в.), у которой нулевое математическое ожидание и единичная дисперсия"
   ]
  },
  {
   "cell_type": "markdown",
   "metadata": {},
   "source": [
    "- Итак, наша новая с.в. **Z** равна:\n",
    "$$Z = \\frac{X - \\mu}{\\sigma}$$\n",
    "- Посчитаем математическое ожидание:\n",
    "$$E[Z] = E[\\frac{X - \\mu}{\\sigma}] = \\frac{1}{\\sigma} \\cdot E[X - \\mu] = \\frac{1}{\\sigma} \\cdot (E[X] - \\mu) = \\frac{1}{\\sigma} \\cdot (\\mu - \\mu) = 0$$\n",
    "- Посчитаем дисперсию:\n",
    "$$var(Z) = var(\\frac{X - \\mu}{\\sigma}) = \\frac{1}{\\sigma^{2}} \\cdot var(X - \\mu) = \\frac{1}{\\sigma^{2}} \\cdot var(X) = \\frac{1}{\\sigma^{2}} \\cdot \\sigma^{2} = 1$$"
   ]
  },
  {
   "cell_type": "markdown",
   "metadata": {
    "solution2": "shown",
    "solution2_first": true
   },
   "source": [
    "##### Давайте теперь вы попробуете посчитать математическое ожидание и дисперсию:  \n",
    "\n",
    "- $\\frac{X - \\sigma^{2}}{\\mu}$\n",
    "- $\\frac{X - \\sigma}{\\mu - \\sigma}$"
   ]
  },
  {
   "cell_type": "markdown",
   "metadata": {},
   "source": [
    "- Продолжим делать примеры.\n",
    "- Допустим вы хотите купить шоколадный батончик. Вы знаете, что в среднем он весит 50 грамм. В среднем вес батончика отклоняется от этого значения на 2 грамма. Вы также знаете, что завод, который производит эти батончики помешан на нормальном распределении и следит за распределением веса произведенных батончиков.\n",
    "- Вам интересно, какова вероятность того, что вес батончика будет больше 55 грамм"
   ]
  },
  {
   "cell_type": "markdown",
   "metadata": {},
   "source": [
    "- Пока что мы не будем считать саму вероятность. Посчитаем ее с помощью пакетов чуть дальше.\n",
    "- Сейчас же давайте приведем те данные, которые получили к нормальному стандартному виду"
   ]
  },
  {
   "cell_type": "markdown",
   "metadata": {},
   "source": [
    "- Как и ранее, давайте сначала найдем нормальную стандартную величину:\n",
    "$$Z = \\frac{X - 50}{2}$$\n",
    "- Нам с вами надо найти:\n",
    "$$P(X \\geq 55) = P(\\frac{X - 50}{2} \\geq \\frac{55 - 50}{2}) = P(Z \\geq 2.5) = 1 - \\Phi(2.5) $$  \n",
    "Где $\\Phi(.)$ - функция распределения нормальной стандартной величины"
   ]
  },
  {
   "cell_type": "markdown",
   "metadata": {},
   "source": [
    "#### Основные распределения\n",
    "- Я предполагаю, что с нормальным распределением вы очень хорошо знакомы после курса по статистике\n",
    "- В этом же разделе давайте поговорим про распределение Стьюдента, хи-квадрат распределение и распределение Фишера\n",
    "- Нам с вами они очень пригодятся для тестирования гипотез "
   ]
  },
  {
   "cell_type": "markdown",
   "metadata": {},
   "source": [
    "- Я не могу не дать формулу (функции плотности) для нормального распределения\n",
    "$$f(x) = \\frac{1}{\\sqrt{2 \\pi \\sigma^{2}}} \\cdot exp\\left(-\\frac{1}{2} \\cdot \\frac{(X - \\mu)^{2}}{\\sigma^{2}}\\right)$$\n",
    "- Хи-квадрат распределение:\n",
    "    - Пусть $Z_{i} \\sim N(0, 1) \\text{ и } Z_{i} \\text{ независимы}$\n",
    "    - Тогда $\\sum_{i=1}^{N} Z_{i}^{2} = \\chi^{2}_{N}$\n",
    "- Распределение Стьюдента:\n",
    "    - Пусть $Z \\text{ и } \\chi^{2}_{N} \\text{ независимы}$\n",
    "    - Тогда $t_{N} = \\frac{Z}{\\sqrt{\\chi^{2}_{N}/N}}$\n",
    "- Распределение Фишера:\n",
    "    - Пусть $\\chi^{2}_{N} \\text{ и } \\chi^{2}_{M} \\text{ независимы}$\n",
    "    - Тогда $F_{N, M} = \\frac{\\chi^{2}_{N}/N}{\\chi^{2}_{M}/M}$"
   ]
  },
  {
   "cell_type": "markdown",
   "metadata": {},
   "source": [
    "## Пакеты NumPy, SciPy, MatPlotLib"
   ]
  },
  {
   "cell_type": "markdown",
   "metadata": {},
   "source": [
    "- В общем, мы с вами что-то повторили из теории вероятности и математической статистики\n",
    "- Хотелось бы это все как-то преобразовать в код\n",
    "- А займемся мы именно функциями распределения, ибо все остальное это просто операции сложения и деления (думаю, вы сможете посчитать среднее в питоне)"
   ]
  },
  {
   "cell_type": "markdown",
   "metadata": {},
   "source": [
    "- Небольшой дисклеймер (предупреждение)\n",
    "    - Данное занятие написано человеком, который не любит питон.\n",
    "    - Этот человек всегда использовал `R` для своих статистических, эконометрических или любых других вычислительных задач."
   ]
  },
  {
   "cell_type": "markdown",
   "metadata": {},
   "source": [
    "- Библиотека [*NumPy*](https://numpy.org/doc/stable/user/index.html) является одной из основных для научных вычислений: [объявление векторов и матриц, операции с ними, генератор случайных величин и т.д.](https://numpy.org/doc/stable/reference/index.html)\n",
    "- Более того, эта библиотека [очень быстрая](https://towardsdatascience.com/how-fast-numpy-really-is-e9111df44347)"
   ]
  },
  {
   "cell_type": "markdown",
   "metadata": {},
   "source": [
    "- Второй библиотекой, с которой вы должны быть знакомы, является [*SciPy*](https://docs.scipy.org/doc/scipy/reference/)\n",
    "- Если просто, то это библиотека для питона, которая вобрала в себя огромный пласт статистических функций и не только\n",
    "- Нас с вами больше всего будет волновать раздел [`stats`](https://docs.scipy.org/doc/scipy/reference/tutorial/stats.html)\n",
    "- В этом разделе есть несколько методов, которые нас с вами должны интересовать:\n",
    "    - `pdf` - probability density function или функция плотности с.в. ($f(x)$)\n",
    "    - `cdf` - cumulative density function или функция распределения с.в. ($F(X)$)\n",
    "    - `ppf` - percent point function или обратная функция к функции распределения ($F^{-1}(X)$)"
   ]
  },
  {
   "cell_type": "markdown",
   "metadata": {},
   "source": [
    "- Наконец, нам нужна библиотека для визуализации: [MatPlotLib](https://matplotlib.org/)"
   ]
  },
  {
   "cell_type": "code",
   "execution_count": 1,
   "metadata": {
    "ExecuteTime": {
     "end_time": "2021-01-26T13:55:28.519659Z",
     "start_time": "2021-01-26T13:55:26.490680Z"
    }
   },
   "outputs": [],
   "source": [
    "# Во-первых, импортируем необходимые для нас инстурменты\n",
    "import numpy as np\n",
    "from scipy import stats\n",
    "import matplotlib.pyplot as plt\n",
    "import matplotlib as mpl\n",
    "%matplotlib inline"
   ]
  },
  {
   "cell_type": "markdown",
   "metadata": {},
   "source": [
    "### Нормальное распеделение "
   ]
  },
  {
   "cell_type": "code",
   "execution_count": 57,
   "metadata": {
    "ExecuteTime": {
     "end_time": "2021-01-26T16:49:53.387653Z",
     "start_time": "2021-01-26T16:49:52.434669Z"
    }
   },
   "outputs": [
    {
     "data": {
      "image/png": "[encoded data removed]",
      "text/plain": [
       "<Figure size 1080x576 with 2 Axes>"
      ]
     },
     "metadata": {
      "needs_background": "light"
     },
     "output_type": "display_data"
    }
   ],
   "source": [
    "# Я сделаю немного не логичную вещь, но зато весьма наглядную\n",
    "# Давайте нарисуем графики функций распределения и плотности стандартного нормального распределения\n",
    "\n",
    "n_sample = 5000 # говорим, сколько будет наблюдений\n",
    "np.random.seed(123) # ставим число 123, чтобы другой человек мог воспроизвести результат\n",
    "x = np.linspace(-4, 4, n_sample) # говорим, что те 5000 наблюдений равномерно легли в интервале от -4 до 4\n",
    "\n",
    "fig, (ax1, ax2) = plt.subplots(1, 2, figsize=(15, 8)) # Представьте себе, что fig это одна большая ячейка, \n",
    "# а ax1, ax2 две подячейки с непосредственно графиками\n",
    "\n",
    "fig.suptitle('N(0, 1)') # общее название двух графиков\n",
    "\n",
    "ax1.set_title('Функция плотности (pdf)') # индивидуальное название первого графика\n",
    "ax1.set_xlabel('x') # название оси x\n",
    "ax1.set_ylabel('f(x)') # название оси y\n",
    "ax1.plot(x, stats.norm.pdf(x)) # собственно, то, что мы и рисуем: по оси х - наши 5000 наблюдений равномерно \"размазанных\"\n",
    "# от -4 до 4, по оси y - значение функции плотности (по умолчанию, функция плотности считается для стандартного \n",
    "# нормального распределения), которую я написал ранее\n",
    "\n",
    "# Аналогично первому графику\n",
    "ax2.set_title('Функция распределения (cdf)')\n",
    "ax2.set_xlabel('x')\n",
    "ax2.set_ylabel('F(X)')\n",
    "ax2.plot(x, stats.norm.cdf(x))\n",
    "\n",
    "plt.show()"
   ]
  },
  {
   "cell_type": "markdown",
   "metadata": {},
   "source": [
    "- Теперь, видя перед глазами графики, нам будет легче понимать, что вообще происходит (наверное)\n",
    "- Допустим, мы хотим понять, чему равна функция распределения в точке x = 0\n",
    "- Например, нам это может быть необходимо, если мы знаем, что наша случайная величина (пусть, доходность акции) распределена стандартно нормально (пожалуйста, никогда не используйте стандартное нормально распределение для доходностей) мы хотим понять, чему равна вероятность того, что наша доходность будет равна или меньше 0.\n",
    "- Напоминаю определение функции распределения: $F(X) = P(X \\leq x)$"
   ]
  },
  {
   "cell_type": "code",
   "execution_count": 3,
   "metadata": {
    "ExecuteTime": {
     "end_time": "2021-01-26T13:55:29.241653Z",
     "start_time": "2021-01-26T13:55:29.232652Z"
    }
   },
   "outputs": [
    {
     "data": {
      "text/plain": [
       "0.5"
      ]
     },
     "execution_count": 3,
     "metadata": {},
     "output_type": "execute_result"
    }
   ],
   "source": [
    "# Для этого мы вызываем следующую функцию \n",
    "stats.norm.cdf(0)"
   ]
  },
  {
   "cell_type": "markdown",
   "metadata": {},
   "source": [
    "- Как и ожидалось, вероятность такого события оказалась равна 50%"
   ]
  },
  {
   "cell_type": "code",
   "execution_count": 4,
   "metadata": {
    "ExecuteTime": {
     "end_time": "2021-01-26T13:55:29.253652Z",
     "start_time": "2021-01-26T13:55:29.244657Z"
    }
   },
   "outputs": [
    {
     "data": {
      "text/plain": [
       "0.0"
      ]
     },
     "execution_count": 4,
     "metadata": {},
     "output_type": "execute_result"
    }
   ],
   "source": [
    "# Аналогично, если мы уже знаем вероятность, то, для того чтобы найти значение x, которое соответствует этой вероятности\n",
    "# мы используем следующую функцию\n",
    "stats.norm.ppf(0.5)"
   ]
  },
  {
   "cell_type": "code",
   "execution_count": 5,
   "metadata": {
    "ExecuteTime": {
     "end_time": "2021-01-26T13:55:29.877642Z",
     "start_time": "2021-01-26T13:55:29.256656Z"
    }
   },
   "outputs": [
    {
     "data": {
      "image/png": "[encoded data removed]",
      "text/plain": [
       "<Figure size 1080x576 with 2 Axes>"
      ]
     },
     "metadata": {
      "needs_background": "light"
     },
     "output_type": "display_data"
    }
   ],
   "source": [
    "# Естественно, мы можем поиграться с параметрам нормального распределения\n",
    "\n",
    "n_sample = 5000 \n",
    "np.random.seed(123) \n",
    "x = np.linspace(-5, 25, n_sample) \n",
    "\n",
    "fig, (ax1, ax2) = plt.subplots(1, 2, figsize=(15, 8)) \n",
    "\n",
    "# loc - математическое ожидание распределения \n",
    "# scale - стандартное отклонение\n",
    "\n",
    "loc = 10\n",
    "scale = 5\n",
    "\n",
    "fig.suptitle('N({}, {})'.format(loc, scale)) \n",
    "\n",
    "ax1.set_title('Функция плотности (pdf)') \n",
    "ax1.set_xlabel('x') \n",
    "ax1.set_ylabel('f(x)') \n",
    "ax1.plot(x, stats.norm.pdf(x, loc = loc, scale = scale)) \n",
    "\n",
    "ax2.set_title('Функция распределения (cdf)')\n",
    "ax2.set_xlabel('x')\n",
    "ax2.set_ylabel('F(X)')\n",
    "ax2.plot(x, stats.norm.cdf(x, loc = loc, scale = scale))\n",
    "\n",
    "plt.show()"
   ]
  },
  {
   "cell_type": "markdown",
   "metadata": {
    "solution2": "shown",
    "solution2_first": true
   },
   "source": [
    "- Давайте вернемся к примеру с шоколадкой\n",
    "- Мы выяснили, что нам нужно посчитать $1 - \\Phi(2.5)$"
   ]
  },
  {
   "cell_type": "code",
   "execution_count": 6,
   "metadata": {
    "ExecuteTime": {
     "end_time": "2021-01-26T13:55:29.895642Z",
     "start_time": "2021-01-26T13:55:29.880643Z"
    },
    "solution2": "shown"
   },
   "outputs": [
    {
     "name": "stdout",
     "output_type": "stream",
     "text": [
      "Вероятность того, что вес шоколадного батончика, который подчиняется нормальному закону распределения со средним \n",
      "50 грамм и стандартным отклонением 2 грамм, превысит 55 грамм, равна 0.0062\n"
     ]
    }
   ],
   "source": [
    "print('''Вероятность того, что вес шоколадного батончика, который подчиняется нормальному закону распределения со средним \n",
    "50 грамм и стандартным отклонением 2 грамм, превысит 55 грамм, равна {:.4f}'''.format(1 - stats.norm.cdf(2.5)))"
   ]
  },
  {
   "cell_type": "markdown",
   "metadata": {},
   "source": [
    "### Хи-квадрат распределение"
   ]
  },
  {
   "cell_type": "code",
   "execution_count": 58,
   "metadata": {
    "ExecuteTime": {
     "end_time": "2021-01-26T17:22:50.524617Z",
     "start_time": "2021-01-26T17:22:49.676616Z"
    }
   },
   "outputs": [
    {
     "data": {
      "image/png": "[encoded data removed]",
      "text/plain": [
       "<Figure size 1080x576 with 2 Axes>"
      ]
     },
     "metadata": {
      "needs_background": "light"
     },
     "output_type": "display_data"
    }
   ],
   "source": [
    "# Давайте теперь нарисуем хи-квадрат распределение\n",
    "\n",
    "n_sample = 5000 \n",
    "np.random.seed(123) \n",
    "\n",
    "# Для хи-квадрат распределения нам нужны степени свободы\n",
    "\n",
    "df = 5\n",
    "\n",
    "# Ок, по-хорошему, на этапе определения границ наблюдений стоит ставить квантили рассматриваемых распределений\n",
    "# То есть:\n",
    "x = np.linspace(stats.chi2.ppf(0.01, df=df), stats.chi2.ppf(0.99, df=df), n_sample) \n",
    "\n",
    "# Теперь мы избежим проблемы, что распределение может криво нарисоваться\n",
    "\n",
    "fig, (ax1, ax2) = plt.subplots(1, 2, figsize=(15, 8)) \n",
    "\n",
    "fig.suptitle('Сhi-square with {} degrees of freedom'.format(df)) \n",
    "\n",
    "ax1.set_title('Функция плотности (pdf)') \n",
    "ax1.set_xlabel('x') \n",
    "ax1.set_ylabel('f(x)') \n",
    "ax1.plot(x, stats.chi2.pdf(x, df)) \n",
    "\n",
    "ax2.set_title('Функция распределения (cdf)')\n",
    "ax2.set_xlabel('x')\n",
    "ax2.set_ylabel('F(X)')\n",
    "ax2.plot(x, stats.chi2.cdf(x, df=df))\n",
    "\n",
    "plt.show()"
   ]
  },
  {
   "cell_type": "markdown",
   "metadata": {},
   "source": [
    "- Мы с вами на будем применять это распределения для проверки гипотез о статистической значимости... многих вещей :) \n",
    "- Вообще, это распределение используется для проверки нулевой гипотезы о подчинении наблюдаемой случайной величины определенному теоретическому закону распределения\n",
    "- Давайте на примере"
   ]
  },
  {
   "cell_type": "markdown",
   "metadata": {},
   "source": [
    "- Пример из иммунологии.\n",
    "- Представим, что мы выполнили эксперимент по установлению эффективности подавления развития микробного заболевания при введении в организм соответствующих антител. \n",
    "    - Всего в эксперименте было задействовано 111 мышей, которых мы разделили на две группы, включающие 57 и 54 животных соответственно. \n",
    "    - Первой группе мышей сделали инъекции патогенных бактерий с последующим введением сыворотки крови, содержащей антитела против этих бактерий. \n",
    "    - Животные из второй группы служили контролем – им сделали только бактериальные инъекции. \n",
    "- После некоторого времени инкубации оказалось, что 38 мышей погибли, а 73 выжили. \n",
    "    - Из погибших 13 принадлежали первой группе, а 25 – ко второй (контрольной). \n",
    "- Проверяемую в этом эксперименте нулевую гипотезу можно сформулировать так: введение сыворотки с антителами не оказывает никакого влияния на выживаемость мышей. Иными словами, мы утверждаем, что наблюдаемые различия в выживаемости мышей (77.2% в первой группе против 53.7% во второй группе) совершенно случайны и не связаны с действием антител."
   ]
  },
  {
   "cell_type": "markdown",
   "metadata": {},
   "source": [
    "|Группа|Погибло|Выжило|Всего|\n",
    "|---|---|---|---|\n",
    "|Бактерии + Сыворотка| 13 | 44 | **57**|\n",
    "|Бактерии| 25| 29 | **54**|\n",
    "|**Всего**|**38**|**73**|**111**|"
   ]
  },
  {
   "cell_type": "markdown",
   "metadata": {},
   "source": [
    "- Для того чтобы проверить эту нулевую гипотезу, нам нужны *ожидаемые* значения.\n",
    "- Вего погибло 38 мышей из 111, т.е. 34.2%.\n",
    "- Если мы с вами считаем, что эти две группы статистически не отличаются, т.е. антитела не работают, то в них обеих должна быть смертность 34.2% и таблица должна выглядеть вот так:  \n",
    "\n",
    "|Группа|Погибло|Выжило|Всего|\n",
    "|---|---|---|---|\n",
    "|Бактерии + Сыворотка| 19.5 | 37.5 | **57**|\n",
    "|Бактерии| 18.5| 35.5 | **54**|\n",
    "|**Всего**|**38**|**73**|**111**|"
   ]
  },
  {
   "cell_type": "markdown",
   "metadata": {},
   "source": [
    "- Для такого случая есть формула расчета [критерия Хи-квадрат Пирсона](https://en.wikipedia.org/wiki/Pearson%27s_chi-squared_test):\n",
    "$\\chi^2 = \\sum_{j=1}^{k} \\frac{(X_j - E_j)^2}{E_j}$, где $X_j$ - это фактическое значение, а $E_j$ - ожидаемое значение\n",
    "- В рамках этой задачи получаем: $\\chi^2 = \\frac{(13-19.5)^2}{19.5} + \\frac{(25 - 18.5)^2}{18.5} + \\frac{(44-37.5)^2}{37.5} + \\frac{(29-35.5)^2}{35.5} = 6.79$\n",
    "- Для того, чтобы отвергнуть или не отвергнуть нулевую гипотезу нам не хватате только степеней свободы. Так как у нас всего две категории (\"Бактерии\" и \"Бактерии + Сыворотка\"), то количество степеней свободы равно $2-1 = 1$"
   ]
  },
  {
   "cell_type": "code",
   "execution_count": 9,
   "metadata": {
    "ExecuteTime": {
     "end_time": "2021-01-26T13:55:30.510641Z",
     "start_time": "2021-01-26T13:55:30.503635Z"
    }
   },
   "outputs": [
    {
     "name": "stdout",
     "output_type": "stream",
     "text": [
      "Значение Хи-квадрта распределения с 1 степенью свободы для 5% уровня значимости равно 3.84\n"
     ]
    }
   ],
   "source": [
    "print('Значение Хи-квадрта распределения с 1 степенью свободы для 5% уровня значимости равно {:.2f}'.\\\n",
    "      format(stats.chi2.ppf(0.95, df=1)))"
   ]
  },
  {
   "cell_type": "markdown",
   "metadata": {},
   "source": [
    "- Видим, что рассчитанное значение превышает теоритическое. Значит, мы отвергаем нулевую гипотезу о том, что антитела работают"
   ]
  },
  {
   "cell_type": "markdown",
   "metadata": {},
   "source": [
    "- Тем не менее, есть небольшая проблема с подобным тестом.\n",
    "- Он рассчитан на случай непрерывного распределения.\n",
    "- Поэтому зачастую используют такую вещь, как [поправка Йетса](https://en.wikipedia.org/wiki/Yates%27s_correction_for_continuity): $\\chi^2 = \\sum_{j=1}^{k} \\frac{(|X_j - E_j| - 0.5)^2}{E_j}$\n",
    "- Не будем вручную пересчитывать, а воспользуемся пакетом `stats`"
   ]
  },
  {
   "cell_type": "code",
   "execution_count": 10,
   "metadata": {
    "ExecuteTime": {
     "end_time": "2021-01-26T13:55:30.524635Z",
     "start_time": "2021-01-26T13:55:30.513632Z"
    }
   },
   "outputs": [
    {
     "name": "stdout",
     "output_type": "stream",
     "text": [
      "Получаем, что значение Хи-квадрат статистики с 1 степенью свободы с поправкой Йетса равно 5.7923, а p-value равно 0.0161\n"
     ]
    }
   ],
   "source": [
    "obs = np.array([[13, 44], [25, 29]])\n",
    "chi2, pval, df, tmp = stats.chi2_contingency(obs, correction=True)\n",
    "print('Получаем, что значение Хи-квадрат статистики с {} степенью свободы с поправкой Йетса равно {:.4f}, а p-value равно {:.4f}'.\\\n",
    "format(df, chi2, pval))"
   ]
  },
  {
   "cell_type": "markdown",
   "metadata": {},
   "source": [
    "### Распределение Стьюдента"
   ]
  },
  {
   "cell_type": "code",
   "execution_count": 11,
   "metadata": {
    "ExecuteTime": {
     "end_time": "2021-01-26T13:55:31.116630Z",
     "start_time": "2021-01-26T13:55:30.528635Z"
    }
   },
   "outputs": [
    {
     "data": {
      "image/png": "[encoded data removed]",
      "text/plain": [
       "<Figure size 1080x576 with 2 Axes>"
      ]
     },
     "metadata": {
      "needs_background": "light"
     },
     "output_type": "display_data"
    }
   ],
   "source": [
    "# Давайте теперь нарисуем распределение Стьюдента\n",
    "\n",
    "n_sample = 5000 \n",
    "np.random.seed(123) \n",
    "\n",
    "# Для распределения Стьюдента нам нужны степени свободы\n",
    "\n",
    "df = 10\n",
    "\n",
    "# Ок, по-хорошему, на этапе определения границ наблюдений стоит ставить квантили рассматриваемых распределений\n",
    "# То есть:\n",
    "x = np.linspace(stats.t.ppf(0.01, df=df), stats.t.ppf(0.99, df=df), n_sample) \n",
    "\n",
    "# Теперь мы избежим проблемы, что распределение может криво нарисоваться\n",
    "\n",
    "fig, (ax1, ax2) = plt.subplots(1, 2, figsize=(15, 8)) \n",
    "\n",
    "fig.suptitle('Student\\'s t with {} degrees of freedom'.format(df)) \n",
    "\n",
    "ax1.set_title('Функция плотности (pdf)') \n",
    "ax1.set_xlabel('x') \n",
    "ax1.set_ylabel('f(x)') \n",
    "ax1.plot(x, stats.t.pdf(x, df)) \n",
    "\n",
    "ax2.set_title('Функция распределения (cdf)')\n",
    "ax2.set_xlabel('x')\n",
    "ax2.set_ylabel('F(X)')\n",
    "ax2.plot(x, stats.t.cdf(x, df=df))\n",
    "\n",
    "plt.show()"
   ]
  },
  {
   "cell_type": "markdown",
   "metadata": {},
   "source": [
    "### Распределение Фишера"
   ]
  },
  {
   "cell_type": "code",
   "execution_count": 12,
   "metadata": {
    "ExecuteTime": {
     "end_time": "2021-01-26T13:55:31.675617Z",
     "start_time": "2021-01-26T13:55:31.119629Z"
    }
   },
   "outputs": [
    {
     "data": {
      "image/png": "[encoded data removed]",
      "text/plain": [
       "<Figure size 1080x576 with 2 Axes>"
      ]
     },
     "metadata": {
      "needs_background": "light"
     },
     "output_type": "display_data"
    }
   ],
   "source": [
    "# Давайте теперь нарисуем распределение Фишера\n",
    "\n",
    "n_sample = 5000 \n",
    "np.random.seed(123) \n",
    "\n",
    "# Для распределения Фишера нам нужны степени свободы\n",
    "\n",
    "dfn = 10\n",
    "dfd = 10\n",
    "\n",
    "# Ок, по-хорошему, на этапе определения границ наблюдений стоит ставить квантили рассматриваемых распределений\n",
    "# То есть:\n",
    "x = np.linspace(stats.f.ppf(0.01, dfn=dfn, dfd=dfd), stats.f.ppf(0.99, dfn=dfn, dfd=dfd), n_sample) \n",
    "\n",
    "# Теперь мы избежим проблемы, что распределение может криво нарисоваться\n",
    "\n",
    "fig, (ax1, ax2) = plt.subplots(1, 2, figsize=(15, 8)) \n",
    "\n",
    "fig.suptitle('Fisher distribution with {}, {} degrees of freedom'.format(dfn, dfd)) \n",
    "\n",
    "ax1.set_title('Функция плотности (pdf)') \n",
    "ax1.set_xlabel('x') \n",
    "ax1.set_ylabel('f(x)') \n",
    "ax1.plot(x, stats.f.pdf(x, dfn=dfn, dfd=dfd)) \n",
    "\n",
    "ax2.set_title('Функция распределения (cdf)')\n",
    "ax2.set_xlabel('x')\n",
    "ax2.set_ylabel('F(X)')\n",
    "ax2.plot(x, stats.f.cdf(x, dfn=dfn, dfd=dfd))\n",
    "\n",
    "plt.show()"
   ]
  },
  {
   "cell_type": "markdown",
   "metadata": {},
   "source": [
    "## Операции с матрицами"
   ]
  },
  {
   "cell_type": "markdown",
   "metadata": {},
   "source": [
    "- Нам с вами в рамках этого курса, да и не только этого, очень пригодятся матричные операции и линейная алгебра\n",
    "- Откровенно говоря, все, что вам нужно уметь в рамках этого курса, это перемножать матрицы, транспонировать матрицы и находить обратную матрицу. Плюс, знать про такую концепцию как [бродкастинг (broadcasting)](https://numpy.org/doc/stable/user/basics.broadcasting.html) и на [русском](https://tirinox.ru/numpy-broadcasting/)"
   ]
  },
  {
   "cell_type": "code",
   "execution_count": 59,
   "metadata": {
    "ExecuteTime": {
     "end_time": "2021-01-26T17:35:42.213702Z",
     "start_time": "2021-01-26T17:35:42.206725Z"
    }
   },
   "outputs": [],
   "source": [
    "# Давайте создадим такую матрицу 4 x 2\n",
    "X = np.array([[1, 1], [1, 2], [2, 2], [2, 3]])"
   ]
  },
  {
   "cell_type": "code",
   "execution_count": 60,
   "metadata": {
    "ExecuteTime": {
     "end_time": "2021-01-26T17:35:42.759699Z",
     "start_time": "2021-01-26T17:35:42.745699Z"
    }
   },
   "outputs": [
    {
     "data": {
      "text/plain": [
       "array([[1, 1],\n",
       "       [1, 2],\n",
       "       [2, 2],\n",
       "       [2, 3]])"
      ]
     },
     "execution_count": 60,
     "metadata": {},
     "output_type": "execute_result"
    }
   ],
   "source": [
    "X"
   ]
  },
  {
   "cell_type": "code",
   "execution_count": 15,
   "metadata": {
    "ExecuteTime": {
     "end_time": "2021-01-26T13:55:31.709624Z",
     "start_time": "2021-01-26T13:55:31.702622Z"
    }
   },
   "outputs": [
    {
     "data": {
      "text/plain": [
       "(4, 2)"
      ]
     },
     "execution_count": 15,
     "metadata": {},
     "output_type": "execute_result"
    }
   ],
   "source": [
    "X.shape"
   ]
  },
  {
   "cell_type": "code",
   "execution_count": 16,
   "metadata": {
    "ExecuteTime": {
     "end_time": "2021-01-26T13:55:31.722623Z",
     "start_time": "2021-01-26T13:55:31.712624Z"
    }
   },
   "outputs": [
    {
     "data": {
      "text/plain": [
       "array([[2, 2],\n",
       "       [2, 4],\n",
       "       [4, 4],\n",
       "       [4, 6]])"
      ]
     },
     "execution_count": 16,
     "metadata": {},
     "output_type": "execute_result"
    }
   ],
   "source": [
    "# Давайте попробуем ее на что-нибудь умножить\n",
    "X * 2"
   ]
  },
  {
   "cell_type": "markdown",
   "metadata": {},
   "source": [
    "- Ок, мы видим, что обычное умножение означает поэлементное умножение, т.е. каждый элемент был умножен на 2. \n",
    "- Аналогичная картина и при использовании других операций: делений, сложение, вычитание\n",
    "- И все же, а что если нам нужно умножить матрицу на вектор\\другую матрицу\n",
    "- Наши знания азов линейной алгебры говорят нам, что матрицу 4x2 можно умножить на любую матрицу размерности 2xN\n",
    "- Давайте попробуем"
   ]
  },
  {
   "cell_type": "code",
   "execution_count": 62,
   "metadata": {
    "ExecuteTime": {
     "end_time": "2021-01-26T17:39:30.367346Z",
     "start_time": "2021-01-26T17:39:30.358344Z"
    }
   },
   "outputs": [
    {
     "data": {
      "text/plain": [
       "array([[1, 2],\n",
       "       [2, 4]])"
      ]
     },
     "execution_count": 62,
     "metadata": {},
     "output_type": "execute_result"
    }
   ],
   "source": [
    "a = np.array([[1, 2], [2, 4]])\n",
    "a"
   ]
  },
  {
   "cell_type": "code",
   "execution_count": 18,
   "metadata": {
    "ExecuteTime": {
     "end_time": "2021-01-26T13:55:31.747619Z",
     "start_time": "2021-01-26T13:55:31.739624Z"
    }
   },
   "outputs": [
    {
     "data": {
      "text/plain": [
       "(2, 2)"
      ]
     },
     "execution_count": 18,
     "metadata": {},
     "output_type": "execute_result"
    }
   ],
   "source": [
    "a.shape"
   ]
  },
  {
   "cell_type": "code",
   "execution_count": 19,
   "metadata": {
    "ExecuteTime": {
     "end_time": "2021-01-26T13:55:31.759619Z",
     "start_time": "2021-01-26T13:55:31.750622Z"
    }
   },
   "outputs": [
    {
     "data": {
      "text/plain": [
       "array([[1, 1],\n",
       "       [1, 2],\n",
       "       [2, 2],\n",
       "       [2, 3]])"
      ]
     },
     "execution_count": 19,
     "metadata": {},
     "output_type": "execute_result"
    }
   ],
   "source": [
    "X"
   ]
  },
  {
   "cell_type": "code",
   "execution_count": 20,
   "metadata": {
    "ExecuteTime": {
     "end_time": "2021-01-26T13:55:31.770623Z",
     "start_time": "2021-01-26T13:55:31.762621Z"
    }
   },
   "outputs": [
    {
     "data": {
      "text/plain": [
       "array([[1, 2],\n",
       "       [2, 4]])"
      ]
     },
     "execution_count": 20,
     "metadata": {},
     "output_type": "execute_result"
    }
   ],
   "source": [
    "a"
   ]
  },
  {
   "cell_type": "code",
   "execution_count": 63,
   "metadata": {
    "ExecuteTime": {
     "end_time": "2021-01-26T17:39:39.480326Z",
     "start_time": "2021-01-26T17:39:39.468342Z"
    }
   },
   "outputs": [
    {
     "data": {
      "text/plain": [
       "array([[ 3,  6],\n",
       "       [ 5, 10],\n",
       "       [ 6, 12],\n",
       "       [ 8, 16]])"
      ]
     },
     "execution_count": 63,
     "metadata": {},
     "output_type": "execute_result"
    }
   ],
   "source": [
    "X @ a"
   ]
  },
  {
   "cell_type": "code",
   "execution_count": 21,
   "metadata": {
    "ExecuteTime": {
     "end_time": "2021-01-26T13:55:31.782622Z",
     "start_time": "2021-01-26T13:55:31.773621Z"
    },
    "scrolled": true
   },
   "outputs": [
    {
     "data": {
      "text/plain": [
       "array([[ 3,  6],\n",
       "       [ 5, 10],\n",
       "       [ 6, 12],\n",
       "       [ 8, 16]])"
      ]
     },
     "execution_count": 21,
     "metadata": {},
     "output_type": "execute_result"
    }
   ],
   "source": [
    "Z = np.dot(X, a)\n",
    "Z"
   ]
  },
  {
   "cell_type": "code",
   "execution_count": 22,
   "metadata": {
    "ExecuteTime": {
     "end_time": "2021-01-26T13:55:31.792622Z",
     "start_time": "2021-01-26T13:55:31.785620Z"
    }
   },
   "outputs": [
    {
     "data": {
      "text/plain": [
       "(4, 2)"
      ]
     },
     "execution_count": 22,
     "metadata": {},
     "output_type": "execute_result"
    }
   ],
   "source": [
    "Z.shape"
   ]
  },
  {
   "cell_type": "markdown",
   "metadata": {},
   "source": [
    "- Действительно, мы молодцы и правильно помним, как умножать матрицы.\n",
    "- Однако, почему-то я упомянул бродкастинг\n",
    "- Давайте посмотрим на следующий пример"
   ]
  },
  {
   "cell_type": "code",
   "execution_count": 23,
   "metadata": {
    "ExecuteTime": {
     "end_time": "2021-01-26T13:55:31.807621Z",
     "start_time": "2021-01-26T13:55:31.795621Z"
    }
   },
   "outputs": [
    {
     "data": {
      "text/plain": [
       "array([1, 2, 2, 4])"
      ]
     },
     "execution_count": 23,
     "metadata": {},
     "output_type": "execute_result"
    }
   ],
   "source": [
    "b = np.array([1, 2, 2, 4])\n",
    "b"
   ]
  },
  {
   "cell_type": "code",
   "execution_count": 24,
   "metadata": {
    "ExecuteTime": {
     "end_time": "2021-01-26T13:55:31.818623Z",
     "start_time": "2021-01-26T13:55:31.810622Z"
    }
   },
   "outputs": [
    {
     "data": {
      "text/plain": [
       "(4,)"
      ]
     },
     "execution_count": 24,
     "metadata": {},
     "output_type": "execute_result"
    }
   ],
   "source": [
    "b.shape"
   ]
  },
  {
   "cell_type": "code",
   "execution_count": 25,
   "metadata": {
    "ExecuteTime": {
     "end_time": "2021-01-26T13:55:31.830620Z",
     "start_time": "2021-01-26T13:55:31.821618Z"
    }
   },
   "outputs": [
    {
     "data": {
      "text/plain": [
       "array([[1, 1],\n",
       "       [1, 2],\n",
       "       [2, 2],\n",
       "       [2, 3]])"
      ]
     },
     "execution_count": 25,
     "metadata": {},
     "output_type": "execute_result"
    }
   ],
   "source": [
    "X"
   ]
  },
  {
   "cell_type": "code",
   "execution_count": 26,
   "metadata": {
    "ExecuteTime": {
     "end_time": "2021-01-26T13:55:31.847618Z",
     "start_time": "2021-01-26T13:55:31.839618Z"
    }
   },
   "outputs": [
    {
     "data": {
      "text/plain": [
       "array([1, 2])"
      ]
     },
     "execution_count": 26,
     "metadata": {},
     "output_type": "execute_result"
    }
   ],
   "source": [
    "np.array([1, 2])"
   ]
  },
  {
   "cell_type": "code",
   "execution_count": 27,
   "metadata": {
    "ExecuteTime": {
     "end_time": "2021-01-26T13:55:31.858620Z",
     "start_time": "2021-01-26T13:55:31.851618Z"
    }
   },
   "outputs": [
    {
     "data": {
      "text/plain": [
       "(2,)"
      ]
     },
     "execution_count": 27,
     "metadata": {},
     "output_type": "execute_result"
    }
   ],
   "source": [
    "np.array([1, 2]).shape"
   ]
  },
  {
   "cell_type": "code",
   "execution_count": 28,
   "metadata": {
    "ExecuteTime": {
     "end_time": "2021-01-26T13:55:31.875618Z",
     "start_time": "2021-01-26T13:55:31.861619Z"
    }
   },
   "outputs": [
    {
     "data": {
      "text/plain": [
       "array([3, 5, 6, 8])"
      ]
     },
     "execution_count": 28,
     "metadata": {},
     "output_type": "execute_result"
    }
   ],
   "source": [
    "Y = np.dot(X, np.array([1, 2]))\n",
    "Y"
   ]
  },
  {
   "cell_type": "code",
   "execution_count": 29,
   "metadata": {
    "ExecuteTime": {
     "end_time": "2021-01-26T13:55:31.886616Z",
     "start_time": "2021-01-26T13:55:31.878619Z"
    }
   },
   "outputs": [
    {
     "data": {
      "text/plain": [
       "(4,)"
      ]
     },
     "execution_count": 29,
     "metadata": {},
     "output_type": "execute_result"
    }
   ],
   "source": [
    "Y.shape"
   ]
  },
  {
   "cell_type": "markdown",
   "metadata": {},
   "source": [
    "- Хм, результат тот же самый, но у нас нет кол-ва столбцов в векторах b и Y\n",
    "- Собственно, вот в чем разница"
   ]
  },
  {
   "cell_type": "code",
   "execution_count": 30,
   "metadata": {
    "ExecuteTime": {
     "end_time": "2021-01-26T13:55:31.897617Z",
     "start_time": "2021-01-26T13:55:31.889619Z"
    }
   },
   "outputs": [
    {
     "data": {
      "text/plain": [
       "(4, 2)"
      ]
     },
     "execution_count": 30,
     "metadata": {},
     "output_type": "execute_result"
    }
   ],
   "source": [
    "Z.shape"
   ]
  },
  {
   "cell_type": "code",
   "execution_count": 31,
   "metadata": {
    "ExecuteTime": {
     "end_time": "2021-01-26T13:55:31.908615Z",
     "start_time": "2021-01-26T13:55:31.900619Z"
    }
   },
   "outputs": [
    {
     "data": {
      "text/plain": [
       "array([[ 3,  5,  6,  8],\n",
       "       [ 6, 10, 12, 16]])"
      ]
     },
     "execution_count": 31,
     "metadata": {},
     "output_type": "execute_result"
    }
   ],
   "source": [
    "Z.T"
   ]
  },
  {
   "cell_type": "code",
   "execution_count": 32,
   "metadata": {
    "ExecuteTime": {
     "end_time": "2021-01-26T13:55:31.919623Z",
     "start_time": "2021-01-26T13:55:31.911621Z"
    }
   },
   "outputs": [
    {
     "data": {
      "text/plain": [
       "False"
      ]
     },
     "execution_count": 32,
     "metadata": {},
     "output_type": "execute_result"
    }
   ],
   "source": [
    "Z.shape == Z.T.shape"
   ]
  },
  {
   "cell_type": "code",
   "execution_count": 33,
   "metadata": {
    "ExecuteTime": {
     "end_time": "2021-01-26T13:55:31.931622Z",
     "start_time": "2021-01-26T13:55:31.921621Z"
    }
   },
   "outputs": [
    {
     "data": {
      "text/plain": [
       "(4,)"
      ]
     },
     "execution_count": 33,
     "metadata": {},
     "output_type": "execute_result"
    }
   ],
   "source": [
    "Y.shape"
   ]
  },
  {
   "cell_type": "code",
   "execution_count": 34,
   "metadata": {
    "ExecuteTime": {
     "end_time": "2021-01-26T13:55:31.943617Z",
     "start_time": "2021-01-26T13:55:31.934621Z"
    }
   },
   "outputs": [
    {
     "data": {
      "text/plain": [
       "True"
      ]
     },
     "execution_count": 34,
     "metadata": {},
     "output_type": "execute_result"
    }
   ],
   "source": [
    "Y.shape == Y.T.shape"
   ]
  },
  {
   "attachments": {
    "image.png": {
     "image/png": "[encoded data removed]"
    }
   },
   "cell_type": "markdown",
   "metadata": {},
   "source": [
    "![image.png](attachment:image.png)"
   ]
  },
  {
   "cell_type": "markdown",
   "metadata": {},
   "source": [
    "- На практике\n",
    "- Мы взяли и умножили матрицу Z на следующую матрицу"
   ]
  },
  {
   "cell_type": "code",
   "execution_count": 35,
   "metadata": {
    "ExecuteTime": {
     "end_time": "2021-01-26T13:55:31.955619Z",
     "start_time": "2021-01-26T13:55:31.946626Z"
    }
   },
   "outputs": [
    {
     "data": {
      "text/plain": [
       "array([2, 4])"
      ]
     },
     "execution_count": 35,
     "metadata": {},
     "output_type": "execute_result"
    }
   ],
   "source": [
    "c = np.array([2, 4])\n",
    "c"
   ]
  },
  {
   "cell_type": "code",
   "execution_count": 36,
   "metadata": {
    "ExecuteTime": {
     "end_time": "2021-01-26T13:55:31.965620Z",
     "start_time": "2021-01-26T13:55:31.958618Z"
    }
   },
   "outputs": [
    {
     "data": {
      "text/plain": [
       "(2,)"
      ]
     },
     "execution_count": 36,
     "metadata": {},
     "output_type": "execute_result"
    }
   ],
   "source": [
    "c.shape"
   ]
  },
  {
   "cell_type": "markdown",
   "metadata": {},
   "source": [
    "- Вот мы взяли и забыли, что матрица размерность 1x2, но при этом мы ее создали так, как выше\n",
    "- По идее матрица 4x2 не может быть умножена на матрицу 1х2"
   ]
  },
  {
   "cell_type": "code",
   "execution_count": 37,
   "metadata": {
    "ExecuteTime": {
     "end_time": "2021-01-26T13:55:31.978619Z",
     "start_time": "2021-01-26T13:55:31.968620Z"
    }
   },
   "outputs": [
    {
     "data": {
      "text/plain": [
       "array([[ 3,  6],\n",
       "       [ 5, 10],\n",
       "       [ 6, 12],\n",
       "       [ 8, 16]])"
      ]
     },
     "execution_count": 37,
     "metadata": {},
     "output_type": "execute_result"
    }
   ],
   "source": [
    "Z"
   ]
  },
  {
   "cell_type": "code",
   "execution_count": 38,
   "metadata": {
    "ExecuteTime": {
     "end_time": "2021-01-26T13:55:31.990615Z",
     "start_time": "2021-01-26T13:55:31.980617Z"
    }
   },
   "outputs": [
    {
     "data": {
      "text/plain": [
       "array([30, 50, 60, 80])"
      ]
     },
     "execution_count": 38,
     "metadata": {},
     "output_type": "execute_result"
    }
   ],
   "source": [
    "np.dot(Z, c)"
   ]
  },
  {
   "cell_type": "markdown",
   "metadata": {},
   "source": [
    "- Умножение произошло потому что матрица c была \"перевернута\" в матрицу 2х1, чтобы перемножение матриц произошло\n",
    "- Для того чтобы такого не происходило, надо в явном виде прописывать размерность матриц"
   ]
  },
  {
   "cell_type": "code",
   "execution_count": 39,
   "metadata": {
    "ExecuteTime": {
     "end_time": "2021-01-26T13:55:31.999625Z",
     "start_time": "2021-01-26T13:55:31.993626Z"
    }
   },
   "outputs": [],
   "source": [
    "c = c.reshape([1, 2])"
   ]
  },
  {
   "cell_type": "code",
   "execution_count": 40,
   "metadata": {
    "ExecuteTime": {
     "end_time": "2021-01-26T13:55:32.012623Z",
     "start_time": "2021-01-26T13:55:32.002623Z"
    }
   },
   "outputs": [
    {
     "data": {
      "text/plain": [
       "(1, 2)"
      ]
     },
     "execution_count": 40,
     "metadata": {},
     "output_type": "execute_result"
    }
   ],
   "source": [
    "c.shape"
   ]
  },
  {
   "cell_type": "code",
   "execution_count": 41,
   "metadata": {
    "ExecuteTime": {
     "end_time": "2021-01-26T13:55:32.558612Z",
     "start_time": "2021-01-26T13:55:32.015625Z"
    }
   },
   "outputs": [
    {
     "ename": "ValueError",
     "evalue": "shapes (4,2) and (1,2) not aligned: 2 (dim 1) != 1 (dim 0)",
     "output_type": "error",
     "traceback": [
      "\u001b[1;31m---------------------------------------------------------------------------\u001b[0m",
      "\u001b[1;31mValueError\u001b[0m                                Traceback (most recent call last)",
      "\u001b[1;32m<ipython-input-41-cf644cd233f0>\u001b[0m in \u001b[0;36m<module>\u001b[1;34m\u001b[0m\n\u001b[1;32m----> 1\u001b[1;33m \u001b[0mnp\u001b[0m\u001b[1;33m.\u001b[0m\u001b[0mdot\u001b[0m\u001b[1;33m(\u001b[0m\u001b[0mZ\u001b[0m\u001b[1;33m,\u001b[0m \u001b[0mc\u001b[0m\u001b[1;33m)\u001b[0m\u001b[1;33m\u001b[0m\u001b[1;33m\u001b[0m\u001b[0m\n\u001b[0m",
      "\u001b[1;32m<__array_function__ internals>\u001b[0m in \u001b[0;36mdot\u001b[1;34m(*args, **kwargs)\u001b[0m\n",
      "\u001b[1;31mValueError\u001b[0m: shapes (4,2) and (1,2) not aligned: 2 (dim 1) != 1 (dim 0)"
     ]
    }
   ],
   "source": [
    "np.dot(Z, c)"
   ]
  },
  {
   "cell_type": "code",
   "execution_count": 42,
   "metadata": {
    "ExecuteTime": {
     "end_time": "2021-01-26T13:56:38.860587Z",
     "start_time": "2021-01-26T13:56:38.854590Z"
    }
   },
   "outputs": [],
   "source": [
    "# Ну или с самого начала создавать со всеми измерениями\n",
    "d = np.array([[2, 4]])"
   ]
  },
  {
   "cell_type": "code",
   "execution_count": 43,
   "metadata": {
    "ExecuteTime": {
     "end_time": "2021-01-26T13:56:39.334596Z",
     "start_time": "2021-01-26T13:56:39.326583Z"
    }
   },
   "outputs": [
    {
     "data": {
      "text/plain": [
       "(1, 2)"
      ]
     },
     "execution_count": 43,
     "metadata": {},
     "output_type": "execute_result"
    }
   ],
   "source": [
    "d.shape"
   ]
  },
  {
   "cell_type": "code",
   "execution_count": 44,
   "metadata": {
    "ExecuteTime": {
     "end_time": "2021-01-26T13:56:39.775579Z",
     "start_time": "2021-01-26T13:56:39.756582Z"
    }
   },
   "outputs": [
    {
     "ename": "ValueError",
     "evalue": "shapes (4,2) and (1,2) not aligned: 2 (dim 1) != 1 (dim 0)",
     "output_type": "error",
     "traceback": [
      "\u001b[1;31m---------------------------------------------------------------------------\u001b[0m",
      "\u001b[1;31mValueError\u001b[0m                                Traceback (most recent call last)",
      "\u001b[1;32m<ipython-input-44-040c2a836c5e>\u001b[0m in \u001b[0;36m<module>\u001b[1;34m\u001b[0m\n\u001b[1;32m----> 1\u001b[1;33m \u001b[0mnp\u001b[0m\u001b[1;33m.\u001b[0m\u001b[0mdot\u001b[0m\u001b[1;33m(\u001b[0m\u001b[0mZ\u001b[0m\u001b[1;33m,\u001b[0m \u001b[0md\u001b[0m\u001b[1;33m)\u001b[0m\u001b[1;33m\u001b[0m\u001b[1;33m\u001b[0m\u001b[0m\n\u001b[0m",
      "\u001b[1;32m<__array_function__ internals>\u001b[0m in \u001b[0;36mdot\u001b[1;34m(*args, **kwargs)\u001b[0m\n",
      "\u001b[1;31mValueError\u001b[0m: shapes (4,2) and (1,2) not aligned: 2 (dim 1) != 1 (dim 0)"
     ]
    }
   ],
   "source": [
    "np.dot(Z, d)"
   ]
  },
  {
   "cell_type": "markdown",
   "metadata": {
    "solution2": "shown",
    "solution2_first": true
   },
   "source": [
    "- Как вы думаете, всегда ли `NumPy` будет перемножать вектора у которых нет жесткой спецификации размерности?\n",
    "- Попробуйте перемножить матрицу Y и c"
   ]
  },
  {
   "cell_type": "code",
   "execution_count": 65,
   "metadata": {
    "ExecuteTime": {
     "end_time": "2021-01-26T17:48:08.870804Z",
     "start_time": "2021-01-26T17:48:08.862801Z"
    }
   },
   "outputs": [
    {
     "data": {
      "text/plain": [
       "(1000,)"
      ]
     },
     "execution_count": 65,
     "metadata": {},
     "output_type": "execute_result"
    }
   ],
   "source": [
    "Y.shape"
   ]
  },
  {
   "cell_type": "code",
   "execution_count": 66,
   "metadata": {
    "ExecuteTime": {
     "end_time": "2021-01-26T17:48:34.711925Z",
     "start_time": "2021-01-26T17:48:34.680921Z"
    },
    "solution2": "shown"
   },
   "outputs": [
    {
     "ename": "ValueError",
     "evalue": "shapes (1000,) and (2,) not aligned: 1000 (dim 0) != 2 (dim 0)",
     "output_type": "error",
     "traceback": [
      "\u001b[1;31m---------------------------------------------------------------------------\u001b[0m",
      "\u001b[1;31mValueError\u001b[0m                                Traceback (most recent call last)",
      "\u001b[1;32m<ipython-input-66-3be78781d6b1>\u001b[0m in \u001b[0;36m<module>\u001b[1;34m\u001b[0m\n\u001b[0;32m      1\u001b[0m \u001b[0mc\u001b[0m \u001b[1;33m=\u001b[0m \u001b[0mnp\u001b[0m\u001b[1;33m.\u001b[0m\u001b[0marray\u001b[0m\u001b[1;33m(\u001b[0m\u001b[1;33m[\u001b[0m\u001b[1;36m1\u001b[0m\u001b[1;33m,\u001b[0m \u001b[1;36m2\u001b[0m\u001b[1;33m]\u001b[0m\u001b[1;33m)\u001b[0m\u001b[1;33m\u001b[0m\u001b[1;33m\u001b[0m\u001b[0m\n\u001b[1;32m----> 2\u001b[1;33m \u001b[0mnp\u001b[0m\u001b[1;33m.\u001b[0m\u001b[0mdot\u001b[0m\u001b[1;33m(\u001b[0m\u001b[0mY\u001b[0m\u001b[1;33m,\u001b[0m \u001b[0mc\u001b[0m\u001b[1;33m)\u001b[0m\u001b[1;33m\u001b[0m\u001b[1;33m\u001b[0m\u001b[0m\n\u001b[0m",
      "\u001b[1;32m<__array_function__ internals>\u001b[0m in \u001b[0;36mdot\u001b[1;34m(*args, **kwargs)\u001b[0m\n",
      "\u001b[1;31mValueError\u001b[0m: shapes (1000,) and (2,) not aligned: 1000 (dim 0) != 2 (dim 0)"
     ]
    }
   ],
   "source": [
    "c = np.array([1, 2])\n",
    "np.dot(Y, c)"
   ]
  },
  {
   "cell_type": "markdown",
   "metadata": {},
   "source": [
    "- Наконец, по поводу обращения матриц\n",
    "- Я не буду особо погружать вас в теорию\n",
    "- Простое определение обратной матрицы звучит так:\n",
    "    - Матрица $A^{-1}$ называется обратной матрицей, если $A \\cdot A^{-1} = E$, где $E$ - матрица, у которой на диагонали стоят единицы (единичная матрица). Обратная матрица существует только у квадратных матриц (2х2, 3х3 и т.п.)\n",
    "- Это все нам с вами (и не только нам) нужно, чтобы решать линейные уравнения"
   ]
  },
  {
   "cell_type": "markdown",
   "metadata": {},
   "source": [
    "- Вспомним системы линейных уравнений и школу:\n",
    "    - В школьной столовой есть сосиски в тесте и компот\n",
    "    - Школьники потребляют некое количество обоих продуктов\n",
    "    - Выручка столовой составляет 2000 ед.\n",
    "    - Цена одной сосиски в тесте составляет 30 ед., а компота 10 ед.\n",
    "    - Также, известно, что сосисок в тесте было продано на 50 ед. больше, чем компотов\n",
    "    - Надо найти количество проданных сосисок в тесте и компотов\n",
    "- Собственно выглядит это все вот так:\n",
    "$$\\begin{cases}\n",
    "30 \\cdot x + 10 \\cdot y = 2000 \\\\\n",
    "x - y = 50 \\\\\n",
    "\\end{cases}$$\n",
    "- С другой стороны, это можно записать как:\n",
    "$$ AX = b, \\text{ где }$$  \n",
    "$$\n",
    "A = \\begin{pmatrix}\n",
    "30 & 10 \\\\\n",
    "1 & -1\n",
    "\\end{pmatrix}, X = \\begin{pmatrix}\n",
    "x \\\\\n",
    "y \\\\\n",
    "\\end{pmatrix}, b = \\begin{pmatrix}\n",
    "2000 \\\\\n",
    "50 \\\\\n",
    "\\end{pmatrix}$$  \n",
    "- Понятно, что мы можем с вами решать эту систему линейных уравнений всевозможными способами, но в дальнейшем было бы неплохо не бояться оборачивать матрицы (особенно, учитывая, что вам нужна всего лишь строчка кода).\n",
    "- Собственно, если вы помните, мы можем выразить матрицу $X$ как:\n",
    "$$X = A^{-1}b$$"
   ]
  },
  {
   "cell_type": "markdown",
   "metadata": {
    "solution2": "shown",
    "solution2_first": true
   },
   "source": [
    "- Найти обратную матрицу A можно самим. Она квадртаная 2х2, поэтому давайте проделаем это руками. Все же помнят, да?"
   ]
  },
  {
   "cell_type": "markdown",
   "metadata": {
    "solution2": "shown"
   },
   "source": [
    "$$A^{-1} = \\begin{pmatrix}\n",
    "0.025 & 0.25 \\\\\n",
    "0.025 & -0.75 \\\\\n",
    "\\end{pmatrix} $$"
   ]
  },
  {
   "cell_type": "markdown",
   "metadata": {},
   "source": [
    "- А теперь сделаем это с помощью `NumPy`"
   ]
  },
  {
   "cell_type": "code",
   "execution_count": 46,
   "metadata": {
    "ExecuteTime": {
     "end_time": "2021-01-26T13:56:57.698114Z",
     "start_time": "2021-01-26T13:56:57.694110Z"
    }
   },
   "outputs": [],
   "source": [
    "A = np.array([[30, 10], [1, -1]])"
   ]
  },
  {
   "cell_type": "code",
   "execution_count": 47,
   "metadata": {
    "ExecuteTime": {
     "end_time": "2021-01-26T13:56:58.106230Z",
     "start_time": "2021-01-26T13:56:58.099223Z"
    }
   },
   "outputs": [
    {
     "data": {
      "text/plain": [
       "(2, 2)"
      ]
     },
     "execution_count": 47,
     "metadata": {},
     "output_type": "execute_result"
    }
   ],
   "source": [
    "A.shape"
   ]
  },
  {
   "cell_type": "code",
   "execution_count": 48,
   "metadata": {
    "ExecuteTime": {
     "end_time": "2021-01-26T13:56:58.366229Z",
     "start_time": "2021-01-26T13:56:58.351220Z"
    }
   },
   "outputs": [],
   "source": [
    "A1 = np.linalg.inv(A)"
   ]
  },
  {
   "cell_type": "code",
   "execution_count": 49,
   "metadata": {
    "ExecuteTime": {
     "end_time": "2021-01-26T13:56:58.916311Z",
     "start_time": "2021-01-26T13:56:58.909311Z"
    }
   },
   "outputs": [
    {
     "data": {
      "text/plain": [
       "array([[ 0.025,  0.25 ],\n",
       "       [ 0.025, -0.75 ]])"
      ]
     },
     "execution_count": 49,
     "metadata": {},
     "output_type": "execute_result"
    }
   ],
   "source": [
    "A1"
   ]
  },
  {
   "cell_type": "code",
   "execution_count": 50,
   "metadata": {
    "ExecuteTime": {
     "end_time": "2021-01-26T13:56:59.148309Z",
     "start_time": "2021-01-26T13:56:59.142308Z"
    }
   },
   "outputs": [],
   "source": [
    "b = np.array([[2000], [50]])"
   ]
  },
  {
   "cell_type": "code",
   "execution_count": 51,
   "metadata": {
    "ExecuteTime": {
     "end_time": "2021-01-26T13:56:59.354306Z",
     "start_time": "2021-01-26T13:56:59.346309Z"
    }
   },
   "outputs": [
    {
     "data": {
      "text/plain": [
       "array([[62.5],\n",
       "       [12.5]])"
      ]
     },
     "execution_count": 51,
     "metadata": {},
     "output_type": "execute_result"
    }
   ],
   "source": [
    "np.dot(A1, b)"
   ]
  },
  {
   "cell_type": "markdown",
   "metadata": {},
   "source": [
    "##### Немного практики"
   ]
  },
  {
   "cell_type": "code",
   "execution_count": 67,
   "metadata": {
    "ExecuteTime": {
     "end_time": "2021-01-26T17:54:54.225330Z",
     "start_time": "2021-01-26T17:54:54.219333Z"
    }
   },
   "outputs": [],
   "source": [
    "np.random.seed(1)"
   ]
  },
  {
   "cell_type": "code",
   "execution_count": 68,
   "metadata": {
    "ExecuteTime": {
     "end_time": "2021-01-26T17:54:54.803334Z",
     "start_time": "2021-01-26T17:54:54.791330Z"
    }
   },
   "outputs": [],
   "source": [
    "X = np.random.normal(loc = 0, scale = 1, size = 1000)\n",
    "eps = np.random.normal(loc = 0, scale = 2, size = 1000)\n",
    "Y = 100 + 20 * X + eps"
   ]
  },
  {
   "cell_type": "markdown",
   "metadata": {
    "solution2": "shown",
    "solution2_first": true
   },
   "source": [
    "- Есть матрицы $X$ и $Y$. Нам с вами нужно посчитать:\n",
    "    - $(X'X)^{-1}$\n",
    "    - $X'Y$"
   ]
  }
 ],
 "metadata": {
  "kernelspec": {
   "display_name": "Python 3 (ipykernel)",
   "language": "python",
   "name": "python3"
  },
  "language_info": {
   "codemirror_mode": {
    "name": "ipython",
    "version": 3
   },
   "file_extension": ".py",
   "mimetype": "text/x-python",
   "name": "python",
   "nbconvert_exporter": "python",
   "pygments_lexer": "ipython3",
   "version": "3.8.11"
  },
  "toc": {
   "base_numbering": 1,
   "nav_menu": {},
   "number_sections": true,
   "sideBar": true,
   "skip_h1_title": true,
   "title_cell": "Table of Contents",
   "title_sidebar": "Contents",
   "toc_cell": false,
   "toc_position": {
    "height": "calc(100% - 180px)",
    "left": "10px",
    "top": "150px",
    "width": "242.266px"
   },
   "toc_section_display": true,
   "toc_window_display": false
  },
  "varInspector": {
   "cols": {
    "lenName": 16,
    "lenType": 16,
    "lenVar": 40
   },
   "kernels_config": {
    "python": {
     "delete_cmd_postfix": "",
     "delete_cmd_prefix": "del ",
     "library": "var_list.py",
     "varRefreshCmd": "print(var_dic_list())"
    },
    "r": {
     "delete_cmd_postfix": ") ",
     "delete_cmd_prefix": "rm(",
     "library": "var_list.r",
     "varRefreshCmd": "cat(var_dic_list()) "
    }
   },
   "oldHeight": 346.667,
   "position": {
    "height": "40px",
    "left": "830.667px",
    "right": "20px",
    "top": "114px",
    "width": "350px"
   },
   "types_to_exclude": [
    "module",
    "function",
    "builtin_function_or_method",
    "instance",
    "_Feature"
   ],
   "varInspector_section_display": "none",
   "window_display": false
  }
 },
 "nbformat": 4,
 "nbformat_minor": 4
}
